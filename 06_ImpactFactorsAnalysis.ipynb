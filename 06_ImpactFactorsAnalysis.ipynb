{
 "cells": [
  {
   "cell_type": "markdown",
   "metadata": {},
   "source": [
    "# 1. Data Preperation"
   ]
  },
  {
   "cell_type": "code",
   "execution_count": 1,
   "metadata": {},
   "outputs": [],
   "source": [
    "import numpy as np\n",
    "import pandas as pd\n",
    "import geopandas as gpd\n",
    "import statsmodels.api as sm\n",
    "from mgwr.gwr import MGWR\n",
    "from mgwr.gwr import GWR\n",
    "from mgwr.sel_bw import Sel_BW\n",
    "from libpysal.weights import KNN\n",
    "from esda.moran import Moran\n",
    "import logging\n",
    "import matplotlib.pyplot as plt\n",
    "from shapely import is_valid, make_valid\n",
    "from sklearn.preprocessing import StandardScaler\n",
    "import seaborn as sns\n",
    "from sklearn.model_selection import KFold\n",
    "from mgwr.gwr import MGWR\n",
    "from sklearn.model_selection import train_test_split\n",
    "from scipy.spatial.distance import cdist  # Import cdist for distance calculations\n",
    "\n"
   ]
  },
  {
   "cell_type": "code",
   "execution_count": 2,
   "metadata": {},
   "outputs": [
    {
     "name": "stdout",
     "output_type": "stream",
     "text": [
      "Loaded parks_gdf with columns: Index(['osm_id', 'OBJECTID', 'FEATURE_ANAME', 'MUNICIPALITY', 'DISTRICT',\n",
      "       'WALKING_TRACK', 'GREEN_AREAS', 'LAYERID', 'LAYERANAME', 'Validation',\n",
      "       'Park_id', 'area_m2', 'perimeter_m', 'LSI', 'ndvi_mean',\n",
      "       'ndvi_pixel_count', 'pisi_mean', 'pisi_pixel_count', 'building_density',\n",
      "       'building_proximity', 'lst_buffer_30m', 'lst_buffer_60m',\n",
      "       'lst_buffer_90m', 'lst_buffer_120m', 'lst_buffer_150m',\n",
      "       'lst_buffer_180m', 'lst_buffer_210m', 'lst_buffer_240m',\n",
      "       'lst_buffer_270m', 'lst_buffer_300m', 'lst_park', 'park_pixel_count',\n",
      "       'lst_surrounding_mean', 'lst_reduction', 'lst_data', 'cubic_coeffs',\n",
      "       'r_squared', 'PCD', 'PCI', 'PCA', 'PCE', 'PCD_source', 'geometry'],\n",
      "      dtype='object')\n"
     ]
    }
   ],
   "source": [
    "#Load parks data\n",
    "parks_lst_gdf = gpd.read_file('Data/Riyadh_parks_with_LST.geojson')\n",
    "print(\"Loaded parks_gdf with columns:\", parks_lst_gdf.columns) "
   ]
  },
  {
   "cell_type": "markdown",
   "metadata": {},
   "source": [
    "## 1. Checking parks selection criteria"
   ]
  },
  {
   "cell_type": "markdown",
   "metadata": {},
   "source": [
    "- Remove Parks that are close to each other (within 300m) as the effect will be overlapping\n",
    "- Remove Parks with only 2 Pixels overlap\n"
   ]
  },
  {
   "cell_type": "code",
   "execution_count": 3,
   "metadata": {},
   "outputs": [],
   "source": [
    "# Create a new DataFrame to avoid modifying the original\n",
    "filtered_parks_gdf = parks_lst_gdf.copy()"
   ]
  },
  {
   "cell_type": "code",
   "execution_count": 4,
   "metadata": {},
   "outputs": [
    {
     "name": "stdout",
     "output_type": "stream",
     "text": [
      "Number of parks removed: 25\n",
      "Original number of parks: 219\n",
      "New number of parks: 194\n",
      "Removed Park IDs: [21.0, 26.0, 38.0, 41.0, 50.0, 63.0, 64.0, 65.0, 69.0, 75.0, 77.0, 79.0, 80.0, 83.0, 84.0, 87.0, 88.0, 89.0, 114.0, 137.0, 140.0, 154.0, 169.0, 170.0, 182.0]\n"
     ]
    }
   ],
   "source": [
    "# Extract centroids for distance calculation\n",
    "centroids = filtered_parks_gdf.copy()\n",
    "centroids['geometry'] = centroids.geometry.centroid\n",
    "\n",
    "# Initialize a set to track parks to remove (both from each close pair)\n",
    "parks_to_remove = set()\n",
    "\n",
    "# Calculate pairwise distances and identify close pairs (<300m)\n",
    "for i, park1 in centroids.iterrows():\n",
    "    for j, park2 in centroids.iterrows():\n",
    "        if i < j:  # Avoid duplicate pairs and self-comparison\n",
    "            dist = park1.geometry.distance(park2.geometry)\n",
    "            if dist < 300:  # 300m threshold based on max buffer radius\n",
    "                parks_to_remove.add(park1['Park_id'])\n",
    "                parks_to_remove.add(park2['Park_id'])\n",
    "\n",
    "# Remove both parks from each close pair\n",
    "filtered_parks_gdf = filtered_parks_gdf[~filtered_parks_gdf['Park_id'].isin(parks_to_remove)]\n",
    "\n",
    "# Summary of changes\n",
    "num_removed = len(parks_lst_gdf) - len(filtered_parks_gdf)\n",
    "print(f\"Number of parks removed: {num_removed}\")\n",
    "print(f\"Original number of parks: {len(parks_lst_gdf)}\")\n",
    "print(f\"New number of parks: {len(filtered_parks_gdf)}\")\n",
    "print(f\"Removed Park IDs: {sorted(list(parks_to_remove))}\")"
   ]
  },
  {
   "cell_type": "code",
   "execution_count": 5,
   "metadata": {},
   "outputs": [],
   "source": [
    " # Filter parks with sufficient pixels\n",
    "filtered_parks_gdf = filtered_parks_gdf[filtered_parks_gdf['park_pixel_count'] > 2] "
   ]
  },
  {
   "cell_type": "markdown",
   "metadata": {},
   "source": [
    "## 2. Date Preperation "
   ]
  },
  {
   "cell_type": "code",
   "execution_count": 6,
   "metadata": {},
   "outputs": [
    {
     "name": "stdout",
     "output_type": "stream",
     "text": [
      "Rows after filtering (park_pixel_count > 2): 158\n"
     ]
    }
   ],
   "source": [
    "data_gdf = filtered_parks_gdf.copy()\n",
    "print(f\"Rows after filtering (park_pixel_count > 2): {len(data_gdf)}\")"
   ]
  },
  {
   "cell_type": "code",
   "execution_count": 7,
   "metadata": {},
   "outputs": [
    {
     "name": "stdout",
     "output_type": "stream",
     "text": [
      "Warning: 1 invalid geometries detected, repairing.\n",
      "Invalid Park IDs: [155.0]\n"
     ]
    }
   ],
   "source": [
    "# Repair invalid geometries\n",
    "invalid_count = (~data_gdf.geometry.is_valid).sum()\n",
    "if invalid_count > 0:\n",
    "    print(f\"Warning: {invalid_count} invalid geometries detected, repairing.\")\n",
    "    invalid_ids = data_gdf[~data_gdf.geometry.is_valid]['Park_id'].tolist()\n",
    "    print(f\"Invalid Park IDs: {invalid_ids}\")\n",
    "    data_gdf['geometry'] = data_gdf['geometry'].apply(lambda geom: make_valid(geom) if not is_valid(geom) else geom)"
   ]
  },
  {
   "cell_type": "code",
   "execution_count": 8,
   "metadata": {},
   "outputs": [],
   "source": [
    "# Log-transform skewed variables\n",
    "data_gdf['log_area_m2'] = np.log(data_gdf['area_m2'] + 1)\n"
   ]
  },
  {
   "cell_type": "code",
   "execution_count": 9,
   "metadata": {},
   "outputs": [],
   "source": [
    "# Define predictors and cooling metrics\n",
    "predictors = ['log_area_m2', 'ndvi_mean', 'pisi_mean', 'LSI', 'building_density', 'building_proximity']\n",
    "cooling_metrics = [ 'PCI', 'PCA', 'PCE']\n",
    "\n",
    "# Standardize predictors\n",
    "scaler = StandardScaler()\n",
    "X = scaler.fit_transform(data_gdf[predictors])\n",
    "\n",
    "# Extract coordinates (centroids of park geometries)\n",
    "data_gdf['centroid'] = data_gdf.geometry.centroid\n",
    "coords = np.array(list(zip(data_gdf.centroid.x, data_gdf.centroid.y)))\n",
    "\n",
    "# Create spatial weights using KNN (k=4)\n",
    "w = KNN.from_dataframe(data_gdf, k=4)\n",
    "w.transform = 'r'"
   ]
  },
  {
   "cell_type": "markdown",
   "metadata": {},
   "source": [
    " ## 3. Analysis"
   ]
  },
  {
   "cell_type": "markdown",
   "metadata": {},
   "source": [
    "### 3.1 Define Reusable Functions"
   ]
  },
  {
   "cell_type": "code",
   "execution_count": 10,
   "metadata": {},
   "outputs": [],
   "source": [
    "# Set up logging for debugging\n",
    "logging.basicConfig(level=logging.INFO)\n",
    "logger = logging.getLogger(__name__)\n"
   ]
  },
  {
   "cell_type": "code",
   "execution_count": 11,
   "metadata": {},
   "outputs": [],
   "source": [
    "def run_ols_regression(data_gdf, metric, predictors, w, scaler):  # Perform OLS regression\n",
    "    X = scaler.transform(data_gdf[predictors])  # Apply existing standardization\n",
    "    y = data_gdf[metric].values  # Extract dependent variable\n",
    "    X_ols = sm.add_constant(X)  # Add constant term\n",
    "    model = sm.OLS(y, X_ols).fit()  # Fit OLS model\n",
    "    moran = Moran(model.resid, w)  # Compute Moran's I for residuals\n",
    "    return {\n",
    "        'model': model,  # Store fitted model\n",
    "        'summary': model.summary(),  # Store summary statistics\n",
    "        'moran_i': moran.I,  # Store Moran's I\n",
    "        'moran_p': moran.p_norm  # Store p-value\n",
    "    }"
   ]
  },
  {
   "cell_type": "code",
   "execution_count": 12,
   "metadata": {},
   "outputs": [],
   "source": [
    "def run_mgwr_regression(data_gdf, metric, predictors, coords, w, n_samples, scaler):\n",
    "    X = scaler.transform(data_gdf[predictors])  # Apply existing standardization\n",
    "    y = data_gdf[metric].values.reshape(-1, 1)  # Reshape dependent variable\n",
    "    selector = Sel_BW(coords, y, X, multi=True, kernel='bisquare', fixed=False)  # Initialize bandwidth selector\n",
    "    bw = selector.search(criterion='AICc')  # Use AICc for bandwidth optimization\n",
    "    if bw is None or any(b > n_samples - 1 for b in bw):  # Check for invalid bandwidths\n",
    "        logger.warning(f\"Invalid bandwidths for {metric}. Falling back to half sample size.\")\n",
    "        bw = np.full(len(predictors) + 1, max(2, n_samples // 2), dtype=int)  # Use fallback bandwidth\n",
    "    mgwr_model = MGWR(coords, y, X, selector, fixed=False, kernel='bisquare')  # Initialize MGWR model\n",
    "    mgwr_results_metric = mgwr_model.fit()  # Fit MGWR model\n",
    "    return {'model': mgwr_results_metric, 'bandwidths': bw}  # Return fitted model and bandwidths"
   ]
  },
  {
   "cell_type": "code",
   "execution_count": 13,
   "metadata": {},
   "outputs": [],
   "source": [
    "def store_mgwr_results(data_gdf, metric, mgwr_results, predictor_names):  # Store MGWR results\n",
    "    mgwr_results_metric = mgwr_results['model']  # Extract model\n",
    "    for i, pred in enumerate(predictor_names):  # Iterate over predictors\n",
    "        data_gdf[f'{metric}_coef_{pred}'] = mgwr_results_metric.params[:, i]  # Store coefficients\n",
    "        data_gdf[f'{metric}_tval_{pred}'] = mgwr_results_metric.filter_tvals()[:, i]  # Store t-values\n",
    "    y_pred = mgwr_results_metric.predy.flatten()  # Flatten predicted values\n",
    "    y_true = data_gdf[metric].values  # Extract true values\n",
    "    local_r2_proxy = np.corrcoef(y_true, y_pred)[0, 1] ** 2  # Compute local R² proxy\n",
    "    data_gdf[f'{metric}_localR2_proxy'] = local_r2_proxy  # Store proxy"
   ]
  },
  {
   "cell_type": "markdown",
   "metadata": {},
   "source": [
    "### 3.2 PCI"
   ]
  },
  {
   "cell_type": "code",
   "execution_count": 14,
   "metadata": {},
   "outputs": [],
   "source": [
    "# ## 3.2 PCI\n",
    "#\n",
    "# Perform OLS and MGWR for Park Cooling Intensity (PCI) to assess its relationship with predictors,\n",
    "# using Bi-square kernel, AICc for bandwidth optimization, and SOCf for cross-validation,\n",
    "# following *Scientific Reports* (PAGE6, PAGE10) and *Building and Environment* (PAGE11).\n",
    "\n",
    "# Redefine spatial weights for this subsection\n",
    "w = KNN.from_dataframe(data_gdf, k=4)  # Create KNN weights with k=4 neighbors\n",
    "w.transform = 'r'  # Row-standardize weights\n",
    "\n",
    "# Define predictor names including constant\n",
    "predictor_names = ['const', 'log_area_m2', 'ndvi_mean', 'pisi_mean', 'LSI', 'building_density', 'building_proximity']\n",
    "\n",
    "\n"
   ]
  },
  {
   "cell_type": "code",
   "execution_count": 15,
   "metadata": {},
   "outputs": [
    {
     "name": "stdout",
     "output_type": "stream",
     "text": [
      "\n",
      "OLS Summary for PCI:\n",
      "                            OLS Regression Results                            \n",
      "==============================================================================\n",
      "Dep. Variable:                      y   R-squared:                       0.405\n",
      "Model:                            OLS   Adj. R-squared:                  0.381\n",
      "Method:                 Least Squares   F-statistic:                     17.10\n",
      "Date:                Sun, 27 Jul 2025   Prob (F-statistic):           5.04e-15\n",
      "Time:                        23:34:24   Log-Likelihood:                -185.92\n",
      "No. Observations:                 158   AIC:                             385.8\n",
      "Df Residuals:                     151   BIC:                             407.3\n",
      "Df Model:                           6                                         \n",
      "Covariance Type:            nonrobust                                         \n",
      "==============================================================================\n",
      "                 coef    std err          t      P>|t|      [0.025      0.975]\n",
      "------------------------------------------------------------------------------\n",
      "const          0.5823      0.064      9.116      0.000       0.456       0.708\n",
      "x1             0.4974      0.081      6.159      0.000       0.338       0.657\n",
      "x2             0.6147      0.106      5.814      0.000       0.406       0.824\n",
      "x3             0.3102      0.104      2.971      0.003       0.104       0.516\n",
      "x4            -0.1033      0.069     -1.490      0.138      -0.240       0.034\n",
      "x5            -0.2351      0.076     -3.080      0.002      -0.386      -0.084\n",
      "x6            -0.2830      0.087     -3.238      0.001      -0.456      -0.110\n",
      "==============================================================================\n",
      "Omnibus:                       30.746   Durbin-Watson:                   1.818\n",
      "Prob(Omnibus):                  0.000   Jarque-Bera (JB):               98.760\n",
      "Skew:                           0.690   Prob(JB):                     3.59e-22\n",
      "Kurtosis:                       6.619   Cond. No.                         3.10\n",
      "==============================================================================\n",
      "\n",
      "Notes:\n",
      "[1] Standard Errors assume that the covariance matrix of the errors is correctly specified.\n",
      "Moran's I for residuals: 0.1338, p-value: 0.0065\n",
      "OLS AIC: 385.8307\n"
     ]
    }
   ],
   "source": [
    "# Run OLS regression for PCI\n",
    "ols_pci = run_ols_regression(data_gdf, 'PCI', predictors, w, scaler)\n",
    "print(f\"\\nOLS Summary for PCI:\\n{ols_pci['summary']}\")\n",
    "print(f\"Moran's I for residuals: {ols_pci['moran_i']:.4f}, p-value: {ols_pci['moran_p']:.4f}\")\n",
    "print(f\"OLS AIC: {ols_pci['model'].aic:.4f}\")\n"
   ]
  },
  {
   "cell_type": "code",
   "execution_count": 16,
   "metadata": {},
   "outputs": [
    {
     "data": {
      "application/vnd.jupyter.widget-view+json": {
       "model_id": "38f4cd04517144cd8c2abe3d6354563b",
       "version_major": 2,
       "version_minor": 0
      },
      "text/plain": [
       "Backfitting:   0%|          | 0/200 [00:00<?, ?it/s]"
      ]
     },
     "metadata": {},
     "output_type": "display_data"
    },
    {
     "data": {
      "application/vnd.jupyter.widget-view+json": {
       "model_id": "05b914d8da57423cb19d68ac6c155254",
       "version_major": 2,
       "version_minor": 0
      },
      "text/plain": [
       "Inference:   0%|          | 0/1 [00:00<?, ?it/s]"
      ]
     },
     "metadata": {},
     "output_type": "display_data"
    },
    {
     "name": "stdout",
     "output_type": "stream",
     "text": [
      "\n",
      "MGWR Optimal Bandwidths for PCI: [ 91.  44. 156. 156. 152.  55. 156.]\n",
      "MGWR Summary for PCI:\n",
      "Global R2: 0.6728\n",
      "MGWR AIC: 330.2697\n"
     ]
    }
   ],
   "source": [
    "# Run MGWR regression for PCI with AICc\n",
    "mgwr_pci = run_mgwr_regression(data_gdf, 'PCI', predictors, coords, w, len(data_gdf), scaler)\n",
    "print(f\"\\nMGWR Optimal Bandwidths for PCI: {mgwr_pci['bandwidths']}\")\n",
    "print(f\"MGWR Summary for PCI:\")\n",
    "print(f\"Global R2: {mgwr_pci['model'].R2:.4f}\")\n",
    "print(f\"MGWR AIC: {mgwr_pci['model'].aic:.4f}\")"
   ]
  },
  {
   "cell_type": "code",
   "execution_count": 17,
   "metadata": {},
   "outputs": [
    {
     "name": "stdout",
     "output_type": "stream",
     "text": [
      "Local R2 Proxy: 0.6750\n"
     ]
    }
   ],
   "source": [
    "# Store MGWR results for PCI\n",
    "store_mgwr_results(data_gdf, 'PCI', mgwr_pci, predictor_names)\n",
    "print(f\"Local R2 Proxy: {data_gdf['PCI_localR2_proxy'].mean():.4f}\")"
   ]
  },
  {
   "cell_type": "markdown",
   "metadata": {},
   "source": [
    "**PCI** results show:\n",
    "- OLS: \n",
    "    - R-squared: 0.405 (moderate fit)\n",
    "    - Moran’s I (0.1338, p = 0.0065): Significant spatial autocorrelation in residuals\n",
    "    - The OLS model provides a global baseline but underperforms due to spatial non-stationarity, with significant predictors (log_area_m2, ndvi_mean, building_density, building_proximity) driving PCI, while LSI and pisi_mean are less influential globally.\n",
    "\n",
    "- MGWR:\n",
    "    - R²: 0.6728 (improved from 0.405) indicates that 67.28% of PCI variance is explained\n",
    "    - AIC: 330.2697 (lower than OLS’s 385.8) suggests a better fit\n",
    "    - Local R² Proxy: 0.6750 (mean value) is close to the global R², indicating consistent explanatory power across locations,"
   ]
  },
  {
   "cell_type": "code",
   "execution_count": 18,
   "metadata": {},
   "outputs": [
    {
     "data": {
      "image/png": "[encoded data removed]",
      "text/plain": [
       "<Figure size 640x480 with 1 Axes>"
      ]
     },
     "metadata": {},
     "output_type": "display_data"
    }
   ],
   "source": [
    "mgwr_residuals_pci = data_gdf['PCI'].values - mgwr_pci['model'].predy.flatten()\n",
    "plt.scatter(data_gdf['log_area_m2'], mgwr_residuals_pci, c='blue')\n",
    "plt.xlabel('Log Area (m²)')\n",
    "plt.ylabel('MGWR Residuals')\n",
    "plt.title('PCI Residuals vs. Log Area')\n",
    "plt.show()"
   ]
  },
  {
   "cell_type": "code",
   "execution_count": 19,
   "metadata": {},
   "outputs": [
    {
     "name": "stdout",
     "output_type": "stream",
     "text": [
      "Residual Normality Test for PCI: statistic = 3.9615, p-value = 0.1380\n"
     ]
    }
   ],
   "source": [
    "from scipy.stats import normaltest\n",
    "stat, p = normaltest(mgwr_residuals_pci)\n",
    "print(f\"Residual Normality Test for PCI: statistic = {stat:.4f}, p-value = {p:.4f}\")\n",
    "if p < 0.05:\n",
    "    print(\"  Residuals are not normally distributed, suggesting model limitations.\")"
   ]
  },
  {
   "cell_type": "code",
   "execution_count": 20,
   "metadata": {},
   "outputs": [
    {
     "name": "stdout",
     "output_type": "stream",
     "text": [
      "Shapiro-Wilk Normality Test for PCI: statistic = 0.9828, p-value = 0.0472\n",
      "  Residuals are not normally distributed.\n"
     ]
    }
   ],
   "source": [
    "from scipy.stats import shapiro\n",
    "stat, p = shapiro(mgwr_residuals_pci)\n",
    "print(f\"Shapiro-Wilk Normality Test for PCI: statistic = {stat:.4f}, p-value = {p:.4f}\")\n",
    "if p < 0.05:\n",
    "    print(\"  Residuals are not normally distributed.\")"
   ]
  },
  {
   "cell_type": "markdown",
   "metadata": {},
   "source": [
    "### 3.3 PCE"
   ]
  },
  {
   "cell_type": "code",
   "execution_count": 21,
   "metadata": {},
   "outputs": [
    {
     "name": "stdout",
     "output_type": "stream",
     "text": [
      "\n",
      "OLS Summary for PCE:\n",
      "                            OLS Regression Results                            \n",
      "==============================================================================\n",
      "Dep. Variable:                      y   R-squared:                       0.587\n",
      "Model:                            OLS   Adj. R-squared:                  0.571\n",
      "Method:                 Least Squares   F-statistic:                     35.77\n",
      "Date:                Sun, 27 Jul 2025   Prob (F-statistic):           1.05e-26\n",
      "Time:                        23:35:24   Log-Likelihood:                -420.54\n",
      "No. Observations:                 158   AIC:                             855.1\n",
      "Df Residuals:                     151   BIC:                             876.5\n",
      "Df Model:                           6                                         \n",
      "Covariance Type:            nonrobust                                         \n",
      "==============================================================================\n",
      "                 coef    std err          t      P>|t|      [0.025      0.975]\n",
      "------------------------------------------------------------------------------\n",
      "const          7.7022      0.282     27.315      0.000       7.145       8.259\n",
      "x1            -3.9524      0.357    -11.084      0.000      -4.657      -3.248\n",
      "x2             0.7145      0.467      1.531      0.128      -0.208       1.637\n",
      "x3             1.5047      0.461      3.265      0.001       0.594       2.415\n",
      "x4            -0.0207      0.306     -0.068      0.946      -0.625       0.584\n",
      "x5            -0.1285      0.337     -0.381      0.704      -0.794       0.537\n",
      "x6             0.1367      0.386      0.354      0.724      -0.625       0.899\n",
      "==============================================================================\n",
      "Omnibus:                        4.020   Durbin-Watson:                   2.118\n",
      "Prob(Omnibus):                  0.134   Jarque-Bera (JB):                3.812\n",
      "Skew:                           0.380   Prob(JB):                        0.149\n",
      "Kurtosis:                       3.029   Cond. No.                         3.10\n",
      "==============================================================================\n",
      "\n",
      "Notes:\n",
      "[1] Standard Errors assume that the covariance matrix of the errors is correctly specified.\n",
      "Moran's I for residuals: 0.0746, p-value: 0.1158\n",
      "OLS AIC: 855.0791\n"
     ]
    }
   ],
   "source": [
    "# Run OLS regression for PCE\n",
    "ols_pce = run_ols_regression(data_gdf, 'PCE', predictors, w, scaler)\n",
    "print(f\"\\nOLS Summary for PCE:\\n{ols_pce['summary']}\")\n",
    "print(f\"Moran's I for residuals: {ols_pce['moran_i']:.4f}, p-value: {ols_pce['moran_p']:.4f}\")\n",
    "print(f\"OLS AIC: {ols_pce['model'].aic:.4f}\")"
   ]
  },
  {
   "cell_type": "code",
   "execution_count": 22,
   "metadata": {},
   "outputs": [
    {
     "data": {
      "application/vnd.jupyter.widget-view+json": {
       "model_id": "51f46f5cea4e4c36af1de19a36dded35",
       "version_major": 2,
       "version_minor": 0
      },
      "text/plain": [
       "Backfitting:   0%|          | 0/200 [00:00<?, ?it/s]"
      ]
     },
     "metadata": {},
     "output_type": "display_data"
    },
    {
     "data": {
      "application/vnd.jupyter.widget-view+json": {
       "model_id": "aaec46fe44e74c59a869c3e39ffda795",
       "version_major": 2,
       "version_minor": 0
      },
      "text/plain": [
       "Inference:   0%|          | 0/1 [00:00<?, ?it/s]"
      ]
     },
     "metadata": {},
     "output_type": "display_data"
    },
    {
     "name": "stdout",
     "output_type": "stream",
     "text": [
      "\n",
      "MGWR Optimal Bandwidths for PCE: [156.  46. 156. 133.  86. 156. 152.]\n",
      "MGWR Summary for PCE:\n",
      "Global R2: 0.6710\n",
      "MGWR AIC: 847.4476\n"
     ]
    }
   ],
   "source": [
    "# Run MGWR regression for PCE\n",
    "mgwr_pce = run_mgwr_regression(data_gdf, 'PCE', predictors, coords, w, len(data_gdf), scaler)\n",
    "print(f\"\\nMGWR Optimal Bandwidths for PCE: {mgwr_pce['bandwidths']}\")\n",
    "print(f\"MGWR Summary for PCE:\")\n",
    "print(f\"Global R2: {mgwr_pce['model'].R2:.4f}\")\n",
    "print(f\"MGWR AIC: {mgwr_pce['model'].aic:.4f}\")"
   ]
  },
  {
   "cell_type": "code",
   "execution_count": 23,
   "metadata": {},
   "outputs": [
    {
     "name": "stdout",
     "output_type": "stream",
     "text": [
      "Local R2 Proxy: 0.6718\n"
     ]
    }
   ],
   "source": [
    "# Store MGWR results for PCE\n",
    "store_mgwr_results(data_gdf, 'PCE', mgwr_pce, predictor_names)\n",
    "print(f\"Local R2 Proxy: {data_gdf['PCE_localR2_proxy'].mean():.4f}\")  # Mean proxy value after storage"
   ]
  },
  {
   "cell_type": "code",
   "execution_count": 24,
   "metadata": {},
   "outputs": [
    {
     "name": "stdout",
     "output_type": "stream",
     "text": [
      "MGWR Moran's I for PCE: 0.1490, p-value: 0.0025\n",
      "Spatial autocorrelation is significant, justifying MGWR use, as per *Scientific Reports* (PAGE6).\n"
     ]
    }
   ],
   "source": [
    "# Visualize MGWR residuals' spatial autocorrelation\n",
    "mgwr_residuals_pce = data_gdf['PCE'].values - mgwr_pce['model'].predy.flatten()\n",
    "moran_mgwr_pce = Moran(mgwr_residuals_pce, w)\n",
    "print(f\"MGWR Moran's I for PCE: {moran_mgwr_pce.I:.4f}, p-value: {moran_mgwr_pce.p_norm:.4f}\")\n",
    "if moran_mgwr_pce.p_norm < 0.05:\n",
    "    print(\"Spatial autocorrelation is significant, justifying MGWR use, as per *Scientific Reports* (PAGE6).\")"
   ]
  },
  {
   "cell_type": "markdown",
   "metadata": {},
   "source": [
    "**PCE** results show:\n",
    "- OLS:\n",
    "    - R-squared: 0.587\n",
    "    - AIC: 855.1 and BIC: 876.5\n",
    "    - Moran’s I (0.0746, p = 0.1158): Non-significant, suggesting mild spatial autocorrelation, but the p-value is close to 0.05, supporting MGWR to capture local variations\n",
    "\n",
    "- MGWR:\n",
    "    - Global R²: 0.6710"
   ]
  },
  {
   "cell_type": "markdown",
   "metadata": {},
   "source": [
    "### 3.4 PCA"
   ]
  },
  {
   "cell_type": "code",
   "execution_count": 25,
   "metadata": {},
   "outputs": [
    {
     "name": "stdout",
     "output_type": "stream",
     "text": [
      "\n",
      "OLS Summary for PCA:\n",
      "                            OLS Regression Results                            \n",
      "==============================================================================\n",
      "Dep. Variable:                      y   R-squared:                       0.509\n",
      "Model:                            OLS   Adj. R-squared:                  0.489\n",
      "Method:                 Least Squares   F-statistic:                     26.06\n",
      "Date:                Sun, 27 Jul 2025   Prob (F-statistic):           3.89e-21\n",
      "Time:                        23:35:58   Log-Likelihood:                -1725.8\n",
      "No. Observations:                 158   AIC:                             3466.\n",
      "Df Residuals:                     151   BIC:                             3487.\n",
      "Df Model:                           6                                         \n",
      "Covariance Type:            nonrobust                                         \n",
      "==============================================================================\n",
      "                 coef    std err          t      P>|t|      [0.025      0.975]\n",
      "------------------------------------------------------------------------------\n",
      "const       5.025e+04   1091.712     46.029      0.000    4.81e+04    5.24e+04\n",
      "x1          1.264e+04   1380.530      9.154      0.000    9909.332    1.54e+04\n",
      "x2          2222.8926   1807.203      1.230      0.221   -1347.777    5793.562\n",
      "x3          4940.3253   1784.115      2.769      0.006    1415.274    8465.377\n",
      "x4          2714.5328   1184.338      2.292      0.023     374.520    5054.546\n",
      "x5          -649.2479   1304.676     -0.498      0.619   -3227.025    1928.530\n",
      "x6          -792.7297   1493.475     -0.531      0.596   -3743.536    2158.076\n",
      "==============================================================================\n",
      "Omnibus:                        9.344   Durbin-Watson:                   2.118\n",
      "Prob(Omnibus):                  0.009   Jarque-Bera (JB):                9.842\n",
      "Skew:                          -0.611   Prob(JB):                      0.00729\n",
      "Kurtosis:                       2.977   Cond. No.                         3.10\n",
      "==============================================================================\n",
      "\n",
      "Notes:\n",
      "[1] Standard Errors assume that the covariance matrix of the errors is correctly specified.\n",
      "Moran's I for residuals: 0.0843, p-value: 0.0784\n"
     ]
    }
   ],
   "source": [
    "# Run OLS regression for PCA\n",
    "ols_pca = run_ols_regression(data_gdf, 'PCA', predictors, w, scaler)\n",
    "print(f\"\\nOLS Summary for PCA:\\n{ols_pca['summary']}\")\n",
    "print(f\"Moran's I for residuals: {ols_pca['moran_i']:.4f}, p-value: {ols_pca['moran_p']:.4f}\")"
   ]
  },
  {
   "cell_type": "code",
   "execution_count": 26,
   "metadata": {},
   "outputs": [
    {
     "data": {
      "application/vnd.jupyter.widget-view+json": {
       "model_id": "4eaac6a92fcc4494a25f8ef4f8a661e6",
       "version_major": 2,
       "version_minor": 0
      },
      "text/plain": [
       "Backfitting:   0%|          | 0/200 [00:00<?, ?it/s]"
      ]
     },
     "metadata": {},
     "output_type": "display_data"
    },
    {
     "data": {
      "application/vnd.jupyter.widget-view+json": {
       "model_id": "2e1bd901f593423ca744b407d588d179",
       "version_major": 2,
       "version_minor": 0
      },
      "text/plain": [
       "Inference:   0%|          | 0/1 [00:00<?, ?it/s]"
      ]
     },
     "metadata": {},
     "output_type": "display_data"
    },
    {
     "name": "stdout",
     "output_type": "stream",
     "text": [
      "\n",
      "MGWR Optimal Bandwidths for PCA: [156. 156. 156. 138. 156. 156. 152.]\n",
      "MGWR Summary for PCA:\n",
      "Global R2: 0.5323\n",
      "AIC: 3469.1773\n"
     ]
    }
   ],
   "source": [
    "# Run MGWR regression for PCA\n",
    "\n",
    "mgwr_pca = run_mgwr_regression(data_gdf, 'PCA', predictors, coords, w, len(data_gdf), scaler)\n",
    "print(f\"\\nMGWR Optimal Bandwidths for PCA: {mgwr_pca['bandwidths']}\")\n",
    "print(f\"MGWR Summary for PCA:\")\n",
    "print(f\"Global R2: {mgwr_pca['model'].R2:.4f}\")\n",
    "print(f\"AIC: {mgwr_pca['model'].aic:.4f}\")"
   ]
  },
  {
   "cell_type": "code",
   "execution_count": 27,
   "metadata": {},
   "outputs": [
    {
     "data": {
      "application/vnd.jupyter.widget-view+json": {
       "model_id": "c91b07cad26e4ec79dc1574ca38a4206",
       "version_major": 2,
       "version_minor": 0
      },
      "text/plain": [
       "Backfitting:   0%|          | 0/200 [00:00<?, ?it/s]"
      ]
     },
     "metadata": {},
     "output_type": "display_data"
    },
    {
     "data": {
      "application/vnd.jupyter.widget-view+json": {
       "model_id": "fa8263a916024a2c9702609944e0b48f",
       "version_major": 2,
       "version_minor": 0
      },
      "text/plain": [
       "Inference:   0%|          | 0/1 [00:00<?, ?it/s]"
      ]
     },
     "metadata": {},
     "output_type": "display_data"
    },
    {
     "name": "stdout",
     "output_type": "stream",
     "text": [
      "Outlier-Adjusted MGWR R2 for PCA: 0.4218\n"
     ]
    }
   ],
   "source": [
    "# In 3.4 PCA after MGWR results\n",
    "data_gdf['PCA_capped'] = data_gdf['PCA'].clip(lower=data_gdf['PCA'].quantile(0.05), upper=data_gdf['PCA'].quantile(0.95))\n",
    "mgwr_pca_outlier = run_mgwr_regression(data_gdf, 'PCA_capped', predictors, coords, w, len(data_gdf), scaler)\n",
    "print(f\"Outlier-Adjusted MGWR R2 for PCA: {mgwr_pca_outlier['model'].R2:.4f}\")"
   ]
  },
  {
   "cell_type": "code",
   "execution_count": 28,
   "metadata": {},
   "outputs": [
    {
     "name": "stdout",
     "output_type": "stream",
     "text": [
      "Local R2 Proxy: 0.5323\n"
     ]
    }
   ],
   "source": [
    "# Store MGWR results for PCA\n",
    "store_mgwr_results(data_gdf, 'PCA', mgwr_pca, predictor_names)\n",
    "print(f\"Local R2 Proxy: {data_gdf['PCA_localR2_proxy'].mean():.4f}\")  # Mean proxy value after storage"
   ]
  },
  {
   "cell_type": "code",
   "execution_count": 29,
   "metadata": {},
   "outputs": [
    {
     "name": "stdout",
     "output_type": "stream",
     "text": [
      "MGWR Moran's I for PCA: 0.0928, p-value: 0.0541\n"
     ]
    }
   ],
   "source": [
    "# Visualize MGWR residuals' spatial autocorrelation\n",
    "mgwr_residuals_pca = data_gdf['PCA'].values - mgwr_pca['model'].predy.flatten()\n",
    "moran_mgwr_pca = Moran(mgwr_residuals_pca, w)\n",
    "print(f\"MGWR Moran's I for PCA: {moran_mgwr_pca.I:.4f}, p-value: {moran_mgwr_pca.p_norm:.4f}\")\n",
    "if moran_mgwr_pca.p_norm < 0.05:\n",
    "    print(\"Spatial autocorrelation is significant, justifying MGWR use, as per *Scientific Reports* (PAGE6).\")"
   ]
  },
  {
   "cell_type": "code",
   "execution_count": 30,
   "metadata": {},
   "outputs": [
    {
     "name": "stdout",
     "output_type": "stream",
     "text": [
      "\n",
      "Investigating PCA's Weaker Performance:\n",
      "PCA Global R2: 0.5323 is lower than PCI and PCE, suggesting unmodeled factors.\n",
      "PCA AIC: 3469.1773 is high, indicating potential overfitting or missing variables.\n",
      "Number of potential outliers: 8\n"
     ]
    }
   ],
   "source": [
    "# Investigate PCA's weaker performance\n",
    "print(\"\\nInvestigating PCA's Weaker Performance:\")\n",
    "print(f\"PCA Global R2: {mgwr_pca['model'].R2:.4f} is lower than PCI and PCE, suggesting unmodeled factors.\")\n",
    "print(f\"PCA AIC: {mgwr_pca['model'].aic:.4f} is high, indicating potential overfitting or missing variables.\")\n",
    "data_gdf['PCA_outliers'] = data_gdf['PCA'].abs() > data_gdf['PCA'].quantile(0.95)\n",
    "print(f\"Number of potential outliers: {data_gdf['PCA_outliers'].sum()}\")"
   ]
  },
  {
   "cell_type": "markdown",
   "metadata": {},
   "source": [
    "**PCA** results show:\n",
    "- OLS:\n",
    "    - R-squared: 0.509 (moderate fit)\n",
    "    - non-normal residuals\n",
    "    - Moran’s I (0.0843, p = 0.0784): Borderline significant (p ≈ 0.05), suggesting mild spatial autocorrelation in residuals\n",
    "- MGWR:\n",
    "    - Global R²: 0.5323\n",
    "    - Local R² Proxy: 0.5323 (identical to global R²) suggests uniform explanatory power,"
   ]
  },
  {
   "cell_type": "markdown",
   "metadata": {},
   "source": [
    "## 4. Investigate Cooling vs. Heating Parks"
   ]
  },
  {
   "cell_type": "code",
   "execution_count": 31,
   "metadata": {},
   "outputs": [
    {
     "data": {
      "text/plain": [
       "PCI_group\n",
       "Heating    117\n",
       "Cooling     41\n",
       "Name: count, dtype: int64"
      ]
     },
     "execution_count": 31,
     "metadata": {},
     "output_type": "execute_result"
    }
   ],
   "source": [
    "# Categorize cooling vs. heating parks\n",
    "data_gdf['PCI_group'] = data_gdf['PCI'].apply(lambda x: 'Cooling' if x < 0 else 'Heating')\n",
    "data_gdf['PCI_group'].value_counts()"
   ]
  },
  {
   "cell_type": "code",
   "execution_count": 32,
   "metadata": {},
   "outputs": [],
   "source": [
    "# Group parks by PCI\n",
    "cooling_gdf = data_gdf[data_gdf['PCI_group'] == 'Cooling'].copy()\n",
    "heating_gdf = data_gdf[data_gdf['PCI_group'] == 'Heating'].copy()"
   ]
  },
  {
   "cell_type": "code",
   "execution_count": 33,
   "metadata": {},
   "outputs": [
    {
     "name": "stdout",
     "output_type": "stream",
     "text": [
      "\n",
      "T-test for PCI: t-statistic = -9.8311, p-value = 0.0000\n",
      "  Significant difference between Cooling and Heating parks for PCI.\n",
      "\n",
      "T-test for PCE: t-statistic = 0.3707, p-value = 0.7113\n",
      "\n",
      "T-test for PCA: t-statistic = -1.7488, p-value = 0.0823\n"
     ]
    }
   ],
   "source": [
    "# Statistical comparison using t-test\n",
    "from scipy.stats import ttest_ind\n",
    "for metric in ['PCI', 'PCE', 'PCA']:\n",
    "    t_stat, p_val = ttest_ind(cooling_gdf[metric].dropna(), heating_gdf[metric].dropna())\n",
    "    print(f\"\\nT-test for {metric}: t-statistic = {t_stat:.4f}, p-value = {p_val:.4f}\")\n",
    "    if p_val < 0.05:\n",
    "        print(f\"  Significant difference between Cooling and Heating parks for {metric}.\")"
   ]
  },
  {
   "cell_type": "markdown",
   "metadata": {},
   "source": [
    "## 5. LST (Within park) Regression"
   ]
  },
  {
   "cell_type": "code",
   "execution_count": 34,
   "metadata": {},
   "outputs": [
    {
     "name": "stdout",
     "output_type": "stream",
     "text": [
      "Average LST Reduction: 0.52°C\n",
      "Min/Max LST Reduction: -1.20°C to 6.68°C\n"
     ]
    }
   ],
   "source": [
    "print(f\"Average LST Reduction: {data_gdf['lst_reduction'].mean():.2f}°C\")\n",
    "print(f\"Min/Max LST Reduction: {data_gdf['lst_reduction'].min():.2f}°C to {data_gdf['lst_reduction'].max():.2f}°C\")"
   ]
  },
  {
   "cell_type": "code",
   "execution_count": 35,
   "metadata": {},
   "outputs": [
    {
     "name": "stdout",
     "output_type": "stream",
     "text": [
      "\n",
      "OLS Summary for LST Reduction:\n",
      "                            OLS Regression Results                            \n",
      "==============================================================================\n",
      "Dep. Variable:                      y   R-squared:                       0.489\n",
      "Model:                            OLS   Adj. R-squared:                  0.468\n",
      "Method:                 Least Squares   F-statistic:                     24.06\n",
      "Date:                Sun, 27 Jul 2025   Prob (F-statistic):           7.33e-20\n",
      "Time:                        23:40:04   Log-Likelihood:                -147.82\n",
      "No. Observations:                 158   AIC:                             309.6\n",
      "Df Residuals:                     151   BIC:                             331.1\n",
      "Df Model:                           6                                         \n",
      "Covariance Type:            nonrobust                                         \n",
      "==============================================================================\n",
      "                 coef    std err          t      P>|t|      [0.025      0.975]\n",
      "------------------------------------------------------------------------------\n",
      "const          0.5235      0.050     10.431      0.000       0.424       0.623\n",
      "x1             0.4963      0.063      7.821      0.000       0.371       0.622\n",
      "x2             0.5198      0.083      6.257      0.000       0.356       0.684\n",
      "x3             0.2484      0.082      3.028      0.003       0.086       0.410\n",
      "x4            -0.1152      0.054     -2.116      0.036      -0.223      -0.008\n",
      "x5            -0.1495      0.060     -2.493      0.014      -0.268      -0.031\n",
      "x6            -0.1859      0.069     -2.708      0.008      -0.322      -0.050\n",
      "==============================================================================\n",
      "Omnibus:                       73.056   Durbin-Watson:                   1.826\n",
      "Prob(Omnibus):                  0.000   Jarque-Bera (JB):              626.554\n",
      "Skew:                           1.410   Prob(JB):                    8.82e-137\n",
      "Kurtosis:                      12.339   Cond. No.                         3.10\n",
      "==============================================================================\n",
      "\n",
      "Notes:\n",
      "[1] Standard Errors assume that the covariance matrix of the errors is correctly specified.\n",
      "Moran's I for residuals: 0.1369, p-value: 0.0054\n",
      "OLS AIC: 309.6313\n"
     ]
    }
   ],
   "source": [
    "# Perform OLS and MGWR on LST Reduction to directly quantify cooling impact,\n",
    "# aligning with *Scientific Reports* (PAGE10) LST difference and *Building and Environment* (PAGE14) microscale measurement.\n",
    "\n",
    "# Run OLS regression for LST Reduction\n",
    "ols_lst_reduction = run_ols_regression(data_gdf, 'lst_reduction', predictors, w, scaler)\n",
    "print(f\"\\nOLS Summary for LST Reduction:\\n{ols_lst_reduction['summary']}\")\n",
    "print(f\"Moran's I for residuals: {ols_lst_reduction['moran_i']:.4f}, p-value: {ols_lst_reduction['moran_p']:.4f}\")\n",
    "print(f\"OLS AIC: {ols_lst_reduction['model'].aic:.4f}\")"
   ]
  },
  {
   "cell_type": "code",
   "execution_count": 36,
   "metadata": {},
   "outputs": [
    {
     "data": {
      "application/vnd.jupyter.widget-view+json": {
       "model_id": "2fe1376c065f4cb1ae70d3871ff0b64a",
       "version_major": 2,
       "version_minor": 0
      },
      "text/plain": [
       "Backfitting:   0%|          | 0/200 [00:00<?, ?it/s]"
      ]
     },
     "metadata": {},
     "output_type": "display_data"
    },
    {
     "data": {
      "application/vnd.jupyter.widget-view+json": {
       "model_id": "1798a8a63fb74be7a03568965c313e83",
       "version_major": 2,
       "version_minor": 0
      },
      "text/plain": [
       "Inference:   0%|          | 0/1 [00:00<?, ?it/s]"
      ]
     },
     "metadata": {},
     "output_type": "display_data"
    },
    {
     "name": "stdout",
     "output_type": "stream",
     "text": [
      "\n",
      "MGWR Optimal Bandwidths for LST Reduction: [ 91.  44. 156. 156. 152.  55. 156.]\n",
      "MGWR Summary for LST Reduction:\n",
      "Global R2: 0.7449\n",
      "MGWR AIC: 238.8384\n"
     ]
    }
   ],
   "source": [
    "# Run MGWR regression for LST Reduction\n",
    "mgwr_lst_reduction = run_mgwr_regression(data_gdf, 'lst_reduction', predictors, coords, w, len(data_gdf), scaler)\n",
    "print(f\"\\nMGWR Optimal Bandwidths for LST Reduction: {mgwr_lst_reduction['bandwidths']}\")\n",
    "print(f\"MGWR Summary for LST Reduction:\")\n",
    "print(f\"Global R2: {mgwr_lst_reduction['model'].R2:.4f}\")\n",
    "print(f\"MGWR AIC: {mgwr_lst_reduction['model'].aic:.4f}\")"
   ]
  },
  {
   "cell_type": "code",
   "execution_count": 37,
   "metadata": {},
   "outputs": [
    {
     "name": "stdout",
     "output_type": "stream",
     "text": [
      "Local R2 Proxy: 0.7459\n"
     ]
    }
   ],
   "source": [
    "# Store MGWR results for LST Reduction\n",
    "store_mgwr_results(data_gdf, 'lst_reduction', mgwr_lst_reduction, predictor_names)\n",
    "print(f\"Local R2 Proxy: {data_gdf['lst_reduction_localR2_proxy'].mean():.4f}\")"
   ]
  },
  {
   "cell_type": "code",
   "execution_count": 38,
   "metadata": {},
   "outputs": [
    {
     "name": "stdout",
     "output_type": "stream",
     "text": [
      "MGWR Moran's I for LST Reduction: 0.0440, p-value: 0.3284\n"
     ]
    }
   ],
   "source": [
    "# Visualize MGWR residuals' spatial autocorrelation\n",
    "mgwr_residuals_lst = data_gdf['lst_reduction'].values - mgwr_lst_reduction['model'].predy.flatten()\n",
    "moran_mgwr_lst = Moran(mgwr_residuals_lst, w)\n",
    "print(f\"MGWR Moran's I for LST Reduction: {moran_mgwr_lst.I:.4f}, p-value: {moran_mgwr_lst.p_norm:.4f}\")\n",
    "if moran_mgwr_lst.p_norm < 0.05:\n",
    "    print(\"Spatial autocorrelation is significant, justifying MGWR use, as per *Scientific Reports* (PAGE6).\")"
   ]
  },
  {
   "cell_type": "code",
   "execution_count": 39,
   "metadata": {},
   "outputs": [
    {
     "name": "stdout",
     "output_type": "stream",
     "text": [
      "T-test for LST Reduction: t-statistic = -7.5223, p-value = 0.0000\n"
     ]
    }
   ],
   "source": [
    "t_stat, p = ttest_ind(cooling_gdf['lst_reduction'].dropna(), heating_gdf['lst_reduction'].dropna())\n",
    "print(f\"T-test for LST Reduction: t-statistic = {t_stat:.4f}, p-value = {p:.4f}\")"
   ]
  },
  {
   "cell_type": "markdown",
   "metadata": {},
   "source": [
    "**OLS Results**\n",
    "\n",
    "OLS Results:\n",
    "- R²: 0.489, AIC: 309.6313\n",
    "- Moran’s I: 0.1369 (p = 0.0054) – Significant spatial autocorrelation, indicating OLS underestimates spatial variation\n",
    "\n",
    "MGWR Results:\n",
    "- R²: 0.7449, AIC: 238.8384, Local R² Proxy: 0.7459\n",
    "- Moran’s I: 0.0440 (p = 0.3284) – Non-significant autocorrelation, indicating MGWR effectively captures spatial structure\n",
    "\n",
    "t-statistic: -7.5223, p-value: 0.0000:\n",
    "- Significant difference between Cooling and Heating parks, with Cooling parks showing higher LST reduction\n"
   ]
  },
  {
   "cell_type": "code",
   "execution_count": 40,
   "metadata": {},
   "outputs": [
    {
     "data": {
      "image/png": "[encoded data removed]",
      "text/plain": [
       "<Figure size 640x480 with 1 Axes>"
      ]
     },
     "metadata": {},
     "output_type": "display_data"
    }
   ],
   "source": [
    "mgwr_residuals_lst = data_gdf['lst_reduction'].values - mgwr_lst_reduction['model'].predy.flatten()\n",
    "plt.scatter(data_gdf['log_area_m2'], mgwr_residuals_lst, c='blue')\n",
    "plt.xlabel('Log Area (m²)')\n",
    "plt.ylabel('MGWR Residuals')\n",
    "plt.title('LST Reduction Residuals vs. Log Area')\n",
    "plt.show()"
   ]
  },
  {
   "cell_type": "markdown",
   "metadata": {},
   "source": [
    "## 6. Data Export"
   ]
  },
  {
   "cell_type": "code",
   "execution_count": 41,
   "metadata": {},
   "outputs": [
    {
     "name": "stderr",
     "output_type": "stream",
     "text": [
      "INFO:pyogrio._io:Created 158 records\n"
     ]
    },
    {
     "name": "stdout",
     "output_type": "stream",
     "text": [
      "Exported data to 'cooling_heating_parks.geojson' for QGIS visualization.\n"
     ]
    }
   ],
   "source": [
    "# Drop centroid column to avoid multiple geometry columns\n",
    "data_gdf = data_gdf.drop(columns=['centroid'])\n",
    "\n",
    "# Spatial visualization preparation\n",
    "data_gdf.to_file('Data/Riyadh_parks_with_all_variables.geojson', driver='GeoJSON')\n",
    "print(\"Exported data to 'cooling_heating_parks.geojson' for QGIS visualization.\")"
   ]
  }
 ],
 "metadata": {
  "kernelspec": {
   "display_name": "env",
   "language": "python",
   "name": "python3"
  },
  "language_info": {
   "codemirror_mode": {
    "name": "ipython",
    "version": 3
   },
   "file_extension": ".py",
   "mimetype": "text/x-python",
   "name": "python",
   "nbconvert_exporter": "python",
   "pygments_lexer": "ipython3",
   "version": "3.13.0"
  }
 },
 "nbformat": 4,
 "nbformat_minor": 2
}
