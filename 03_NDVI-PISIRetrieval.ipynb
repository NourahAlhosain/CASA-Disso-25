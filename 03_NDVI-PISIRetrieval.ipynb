{
 "cells": [
  {
   "cell_type": "markdown",
   "metadata": {},
   "source": [
    "Before running this code, you need to set up the Earth Engine Python API.\n",
    "Follow these steps (based on official Google documentation):\n",
    "1. Install the Earth Engine API if not already installed (e.g., in a terminal: pip install earthengine-api --upgrade).\n",
    "2. Create a Google Cloud Project: Go to [link](https://console.cloud.google.com/projectcreate) and create a new project. Note your Project ID (e.g., 'my-earth-engine-project').\n",
    "3. Enable the Earth Engine API: In your Google Cloud Console, search for \"Earth Engine API\" and enable it for your project.\n",
    "4. Authenticate: Run ee.Authenticate() below if prompted; this will open a browser for Google sign-in and generate a token.\n",
    "5. Initialize: Replace 'your-project-id' below with your actual Google Cloud Project ID.\n",
    "For more details, see: [link](https://developers.google.com/earth-engine/guides/python_install)"
   ]
  },
  {
   "cell_type": "markdown",
   "metadata": {},
   "source": [
    "# Initialization"
   ]
  },
  {
   "cell_type": "code",
   "execution_count": 1,
   "metadata": {},
   "outputs": [],
   "source": [
    "#import relevant libraries\n",
    "import ee\n",
    "import geemap"
   ]
  },
  {
   "cell_type": "code",
   "execution_count": 2,
   "metadata": {},
   "outputs": [
    {
     "data": {
      "text/html": [
       "\n",
       "            <style>\n",
       "                .geemap-dark {\n",
       "                    --jp-widgets-color: white;\n",
       "                    --jp-widgets-label-color: white;\n",
       "                    --jp-ui-font-color1: white;\n",
       "                    --jp-layout-color2: #454545;\n",
       "                    background-color: #383838;\n",
       "                }\n",
       "\n",
       "                .geemap-dark .jupyter-button {\n",
       "                    --jp-layout-color3: #383838;\n",
       "                }\n",
       "\n",
       "                .geemap-colab {\n",
       "                    background-color: var(--colab-primary-surface-color, white);\n",
       "                }\n",
       "\n",
       "                .geemap-colab .jupyter-button {\n",
       "                    --jp-layout-color3: var(--colab-primary-surface-color, white);\n",
       "                }\n",
       "            </style>\n",
       "            "
      ],
      "text/plain": [
       "<IPython.core.display.HTML object>"
      ]
     },
     "metadata": {},
     "output_type": "display_data"
    }
   ],
   "source": [
    "#Authenticate and initilaize GEE \n",
    "try:\n",
    "    ee.Initialize(project='uss-dissertation')\n",
    "except Exception:\n",
    "    print(\"GEE initialization failed. Run ee.Authenticate() and try again.\")\n",
    "    ee.Authenticate()\n",
    "    ee.Initialize(project='uss-dissertation')"
   ]
  },
  {
   "cell_type": "markdown",
   "metadata": {},
   "source": [
    "# Calculations"
   ]
  },
  {
   "cell_type": "markdown",
   "metadata": {},
   "source": [
    "From litrature, many studies utilize Landsat indices to assess land composition (like vegetation and impervious surface). The **Normalized Difference Vegetation Index (NDVI)** is mostly use for vegetation but there are many indices used as proxies for impervious surfaces, with various accuracy depending on climate and season. The **Normalized Difference Impervious Surface Index (NDISI)** was calculated for the study are but validation with satellite imagery showed concerning results, and i found litrature supporting its low acuracy in arid regions [Chen et al., 2019](https://www.spiedigitallibrary.org/journals/journal-of-applied-remote-sensing/volume-13/issue-1/016502/Enhanced-normalized-difference-index-for-impervious-surface-area-estimation-at/10.1117/1.JRS.13.016502.full)\n",
    "\n",
    "After reviwing more studies, i found promising support for the **Perpendicular Impervious Surface Index (PISI)** in arid regions [Almohamad & Alshwesh, 2023](https://www.mdpi.com/2071-1050/15/12/9704#B37-sustainability-15-09704). \n",
    "\n",
    "NDVI and PISP are calculated from below equasions adopted from ([Li et al., 2019](https://ieeexplore-ieee-org.libproxy.ucl.ac.uk/abstract/document/9381593); [Saleem et al., 2020](https://pubmed.ncbi.nlm.nih.gov/32748362/))\n",
    "\n",
    " $$NDVI = \\frac{NIR - Red}{NIR + Red}$$\n",
    "  \n",
    "  Where:\n",
    "  - NIR is the near-infrared band.\n",
    "  - Red is the red band.\n",
    "\n",
    "$$PISI = 0.8192 b_{blue} − 0.5735b_{nir} + 0.075$$\n",
    "\n",
    "\n",
    "  Where:\n",
    "  - b~blue~ is the reflectance of the blue band.\n",
    "  - b~nir~ is the reflectance of the nir band.\n",
    "\n",
    "\n",
    "  **Note:** I'm using Landsat for consistency across layers at 30m resolution instead of Sentinal-2 10m resolution for NDVI.\n"
   ]
  },
  {
   "cell_type": "code",
   "execution_count": 3,
   "metadata": {},
   "outputs": [
    {
     "data": {
      "text/html": [
       "\n",
       "            <style>\n",
       "                .geemap-dark {\n",
       "                    --jp-widgets-color: white;\n",
       "                    --jp-widgets-label-color: white;\n",
       "                    --jp-ui-font-color1: white;\n",
       "                    --jp-layout-color2: #454545;\n",
       "                    background-color: #383838;\n",
       "                }\n",
       "\n",
       "                .geemap-dark .jupyter-button {\n",
       "                    --jp-layout-color3: #383838;\n",
       "                }\n",
       "\n",
       "                .geemap-colab {\n",
       "                    background-color: var(--colab-primary-surface-color, white);\n",
       "                }\n",
       "\n",
       "                .geemap-colab .jupyter-button {\n",
       "                    --jp-layout-color3: var(--colab-primary-surface-color, white);\n",
       "                }\n",
       "            </style>\n",
       "            "
      ],
      "text/plain": [
       "<IPython.core.display.HTML object>"
      ]
     },
     "metadata": {},
     "output_type": "display_data"
    }
   ],
   "source": [
    "# Load city boundary from a Google Earth Engine asset\n",
    "def load_city_boundary(asset_id):\n",
    "    try:\n",
    "        city_boundary = ee.FeatureCollection(asset_id)\n",
    "        print(\"City boundary loaded successfully!\")\n",
    "        return city_boundary\n",
    "    except Exception as e:\n",
    "        print(f\"Failed to load city boundary: {str(e)}\")\n",
    "        return None"
   ]
  },
  {
   "cell_type": "code",
   "execution_count": 4,
   "metadata": {},
   "outputs": [
    {
     "data": {
      "text/html": [
       "\n",
       "            <style>\n",
       "                .geemap-dark {\n",
       "                    --jp-widgets-color: white;\n",
       "                    --jp-widgets-label-color: white;\n",
       "                    --jp-ui-font-color1: white;\n",
       "                    --jp-layout-color2: #454545;\n",
       "                    background-color: #383838;\n",
       "                }\n",
       "\n",
       "                .geemap-dark .jupyter-button {\n",
       "                    --jp-layout-color3: #383838;\n",
       "                }\n",
       "\n",
       "                .geemap-colab {\n",
       "                    background-color: var(--colab-primary-surface-color, white);\n",
       "                }\n",
       "\n",
       "                .geemap-colab .jupyter-button {\n",
       "                    --jp-layout-color3: var(--colab-primary-surface-color, white);\n",
       "                }\n",
       "            </style>\n",
       "            "
      ],
      "text/plain": [
       "<IPython.core.display.HTML object>"
      ]
     },
     "metadata": {},
     "output_type": "display_data"
    }
   ],
   "source": [
    "# Calculate NDVI and PISI for 2024 from Landsat for the specified year (consistency at 30m resolution).\n",
    "def calculate_ndvi_pisi(city_boundary, years):\n",
    "    ndvi_layers = {}\n",
    "    pisi_layers = {}\n",
    "    geometry = city_boundary.geometry()\n",
    "    for year in years:\n",
    "        # Filter for summer months to align with LST data, cloud cover <5%\n",
    "        start_date = f'{year}-06-01'\n",
    "        end_date = f'{year}-08-31'\n",
    "\n",
    "        landsat = (ee.ImageCollection('LANDSAT/LC08/C02/T1_L2')\n",
    "                   .filterBounds(geometry)\n",
    "                   .filterDate(start_date, end_date)\n",
    "                   .filter(ee.Filter.lt('CLOUD_COVER', 5))) #cloud cover (<5%) to minimize atmospheric interference.\n",
    "        landsat = landsat.merge(\n",
    "            ee.ImageCollection('LANDSAT/LC09/C02/T1_L2')\n",
    "            .filterBounds(geometry)\n",
    "            .filterDate(start_date, end_date)\n",
    "            .filter(ee.Filter.lt('CLOUD_COVER', 5)) \n",
    "        )\n",
    "        landsat_size = landsat.size().getInfo()\n",
    "        print(f\"Number of Landsat images for {year}: {landsat_size}\")\n",
    "        if landsat_size > 0:\n",
    "            image_list = landsat.toList(landsat_size)\n",
    "            for i in range(landsat_size):\n",
    "                image = ee.Image(image_list.get(i))\n",
    "                spacecraft = image.get('SPACECRAFT_ID').getInfo()\n",
    "                path = image.get('WRS_PATH').getInfo()\n",
    "                row = image.get('WRS_ROW').getInfo()\n",
    "                date_acquired = image.get('DATE_ACQUIRED').getInfo()\n",
    "                image_id = image.get('system:id').getInfo()\n",
    "                print(f\"Image {i+1}: {spacecraft} - Path: {path} - Row: {row} - Date: {date_acquired} - ID: {image_id}\")\n",
    "\n",
    "            # Compute mean composite for average summer conditions\n",
    "            landsat = landsat.mean()\n",
    "            # Compute surface reflectance (divide by 10000 per Landsat scaling)\n",
    "            reflectance = landsat.divide(10000)\n",
    "\n",
    "            # NDVI formula: (NIR - Red) / (NIR + Red) using SR_B5 and SR_B4\n",
    "            ndvi = reflectance.normalizedDifference(['SR_B5', 'SR_B4']).rename(f'NDVI_{year}').clip(geometry).unmask(0)\n",
    "            ndvi_layers[year] = ndvi\n",
    "            print(f\"NDVI for {year} calculated successfully!\")\n",
    "\n",
    "            # PISI formula: 0.8192 * ρ_Blue - 0.5735 * ρ_NIR + 0.0750\n",
    "            # Uses SR_B2 (Blue) and SR_B5 (NIR) as per provided equation\n",
    "            blue = reflectance.select('SR_B2').rename('Blue')  # Blue band\n",
    "            nir = reflectance.select('SR_B5').rename('NIR')    # Near-infrared band\n",
    "            pisi = blue.multiply(0.8192).subtract(nir.multiply(0.5735)).add(0.0750).rename(f'PISI_{year}').clip(geometry).unmask(0)\n",
    "            # No normalization needed as the equation inherently scales; verify range later\n",
    "            pisi_layers[year] = pisi\n",
    "            print(f\"PISI for {year} calculated successfully!\")\n",
    "        else:\n",
    "            print(f\"No valid Landsat data for {year}\")\n",
    "            ndvi_layers[year] = None\n",
    "            pisi_layers[year] = None\n",
    "    return ndvi_layers, pisi_layers"
   ]
  },
  {
   "cell_type": "code",
   "execution_count": 5,
   "metadata": {},
   "outputs": [
    {
     "data": {
      "text/html": [
       "\n",
       "            <style>\n",
       "                .geemap-dark {\n",
       "                    --jp-widgets-color: white;\n",
       "                    --jp-widgets-label-color: white;\n",
       "                    --jp-ui-font-color1: white;\n",
       "                    --jp-layout-color2: #454545;\n",
       "                    background-color: #383838;\n",
       "                }\n",
       "\n",
       "                .geemap-dark .jupyter-button {\n",
       "                    --jp-layout-color3: #383838;\n",
       "                }\n",
       "\n",
       "                .geemap-colab {\n",
       "                    background-color: var(--colab-primary-surface-color, white);\n",
       "                }\n",
       "\n",
       "                .geemap-colab .jupyter-button {\n",
       "                    --jp-layout-color3: var(--colab-primary-surface-color, white);\n",
       "                }\n",
       "            </style>\n",
       "            "
      ],
      "text/plain": [
       "<IPython.core.display.HTML object>"
      ]
     },
     "metadata": {},
     "output_type": "display_data"
    }
   ],
   "source": [
    "# Add NDVI and PISI layers to the map\n",
    "def add_layers(map_obj, city_boundary, ndvi_layers, pisi_layers):\n",
    "    \"\"\"\n",
    "    NDVI: Blue (low vegetation) to green (high vegetation).\n",
    "    PISI: Green (pervious) to brown (impervious surfaces).\n",
    "    \"\"\"\n",
    "    geometry = city_boundary.geometry()\n",
    "    ndvi_palette = ['blue', 'white', 'green']\n",
    "    ndvi_vis = {\"min\": -1, \"max\": 1, \"palette\": ndvi_palette}\n",
    "    pisi_palette = ['green', 'white', 'brown']\n",
    "    pisi_vis = {\"min\": -1, \"max\": 1, \"palette\": pisi_palette}\n",
    "    \n",
    "    for year in years:\n",
    "        if ndvi_layers.get(year) is not None:\n",
    "            map_obj.addLayer(ndvi_layers[year], ndvi_vis, f'NDVI_{year}')\n",
    "        if pisi_layers.get(year) is not None:\n",
    "            map_obj.addLayer(pisi_layers[year], pisi_vis, f'PISI_{year}')\n",
    "    \n",
    "    return map_obj"
   ]
  },
  {
   "cell_type": "code",
   "execution_count": 6,
   "metadata": {},
   "outputs": [
    {
     "data": {
      "text/html": [
       "\n",
       "            <style>\n",
       "                .geemap-dark {\n",
       "                    --jp-widgets-color: white;\n",
       "                    --jp-widgets-label-color: white;\n",
       "                    --jp-ui-font-color1: white;\n",
       "                    --jp-layout-color2: #454545;\n",
       "                    background-color: #383838;\n",
       "                }\n",
       "\n",
       "                .geemap-dark .jupyter-button {\n",
       "                    --jp-layout-color3: #383838;\n",
       "                }\n",
       "\n",
       "                .geemap-colab {\n",
       "                    background-color: var(--colab-primary-surface-color, white);\n",
       "                }\n",
       "\n",
       "                .geemap-colab .jupyter-button {\n",
       "                    --jp-layout-color3: var(--colab-primary-surface-color, white);\n",
       "                }\n",
       "            </style>\n",
       "            "
      ],
      "text/plain": [
       "<IPython.core.display.HTML object>"
      ]
     },
     "metadata": {},
     "output_type": "display_data"
    }
   ],
   "source": [
    "# Export layers as GeoTIFFs to Google Drive for further analysis\n",
    "def export_layers(ndvi_layers, pisi_layers, city_boundary):\n",
    "    \"\"\"\n",
    "    Uses 30m scale and EPSG:20438 CRS for consistency with LST data.\n",
    "    \"\"\"\n",
    "    geometry = city_boundary.geometry()\n",
    "    for year in years:\n",
    "        if ndvi_layers.get(year) is not None:\n",
    "            ee.batch.Export.image.toDrive(\n",
    "                image=ndvi_layers[year],\n",
    "                description=f'Riyadh_NDVI_EPSG20438_updated{year}',\n",
    "                folder='Riyadh_Layers',\n",
    "                fileNamePrefix=f'Riyadh_NDVI_EPSG20438_updated{year}',\n",
    "                region=geometry,\n",
    "                scale=30, # Landsat resolution for NDVI\n",
    "                crs='EPSG:20438', # UTM Zone 38N for metric accuracy as per https://epsg.io/20438\n",
    "                maxPixels=1e9\n",
    "            ).start()\n",
    "            print(f\"Exporting NDVI_{year} to Google Drive\")\n",
    "        if pisi_layers.get(year) is not None:\n",
    "            ee.batch.Export.image.toDrive(\n",
    "                image=pisi_layers[year],\n",
    "                description=f'Riyadh_PISI_EPSG20438_{year}',\n",
    "                folder='Riyadh_Layers',\n",
    "                fileNamePrefix=f'Riyadh_PISI_EPSG20438_{year}',\n",
    "                region=geometry,\n",
    "                scale=30,\n",
    "                crs='EPSG:20438',\n",
    "                maxPixels=1e9\n",
    "            ).start()\n",
    "            print(f\"Exporting PISI_{year} to Google Drive\")"
   ]
  },
  {
   "cell_type": "code",
   "execution_count": 7,
   "metadata": {},
   "outputs": [
    {
     "data": {
      "text/html": [
       "\n",
       "            <style>\n",
       "                .geemap-dark {\n",
       "                    --jp-widgets-color: white;\n",
       "                    --jp-widgets-label-color: white;\n",
       "                    --jp-ui-font-color1: white;\n",
       "                    --jp-layout-color2: #454545;\n",
       "                    background-color: #383838;\n",
       "                }\n",
       "\n",
       "                .geemap-dark .jupyter-button {\n",
       "                    --jp-layout-color3: #383838;\n",
       "                }\n",
       "\n",
       "                .geemap-colab {\n",
       "                    background-color: var(--colab-primary-surface-color, white);\n",
       "                }\n",
       "\n",
       "                .geemap-colab .jupyter-button {\n",
       "                    --jp-layout-color3: var(--colab-primary-surface-color, white);\n",
       "                }\n",
       "            </style>\n",
       "            "
      ],
      "text/plain": [
       "<IPython.core.display.HTML object>"
      ]
     },
     "metadata": {},
     "output_type": "display_data"
    },
    {
     "name": "stdout",
     "output_type": "stream",
     "text": [
      "City boundary loaded successfully!\n",
      "Number of Landsat images for 2024: 32\n",
      "Image 1: LANDSAT_8 - Path: 165 - Row: 43 - Date: 2024-06-01 - ID: LANDSAT/LC08/C02/T1_L2/LC08_165043_20240601\n",
      "Image 2: LANDSAT_8 - Path: 165 - Row: 43 - Date: 2024-06-17 - ID: LANDSAT/LC08/C02/T1_L2/LC08_165043_20240617\n",
      "Image 3: LANDSAT_8 - Path: 165 - Row: 43 - Date: 2024-07-03 - ID: LANDSAT/LC08/C02/T1_L2/LC08_165043_20240703\n",
      "Image 4: LANDSAT_8 - Path: 165 - Row: 43 - Date: 2024-07-19 - ID: LANDSAT/LC08/C02/T1_L2/LC08_165043_20240719\n",
      "Image 5: LANDSAT_8 - Path: 165 - Row: 43 - Date: 2024-08-04 - ID: LANDSAT/LC08/C02/T1_L2/LC08_165043_20240804\n",
      "Image 6: LANDSAT_8 - Path: 165 - Row: 43 - Date: 2024-08-20 - ID: LANDSAT/LC08/C02/T1_L2/LC08_165043_20240820\n",
      "Image 7: LANDSAT_8 - Path: 166 - Row: 42 - Date: 2024-06-08 - ID: LANDSAT/LC08/C02/T1_L2/LC08_166042_20240608\n",
      "Image 8: LANDSAT_8 - Path: 166 - Row: 42 - Date: 2024-06-24 - ID: LANDSAT/LC08/C02/T1_L2/LC08_166042_20240624\n",
      "Image 9: LANDSAT_8 - Path: 166 - Row: 42 - Date: 2024-07-10 - ID: LANDSAT/LC08/C02/T1_L2/LC08_166042_20240710\n",
      "Image 10: LANDSAT_8 - Path: 166 - Row: 42 - Date: 2024-07-26 - ID: LANDSAT/LC08/C02/T1_L2/LC08_166042_20240726\n",
      "Image 11: LANDSAT_8 - Path: 166 - Row: 42 - Date: 2024-08-11 - ID: LANDSAT/LC08/C02/T1_L2/LC08_166042_20240811\n",
      "Image 12: LANDSAT_8 - Path: 166 - Row: 42 - Date: 2024-08-27 - ID: LANDSAT/LC08/C02/T1_L2/LC08_166042_20240827\n",
      "Image 13: LANDSAT_8 - Path: 166 - Row: 43 - Date: 2024-06-08 - ID: LANDSAT/LC08/C02/T1_L2/LC08_166043_20240608\n",
      "Image 14: LANDSAT_8 - Path: 166 - Row: 43 - Date: 2024-06-24 - ID: LANDSAT/LC08/C02/T1_L2/LC08_166043_20240624\n",
      "Image 15: LANDSAT_8 - Path: 166 - Row: 43 - Date: 2024-07-10 - ID: LANDSAT/LC08/C02/T1_L2/LC08_166043_20240710\n",
      "Image 16: LANDSAT_8 - Path: 166 - Row: 43 - Date: 2024-07-26 - ID: LANDSAT/LC08/C02/T1_L2/LC08_166043_20240726\n",
      "Image 17: LANDSAT_8 - Path: 166 - Row: 43 - Date: 2024-08-11 - ID: LANDSAT/LC08/C02/T1_L2/LC08_166043_20240811\n",
      "Image 18: LANDSAT_8 - Path: 166 - Row: 43 - Date: 2024-08-27 - ID: LANDSAT/LC08/C02/T1_L2/LC08_166043_20240827\n",
      "Image 19: LANDSAT_9 - Path: 165 - Row: 43 - Date: 2024-06-09 - ID: LANDSAT/LC09/C02/T1_L2/LC09_165043_20240609\n",
      "Image 20: LANDSAT_9 - Path: 165 - Row: 43 - Date: 2024-06-25 - ID: LANDSAT/LC09/C02/T1_L2/LC09_165043_20240625\n",
      "Image 21: LANDSAT_9 - Path: 165 - Row: 43 - Date: 2024-07-27 - ID: LANDSAT/LC09/C02/T1_L2/LC09_165043_20240727\n",
      "Image 22: LANDSAT_9 - Path: 165 - Row: 43 - Date: 2024-08-12 - ID: LANDSAT/LC09/C02/T1_L2/LC09_165043_20240812\n",
      "Image 23: LANDSAT_9 - Path: 165 - Row: 43 - Date: 2024-08-28 - ID: LANDSAT/LC09/C02/T1_L2/LC09_165043_20240828\n",
      "Image 24: LANDSAT_9 - Path: 166 - Row: 42 - Date: 2024-06-16 - ID: LANDSAT/LC09/C02/T1_L2/LC09_166042_20240616\n",
      "Image 25: LANDSAT_9 - Path: 166 - Row: 42 - Date: 2024-07-02 - ID: LANDSAT/LC09/C02/T1_L2/LC09_166042_20240702\n",
      "Image 26: LANDSAT_9 - Path: 166 - Row: 42 - Date: 2024-07-18 - ID: LANDSAT/LC09/C02/T1_L2/LC09_166042_20240718\n",
      "Image 27: LANDSAT_9 - Path: 166 - Row: 42 - Date: 2024-08-03 - ID: LANDSAT/LC09/C02/T1_L2/LC09_166042_20240803\n",
      "Image 28: LANDSAT_9 - Path: 166 - Row: 42 - Date: 2024-08-19 - ID: LANDSAT/LC09/C02/T1_L2/LC09_166042_20240819\n",
      "Image 29: LANDSAT_9 - Path: 166 - Row: 43 - Date: 2024-06-16 - ID: LANDSAT/LC09/C02/T1_L2/LC09_166043_20240616\n",
      "Image 30: LANDSAT_9 - Path: 166 - Row: 43 - Date: 2024-07-02 - ID: LANDSAT/LC09/C02/T1_L2/LC09_166043_20240702\n",
      "Image 31: LANDSAT_9 - Path: 166 - Row: 43 - Date: 2024-07-18 - ID: LANDSAT/LC09/C02/T1_L2/LC09_166043_20240718\n",
      "Image 32: LANDSAT_9 - Path: 166 - Row: 43 - Date: 2024-08-19 - ID: LANDSAT/LC09/C02/T1_L2/LC09_166043_20240819\n",
      "NDVI for 2024 calculated successfully!\n",
      "PISI for 2024 calculated successfully!\n",
      "Exporting NDVI_2024 to Google Drive\n",
      "Exporting PISI_2024 to Google Drive\n"
     ]
    },
    {
     "data": {
      "application/vnd.jupyter.widget-view+json": {
       "model_id": "f938ea993b1c400eba8760d7a7817312",
       "version_major": 2,
       "version_minor": 0
      },
      "text/plain": [
       "Map(center=[24.78, 46.75], controls=(WidgetControl(options=['position', 'transparent_bg'], widget=SearchDataGU…"
      ]
     },
     "execution_count": 7,
     "metadata": {},
     "output_type": "execute_result"
    }
   ],
   "source": [
    "# Load and map\n",
    "asset_id = 'projects/uss-dissertation/assets/riyadh_boundary'  # Link to asset: https://code.earthengine.google.com/?asset=projects/uss-dissertation/assets/riyadh_boundary\n",
    "# Also, the city boundary used can be found in the  Data folder 'Data/Riyadh_boundary.geojson'\n",
    "city_boundary = load_city_boundary(asset_id)\n",
    "map_obj = geemap.Map(basemap='CartoDB.Positron')\n",
    "boundary_style = {\"color\": \"black\", \"fillColor\": \"00000000\", \"width\": 2}\n",
    "map_obj.addLayer(city_boundary, boundary_style, \"Riyadh City Boundary\")\n",
    "map_obj.setCenter(46.75, 24.78, 12)\n",
    "\n",
    "# Calculate and add layers\n",
    "years = [2024]\n",
    "ndvi_layers, pisi_layers = calculate_ndvi_pisi(city_boundary, years)\n",
    "map_obj = add_layers(map_obj, city_boundary, ndvi_layers, pisi_layers)\n",
    "\n",
    "# Export too google drive, \n",
    "export_layers(ndvi_layers, pisi_layers, city_boundary)\n",
    "\n",
    "map_obj"
   ]
  }
 ],
 "metadata": {
  "kernelspec": {
   "display_name": "env",
   "language": "python",
   "name": "python3"
  },
  "language_info": {
   "codemirror_mode": {
    "name": "ipython",
    "version": 3
   },
   "file_extension": ".py",
   "mimetype": "text/x-python",
   "name": "python",
   "nbconvert_exporter": "python",
   "pygments_lexer": "ipython3",
   "version": "3.13.0"
  }
 },
 "nbformat": 4,
 "nbformat_minor": 2
}
