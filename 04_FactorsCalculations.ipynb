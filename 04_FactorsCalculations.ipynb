{
 "cells": [
  {
   "cell_type": "code",
   "execution_count": 2,
   "metadata": {},
   "outputs": [],
   "source": [
    "import geopandas as gpd\n",
    "import numpy as np\n",
    "import pandas as pd\n",
    "from rasterstats import zonal_stats\n",
    "import rasterio  # For CRS checks"
   ]
  },
  {
   "cell_type": "markdown",
   "metadata": {},
   "source": [
    "# Data Preperation"
   ]
  },
  {
   "cell_type": "code",
   "execution_count": 4,
   "metadata": {},
   "outputs": [],
   "source": [
    "# Load parks boundaries\n",
    "parks_gdf = gpd.read_file('Data/Riyadh_parks_validated.geojson')\n",
    "\n",
    "# Check current CRS\n",
    "current_crs = parks_gdf.crs\n",
    "print(\"Current CRS:\", current_crs)\n",
    "\n",
    "# If not EPSG:4326, reproject fo consistency\n",
    "if current_crs != 'EPSG:4326':\n",
    "    parks_gdf = parks_gdf.to_crs('EPSG:4326')\n",
    "    print(\"Reprojected to EPSG:4326\")\n",
    "else:\n",
    "    print(\"Already in EPSG:4326\")\n",
    "\n",
    "# Confirm new CRS\n",
    "print(\"Final CRS:\", parks_gdf.crs)"
   ]
  },
  {
   "cell_type": "markdown",
   "metadata": {},
   "source": [
    "# UGI related cooling factors calculations"
   ]
  },
  {
   "cell_type": "markdown",
   "metadata": {},
   "source": [
    "## 1- Geometric morphological factors\n",
    "\n",
    "This section calulates:\n",
    "- UGI area in sqm2\n",
    "- UGI perimeter in m\n",
    "- Landscape Shape Sndex (LSI) using the equ below as per  ([Cao et al., 2010](https://www-sciencedirect-com.libproxy.ucl.ac.uk/science/article/pii/S016920461000054X#fig1); [Shi et al., 2023](https://www-sciencedirect-com.libproxy.ucl.ac.uk/science/article/pii/S2210670723001300#sec0002)):\n",
    "\n",
    " $$LSI = \\frac{P}{2\\sqrt{\\pi A}}$$"
   ]
  },
  {
   "cell_type": "markdown",
   "metadata": {},
   "source": [
    "Here's an inline equation:  $\\sum_{i=1}^{n} i = \\frac{n(n+1)}{2}$\n",
    "\n",
    "And here's a block equation:\n",
    "$$\n",
    "\\int_a^b f(x) dx = F(b) - F(a)\n",
    "$$\n",
    "\n",
    "Alternatively, you can use $`\\frac{-b \\pm \\sqrt{b^2-4ac}}{2a}`$"
   ]
  },
  {
   "cell_type": "markdown",
   "metadata": {},
   "source": [
    "LSI =  $\\frac{P}{2\\sqrt{\\pi A}}$"
   ]
  },
  {
   "cell_type": "code",
   "execution_count": 6,
   "metadata": {},
   "outputs": [
    {
     "name": "stdout",
     "output_type": "stream",
     "text": [
      "Current CRS: EPSG:4326\n",
      "Already in EPSG:4326\n",
      "Final CRS: EPSG:4326\n"
     ]
    }
   ],
   "source": []
  }
 ],
 "metadata": {
  "kernelspec": {
   "display_name": "env",
   "language": "python",
   "name": "python3"
  },
  "language_info": {
   "codemirror_mode": {
    "name": "ipython",
    "version": 3
   },
   "file_extension": ".py",
   "mimetype": "text/x-python",
   "name": "python",
   "nbconvert_exporter": "python",
   "pygments_lexer": "ipython3",
   "version": "3.13.0"
  }
 },
 "nbformat": 4,
 "nbformat_minor": 2
}
