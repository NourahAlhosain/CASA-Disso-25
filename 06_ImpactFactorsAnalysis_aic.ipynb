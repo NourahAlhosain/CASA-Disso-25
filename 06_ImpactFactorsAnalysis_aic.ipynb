{
 "cells": [
  {
   "cell_type": "markdown",
   "metadata": {},
   "source": [
    "# 1. Data Preparation"
   ]
  },
  {
   "cell_type": "code",
   "execution_count": 38,
   "metadata": {},
   "outputs": [],
   "source": [
    "import numpy as np\n",
    "import pandas as pd\n",
    "import geopandas as gpd\n",
    "import statsmodels.api as sm\n",
    "from mgwr.gwr import GWR\n",
    "from mgwr.sel_bw import Sel_BW\n",
    "from libpysal.weights import KNN\n",
    "from esda.moran import Moran\n",
    "import logging\n",
    "import matplotlib.pyplot as plt\n",
    "from shapely import is_valid, make_valid\n",
    "from sklearn.preprocessing import StandardScaler\n",
    "import seaborn as sns\n",
    "from statsmodels.stats.outliers_influence import variance_inflation_factor\n",
    "from statsmodels.stats.diagnostic import het_breuschpagan\n",
    "from mgwr.gwr import MGWR\n",
    "from scipy.spatial.distance import cdist\n",
    "from sklearn.model_selection import KFold\n",
    "from sklearn.metrics import mean_squared_error, r2_score\n",
    "import numpy.linalg"
   ]
  },
  {
   "cell_type": "code",
   "execution_count": 39,
   "metadata": {},
   "outputs": [
    {
     "name": "stdout",
     "output_type": "stream",
     "text": [
      "Loaded parks_gdf with columns: Index(['osm_id', 'OBJECTID', 'FEATURE_ANAME', 'MUNICIPALITY', 'DISTRICT',\n",
      "       'WALKING_TRACK', 'GREEN_AREAS', 'LAYERID', 'LAYERANAME', 'Validation',\n",
      "       'Park_id', 'area_m2', 'perimeter_m', 'LSI', 'ndvi_mean',\n",
      "       'ndvi_pixel_count', 'pisi_mean', 'pisi_pixel_count', 'building_density',\n",
      "       'building_proximity', 'lst_buffer_30m', 'lst_buffer_60m',\n",
      "       'lst_buffer_90m', 'lst_buffer_120m', 'lst_buffer_150m',\n",
      "       'lst_buffer_180m', 'lst_buffer_210m', 'lst_buffer_240m',\n",
      "       'lst_buffer_270m', 'lst_buffer_300m', 'lst_park', 'park_pixel_count',\n",
      "       'lst_surrounding_mean', 'lst_reduction', 'lst_data', 'cubic_coeffs',\n",
      "       'r_squared', 'PCD', 'PCI', 'PCA', 'PCE', 'PCD_source', 'geometry'],\n",
      "      dtype='object')\n"
     ]
    }
   ],
   "source": [
    "# Load parks data\n",
    "parks_lst_gdf = gpd.read_file('Data/Riyadh_parks_with_LST.geojson')\n",
    "print(\"Loaded parks_gdf with columns:\", parks_lst_gdf.columns)"
   ]
  },
  {
   "cell_type": "markdown",
   "metadata": {},
   "source": [
    "## 1.1 Checking Parks Selection Criteria\n",
    "- Remove parks within 300m to avoid overlapping cooling effects (aligned with max buffer radius)."
   ]
  },
  {
   "cell_type": "code",
   "execution_count": 40,
   "metadata": {},
   "outputs": [],
   "source": [
    "# Create a new DataFrame to avoid modifying the original\n",
    "filtered_parks_gdf = parks_lst_gdf.copy()"
   ]
  },
  {
   "cell_type": "code",
   "execution_count": 41,
   "metadata": {},
   "outputs": [
    {
     "name": "stdout",
     "output_type": "stream",
     "text": [
      "Number of parks removed: 25\n",
      "Original number of parks: 219\n",
      "New number of parks: 194\n",
      "Removed Park IDs: [21.0, 26.0, 38.0, 41.0, 50.0, 63.0, 64.0, 65.0, 69.0, 75.0, 77.0, 79.0, 80.0, 83.0, 84.0, 87.0, 88.0, 89.0, 114.0, 137.0, 140.0, 154.0, 169.0, 170.0, 182.0]\n"
     ]
    }
   ],
   "source": [
    "# Extract centroids for distance calculation\n",
    "centroids = filtered_parks_gdf.copy()\n",
    "centroids['geometry'] = centroids.geometry.centroid\n",
    "\n",
    "# Initialize a set to track parks to remove (both from each close pair)\n",
    "parks_to_remove = set()\n",
    "\n",
    "# Calculate pairwise distances and identify close pairs (<300m)\n",
    "for i, park1 in centroids.iterrows():\n",
    "    for j, park2 in centroids.iterrows():\n",
    "        if i < j:  # Avoid duplicate pairs and self-comparison\n",
    "            dist = park1.geometry.distance(park2.geometry)\n",
    "            if dist < 300:  # 300m threshold based on max buffer radius\n",
    "                parks_to_remove.add(park1['Park_id'])\n",
    "                parks_to_remove.add(park2['Park_id'])\n",
    "\n",
    "# Remove both parks from each close pair\n",
    "filtered_parks_gdf = filtered_parks_gdf[~filtered_parks_gdf['Park_id'].isin(parks_to_remove)]\n",
    "\n",
    "# Summary of changes\n",
    "num_removed = len(parks_lst_gdf) - len(filtered_parks_gdf)\n",
    "print(f\"Number of parks removed: {num_removed}\")\n",
    "print(f\"Original number of parks: {len(parks_lst_gdf)}\")\n",
    "print(f\"New number of parks: {len(filtered_parks_gdf)}\")\n",
    "print(f\"Removed Park IDs: {sorted(list(parks_to_remove))}\")\n"
   ]
  },
  {
   "cell_type": "code",
   "execution_count": 42,
   "metadata": {},
   "outputs": [
    {
     "name": "stdout",
     "output_type": "stream",
     "text": [
      "Rows after filtering : 194\n"
     ]
    }
   ],
   "source": [
    "data_gdf = filtered_parks_gdf.copy()\n",
    "print(f\"Rows after filtering : {len(data_gdf)}\")\n",
    "# Create working copy of filtered data for analysis."
   ]
  },
  {
   "cell_type": "code",
   "execution_count": 43,
   "metadata": {},
   "outputs": [
    {
     "name": "stdout",
     "output_type": "stream",
     "text": [
      "Warning: 1 invalid geometries detected, repairing.\n",
      "Invalid Park IDs: [155.0]\n"
     ]
    }
   ],
   "source": [
    "# Ensure valid geometries\n",
    "invalid_count = (~data_gdf.geometry.is_valid).sum()\n",
    "if invalid_count > 0:\n",
    "    print(f\"Warning: {invalid_count} invalid geometries detected, repairing.\")\n",
    "    invalid_ids = data_gdf[~data_gdf.geometry.is_valid]['Park_id'].tolist()\n",
    "    print(f\"Invalid Park IDs: {invalid_ids}\")\n",
    "    data_gdf['geometry'] = data_gdf['geometry'].apply(lambda geom: make_valid(geom) if not is_valid(geom) else geom)"
   ]
  },
  {
   "cell_type": "code",
   "execution_count": 44,
   "metadata": {},
   "outputs": [],
   "source": [
    "# Transform area to reduce skewness, common for size variables in geospatial studies.\n",
    "data_gdf['log_area_m2'] = np.log(data_gdf['area_m2'] + 1) #Adding 1 before prevents errors with zero or negative values"
   ]
  },
  {
   "cell_type": "code",
   "execution_count": 45,
   "metadata": {},
   "outputs": [
    {
     "data": {
      "text/plain": [
       "np.float64(4.993409937183961)"
      ]
     },
     "execution_count": 45,
     "metadata": {},
     "output_type": "execute_result"
    }
   ],
   "source": [
    "data_gdf['area_m2'].skew()"
   ]
  },
  {
   "cell_type": "code",
   "execution_count": 46,
   "metadata": {},
   "outputs": [
    {
     "data": {
      "text/plain": [
       "np.float64(1.21196717045811)"
      ]
     },
     "execution_count": 46,
     "metadata": {},
     "output_type": "execute_result"
    }
   ],
   "source": [
    "data_gdf['log_area_m2'].skew()"
   ]
  },
  {
   "cell_type": "markdown",
   "metadata": {},
   "source": [
    "## 1.2 Standardization Check"
   ]
  },
  {
   "cell_type": "markdown",
   "metadata": {},
   "source": [
    "**Standardization Strategy**: Predictors standardized due to mixed scales (e.g., log_area_m2 vs. NDVI). Dependent variables (PCI, PCA, PCE) kept in raw units (°C, m²) for interpretability in synthesis (Obj 3). Exploratory run with standardized Y post-PCI analysis to compare effect sizes across metrics (Obj 2)."
   ]
  },
  {
   "cell_type": "code",
   "execution_count": 47,
   "metadata": {},
   "outputs": [
    {
     "name": "stdout",
     "output_type": "stream",
     "text": [
      "Predictor Scales:\\n        log_area_m2   ndvi_mean   pisi_mean         LSI  building_density  \\\n",
      "count   194.000000  194.000000  194.000000  194.000000        194.000000   \n",
      "mean      8.737517    0.149629   -0.173575    1.218093         32.540256   \n",
      "std       1.091700    0.035262    0.069084    0.180563          7.907630   \n",
      "min       6.895126    0.056360   -0.376677    1.060000          1.359572   \n",
      "25%       7.982114    0.126020   -0.220448    1.130000         28.403743   \n",
      "50%       8.534237    0.147426   -0.177248    1.170000         33.158802   \n",
      "75%       9.209997    0.172987   -0.127368    1.230000         37.660383   \n",
      "max      12.461221    0.235770    0.045596    2.900000         52.980830   \n",
      "\n",
      "       building_proximity  \n",
      "count          194.000000  \n",
      "mean            17.870162  \n",
      "std             11.958802  \n",
      "min              1.620812  \n",
      "25%             11.352582  \n",
      "50%             15.768115  \n",
      "75%             20.725466  \n",
      "max             96.376621  \n",
      "\\nCooling Metrics Scales:\\n               PCI            PCA         PCE  lst_reduction\n",
      "count  194.000000     194.000000  194.000000     194.000000\n",
      "mean     0.512610   48527.212756   10.317871       0.463619\n",
      "std      0.970277   18877.056199    8.345576       0.808022\n",
      "min     -1.956827    8941.278478    0.384186      -1.199007\n",
      "25%     -0.074203   38632.387294    4.145662      -0.017010\n",
      "50%      0.414083   49207.351945    7.909512       0.382367\n",
      "75%      0.982109   58584.010731   14.038089       0.784528\n",
      "max      6.950153  133933.704782   41.708454       6.679984\n"
     ]
    }
   ],
   "source": [
    "# Define predictors and cooling metrics\n",
    "predictors = ['log_area_m2', 'ndvi_mean', 'pisi_mean', 'LSI', 'building_density', 'building_proximity']\n",
    "cooling_metrics = ['PCI', 'PCA', 'PCE', 'lst_reduction']\n",
    "\n",
    "# Check scales for predictors and dependent variables\n",
    "print(\"Predictor Scales:\\\\n\", data_gdf[predictors].describe())\n",
    "print(\"\\\\nCooling Metrics Scales:\\\\n\", data_gdf[cooling_metrics].describe())\n",
    "\n",
    "# Toggle for standardization\n",
    "standardize = True  # Standardize predictors due to mixed scales\n",
    "standardize_y = False  #  Change to True for explatory run\n",
    "\n",
    "# Initialize scaler (fit deferred to another cell)\n",
    "scaler = StandardScaler() if standardize else None\n",
    "scaler_y_dict = {}\n",
    "if standardize_y:\n",
    "    for metric in cooling_metrics:\n",
    "        scaler_y_dict[metric] = StandardScaler()\n",
    "\n",
    "# Extract coordinates from working data\n",
    "data_gdf['centroid'] = data_gdf.geometry.centroid\n",
    "coords = np.array(list(zip(data_gdf.centroid.x, data_gdf.centroid.y)))\n",
    "\n",
    "# Create spatial weights using KNN (k=4)\n",
    "w = KNN.from_dataframe(data_gdf, k=4)\n",
    "w.transform = 'r'"
   ]
  },
  {
   "cell_type": "markdown",
   "metadata": {},
   "source": [
    "## 2. Analysis"
   ]
  },
  {
   "cell_type": "markdown",
   "metadata": {},
   "source": [
    "### 2.1 Define Reusable Functions"
   ]
  },
  {
   "cell_type": "code",
   "execution_count": 48,
   "metadata": {},
   "outputs": [],
   "source": [
    "# Set up logging for debugging\n",
    "logging.basicConfig(level=logging.INFO)\n",
    "logger = logging.getLogger(__name__)"
   ]
  },
  {
   "cell_type": "code",
   "execution_count": 49,
   "metadata": {},
   "outputs": [],
   "source": [
    "def run_ols_regression(data_gdf, metric, predictors, w, scaler, standardize, standardize_y, scaler_y=None):\n",
    "    if standardize:\n",
    "        if scaler is None or not hasattr(scaler, 'scale_'):  # Check if scaler is fitted\n",
    "            scaler = StandardScaler().fit(data_gdf[predictors])  # Fit if not fitted\n",
    "        X = scaler.transform(data_gdf[predictors])\n",
    "    else:\n",
    "        X = data_gdf[predictors].values\n",
    "    y_raw = data_gdf[metric].values  # Keep raw y for potential later use\n",
    "    y = y_raw.copy()  # Work on a copy\n",
    "    if standardize_y and scaler_y is not None:\n",
    "        if not hasattr(scaler_y, 'scale_'):  # Auto-fit if not fitted\n",
    "            scaler_y.fit(y.reshape(-1, 1))\n",
    "        y = scaler_y.transform(y.reshape(-1, 1)).flatten()\n",
    "    X_ols = sm.add_constant(X)  # Add constant term\n",
    "    model = sm.OLS(y, X_ols).fit()  # Fit OLS model\n",
    "    moran = Moran(model.resid, w)  # Compute Moran's I for residuals\n",
    "    return {\n",
    "        'model': model,  # Store fitted model\n",
    "        'summary': model.summary(),  # Store summary statistics\n",
    "        'moran_i': moran.I,  # Store Moran's I\n",
    "        'moran_p': moran.p_norm,  # Store p-value\n",
    "        'rss': model.ssr # For Validation\n",
    "    }"
   ]
  },
  {
   "cell_type": "code",
   "execution_count": 50,
   "metadata": {},
   "outputs": [],
   "source": [
    "def run_mgwr_regression(data_gdf, metric, predictors, coords, w, n_samples, scaler, standardize, standardize_y, scaler_y=None):\n",
    "    if standardize:\n",
    "        if scaler is None or not hasattr(scaler, 'scale_'):  # Check if scaler is fitted\n",
    "            scaler = StandardScaler().fit(data_gdf[predictors])  # Fit if not fitted\n",
    "        X = scaler.transform(data_gdf[predictors])\n",
    "    else:\n",
    "        X = data_gdf[predictors].values\n",
    "    y_raw = data_gdf[metric].values.reshape(-1, 1)  # Keep raw y for potential later use\n",
    "    y = y_raw.copy()  # Work on a copy\n",
    "    if standardize_y and scaler_y is not None:\n",
    "        if not hasattr(scaler_y, 'scale_'):  # Auto-fit if not fitted\n",
    "            scaler_y.fit(y)\n",
    "        y = scaler_y.transform(y)\n",
    "    \n",
    "    selector = Sel_BW(coords, y, X, multi=True, kernel='bisquare', fixed=False)  # Initialize bandwidth selector\n",
    "    bw = selector.search(criterion='AICc')  # Your chosen criterion\n",
    "    if bw is None or any(b > n_samples - 1 for b in bw):  # Check for invalid bandwidths\n",
    "        logger.warning(f\"Invalid bandwidths for {metric}. Falling back to half sample size.\")\n",
    "        bw = np.full(len(predictors) + 1, max(2, n_samples // 2), dtype=int)  # Use fallback bandwidth\n",
    "    mgwr_model = MGWR(coords, y, X, selector, fixed=False, kernel='bisquare')  # Initialize MGWR model\n",
    "    mgwr_results_metric = mgwr_model.fit()  # Fit MGWR model\n",
    "    rss_manual = np.sum(mgwr_results_metric.resid_response ** 2)  # Manual RSS since it's not yet supported by mgwr\n",
    "    return {\n",
    "        'model': mgwr_results_metric, \n",
    "        'bandwidths': bw,\n",
    "        'rss': rss_manual\n",
    "        }"
   ]
  },
  {
   "cell_type": "code",
   "execution_count": 51,
   "metadata": {},
   "outputs": [],
   "source": [
    "def store_mgwr_results(data_gdf, metric, mgwr_results, predictor_names, standardize_y, scaler_y=None):\n",
    "    mgwr_results_metric = mgwr_results['model']\n",
    "    for i, pred in enumerate(predictor_names): # Iterate over predictors\n",
    "        data_gdf[f'{metric}_coef_{pred}'] = mgwr_results_metric.params[:, i]\n",
    "        data_gdf[f'{metric}_tval_{pred}'] = mgwr_results_metric.filter_tvals()[:, i]\n",
    "        data_gdf[f'{metric}_sig_{pred}'] = np.abs(data_gdf[f'{metric}_tval_{pred}']) > 1.96\n",
    "    y_pred = mgwr_results_metric.predy.flatten()\n",
    "    if standardize_y and scaler_y is not None:\n",
    "        y_pred = scaler_y.inverse_transform(y_pred.reshape(-1, 1)).flatten()\n",
    "    y_true = data_gdf[metric].values\n",
    "    local_r2_proxy = np.corrcoef(y_true, y_pred)[0, 1] ** 2 # Compute local R² proxy\n",
    "    data_gdf[f'{metric}_localR2_proxy'] = local_r2_proxy"
   ]
  },
  {
   "cell_type": "markdown",
   "metadata": {},
   "source": [
    "### 2.2 Model Diagnostics\n",
    "Check multicollinearity via VIF (threshold >5 suggests issues) to ensure reliable coefficients. \n",
    "\n",
    "Note: High correlation (-0.79) between `pisi_mean` and `ndvi_mean` observed; `pisi_mean` retained for its imperviousness effect, with local significance monitored."
   ]
  },
  {
   "cell_type": "code",
   "execution_count": 52,
   "metadata": {},
   "outputs": [
    {
     "name": "stdout",
     "output_type": "stream",
     "text": [
      "VIF Results:\n",
      "               feature       VIF\n",
      "0         log_area_m2  1.657537\n",
      "1           ndvi_mean  2.869838\n",
      "2           pisi_mean  2.816772\n",
      "3                 LSI  1.184877\n",
      "4    building_density  1.320755\n",
      "5  building_proximity  1.706075\n"
     ]
    },
    {
     "data": {
      "image/png": "[encoded data removed]",
      "text/plain": [
       "<Figure size 800x600 with 2 Axes>"
      ]
     },
     "metadata": {},
     "output_type": "display_data"
    }
   ],
   "source": [
    "# Compute VIF for predictors\n",
    "X_vif = sm.add_constant(data_gdf[predictors])\n",
    "vif_data = pd.DataFrame()\n",
    "vif_data['feature'] = predictors\n",
    "vif_data['VIF'] = [variance_inflation_factor(X_vif.values, i+1) for i in range(len(predictors))]\n",
    "print(\"VIF Results:\\n\", vif_data)\n",
    "\n",
    "# Correlation heatmap\n",
    "plt.figure(figsize=(8, 6))\n",
    "sns.heatmap(data_gdf[predictors].corr(), annot=True, cmap='coolwarm', fmt='.2f')\n",
    "plt.title('Predictor Correlation Heatmap')\n",
    "plt.show()\n",
    "# Logic: High VIF (>5) or correlations (>0.7) may bias coefficients; informs interaction terms."
   ]
  },
  {
   "cell_type": "code",
   "execution_count": 53,
   "metadata": {},
   "outputs": [],
   "source": [
    "# Use original predictors\n",
    "predictors = ['log_area_m2', 'ndvi_mean', 'pisi_mean', 'LSI', 'building_density', 'building_proximity']\n",
    "\n",
    "# Refit scaler with updated predictors\n",
    "if standardize:\n",
    "    scaler.fit(data_gdf[predictors])\n",
    "    X = scaler.transform(data_gdf[predictors])\n",
    "else:\n",
    "    X = data_gdf[predictors].values\n",
    "\n",
    "# Update predictor names including constant\n",
    "predictor_names = ['const'] + predictors\n",
    "\n",
    "# Redefine spatial weights for consistency\n",
    "w = KNN.from_dataframe(data_gdf, k=4)\n",
    "w.transform = 'r'"
   ]
  },
  {
   "cell_type": "markdown",
   "metadata": {},
   "source": [
    "### 2.3 Model Runs\n"
   ]
  },
  {
   "cell_type": "markdown",
   "metadata": {},
   "source": [
    "Perform OLS and MGWR to quantify relationships with predictors, including interactions. Uses Bi-square kernel, AICc for bandwidth optimization, per [Huand et al., 2025](https://www.nature.com/articles/s41598-025-07904-8)"
   ]
  },
  {
   "cell_type": "markdown",
   "metadata": {},
   "source": [
    "#### 2.3.1 PCI"
   ]
  },
  {
   "cell_type": "code",
   "execution_count": 54,
   "metadata": {},
   "outputs": [
    {
     "name": "stdout",
     "output_type": "stream",
     "text": [
      "\n",
      "OLS Summary for PCI:\n",
      "                            OLS Regression Results                            \n",
      "==============================================================================\n",
      "Dep. Variable:                      y   R-squared:                       0.330\n",
      "Model:                            OLS   Adj. R-squared:                  0.309\n",
      "Method:                 Least Squares   F-statistic:                     15.38\n",
      "Date:                Sun, 03 Aug 2025   Prob (F-statistic):           2.63e-14\n",
      "Time:                        11:33:28   Log-Likelihood:                -230.00\n",
      "No. Observations:                 194   AIC:                             474.0\n",
      "Df Residuals:                     187   BIC:                             496.9\n",
      "Df Model:                           6                                         \n",
      "Covariance Type:            nonrobust                                         \n",
      "==============================================================================\n",
      "                 coef    std err          t      P>|t|      [0.025      0.975]\n",
      "------------------------------------------------------------------------------\n",
      "const          0.5126      0.058      8.852      0.000       0.398       0.627\n",
      "x1             0.4516      0.075      6.057      0.000       0.304       0.599\n",
      "x2             0.4850      0.098      4.944      0.000       0.291       0.679\n",
      "x3             0.2497      0.097      2.570      0.011       0.058       0.441\n",
      "x4            -0.0865      0.063     -1.373      0.171      -0.211       0.038\n",
      "x5            -0.1242      0.067     -1.866      0.064      -0.255       0.007\n",
      "x6            -0.2207      0.076     -2.918      0.004      -0.370      -0.072\n",
      "==============================================================================\n",
      "Omnibus:                       28.336   Durbin-Watson:                   1.910\n",
      "Prob(Omnibus):                  0.000   Jarque-Bera (JB):               69.451\n",
      "Skew:                           0.625   Prob(JB):                     8.29e-16\n",
      "Kurtosis:                       5.652   Cond. No.                         3.16\n",
      "==============================================================================\n",
      "\n",
      "Notes:\n",
      "[1] Standard Errors assume that the covariance matrix of the errors is correctly specified.\n",
      "Moran's I for residuals: 0.0841, p-value: 0.0560\n",
      "OLS AIC: 474.0068\n"
     ]
    }
   ],
   "source": [
    "# Run OLS regression for PCI\n",
    "ols_pci = run_ols_regression(data_gdf, 'PCI', predictors, w, scaler, standardize, standardize_y, scaler_y_dict.get('PCI'))\n",
    "print(f\"\\nOLS Summary for PCI:\\n{ols_pci['summary']}\")\n",
    "print(f\"Moran's I for residuals: {ols_pci['moran_i']:.4f}, p-value: {ols_pci['moran_p']:.4f}\")\n",
    "print(f\"OLS AIC: {ols_pci['model'].aic:.4f}\")\n",
    "# Logic: OLS as baseline; Moran's I tests spatial autocorrelation."
   ]
  },
  {
   "cell_type": "code",
   "execution_count": 55,
   "metadata": {},
   "outputs": [
    {
     "data": {
      "application/vnd.jupyter.widget-view+json": {
       "model_id": "e9e0f985bbb14a02997861a1f7ec71c1",
       "version_major": 2,
       "version_minor": 0
      },
      "text/plain": [
       "Backfitting:   0%|          | 0/200 [00:00<?, ?it/s]"
      ]
     },
     "metadata": {},
     "output_type": "display_data"
    },
    {
     "data": {
      "application/vnd.jupyter.widget-view+json": {
       "model_id": "f113cf656b8047bfb3f0fde5f876406f",
       "version_major": 2,
       "version_minor": 0
      },
      "text/plain": [
       "Inference:   0%|          | 0/1 [00:00<?, ?it/s]"
      ]
     },
     "metadata": {},
     "output_type": "display_data"
    },
    {
     "name": "stdout",
     "output_type": "stream",
     "text": [
      "MGWR Optimal Bandwidths for PCI: [126.  72. 193. 168. 193. 116. 193.]\n",
      "MGWR Summary for PCI:\n",
      "Global R2: 0.5517\n",
      "MGWR AIC: 425.0011\n"
     ]
    }
   ],
   "source": [
    "# Run MGWR regression for PCI\n",
    "mgwr_pci = run_mgwr_regression(data_gdf, 'PCI', predictors, coords, w, len(data_gdf), scaler, standardize, standardize_y, scaler_y_dict.get('PCI'))\n",
    "print(f\"MGWR Optimal Bandwidths for PCI: {mgwr_pci['bandwidths']}\")\n",
    "print(f\"MGWR Summary for PCI:\")\n",
    "print(f\"Global R2: {mgwr_pci['model'].R2:.4f}\")\n",
    "print(f\"MGWR AIC: {mgwr_pci['model'].aic:.4f}\")"
   ]
  },
  {
   "cell_type": "code",
   "execution_count": 56,
   "metadata": {},
   "outputs": [
    {
     "name": "stdout",
     "output_type": "stream",
     "text": [
      "Local R2 Proxy: 0.5544\n"
     ]
    }
   ],
   "source": [
    "# Store MGWR results for PCI\n",
    "store_mgwr_results(data_gdf, 'PCI', mgwr_pci, predictor_names, standardize_y, scaler_y_dict.get('PCI'))\n",
    "print(f\"Local R2 Proxy: {data_gdf['PCI_localR2_proxy'].mean():.4f}\")\n",
    "# Logic: Store coefficients and significance; local R² proxy evaluates fit."
   ]
  },
  {
   "cell_type": "code",
   "execution_count": 57,
   "metadata": {},
   "outputs": [
    {
     "data": {
      "image/png": "[encoded data removed]",
      "text/plain": [
       "<Figure size 800x600 with 1 Axes>"
      ]
     },
     "metadata": {},
     "output_type": "display_data"
    }
   ],
   "source": [
    "# MGWR residuals vs. fitted values\n",
    "mgwr_residuals = data_gdf['PCI'] - mgwr_pci['model'].predy.flatten()\n",
    "plt.figure(figsize=(8, 6))\n",
    "plt.scatter(mgwr_pci['model'].predy.flatten(), mgwr_residuals, c='blue', alpha=0.5)\n",
    "plt.axhline(0, color='red', linestyle='--')\n",
    "plt.xlabel('Fitted Values')\n",
    "plt.ylabel('MGWR Residuals')\n",
    "plt.title('MGWR Residuals vs. Fitted Values for PCI')\n",
    "plt.show()\n",
    "\n"
   ]
  },
  {
   "cell_type": "markdown",
   "metadata": {},
   "source": [
    "Assessment: \n",
    "- Linearity: No curved pattern.\n",
    "- Homoscedasticity: Constant variance.\n",
    "- Independence: Random scatter, no clustering.\n",
    "- Outliers: Minimal, unlikely to bias results."
   ]
  },
  {
   "cell_type": "markdown",
   "metadata": {},
   "source": [
    "#### 2.3.2 PCA"
   ]
  },
  {
   "cell_type": "code",
   "execution_count": 58,
   "metadata": {},
   "outputs": [
    {
     "name": "stdout",
     "output_type": "stream",
     "text": [
      "\n",
      "OLS Summary for PCA:\n",
      "                            OLS Regression Results                            \n",
      "==============================================================================\n",
      "Dep. Variable:                      y   R-squared:                       0.463\n",
      "Model:                            OLS   Adj. R-squared:                  0.446\n",
      "Method:                 Least Squares   F-statistic:                     26.91\n",
      "Date:                Sun, 03 Aug 2025   Prob (F-statistic):           5.30e-23\n",
      "Time:                        11:34:19   Log-Likelihood:                -2124.5\n",
      "No. Observations:                 194   AIC:                             4263.\n",
      "Df Residuals:                     187   BIC:                             4286.\n",
      "Df Model:                           6                                         \n",
      "Covariance Type:            nonrobust                                         \n",
      "==============================================================================\n",
      "                 coef    std err          t      P>|t|      [0.025      0.975]\n",
      "------------------------------------------------------------------------------\n",
      "const       4.853e+04   1008.662     48.110      0.000    4.65e+04    5.05e+04\n",
      "x1          1.122e+04   1298.606      8.643      0.000    8662.176    1.38e+04\n",
      "x2          2893.7781   1708.734      1.694      0.092    -477.094    6264.650\n",
      "x3          5383.7037   1692.862      3.180      0.002    2044.142    8723.265\n",
      "x4          2856.9426   1097.949      2.602      0.010     690.984    5022.902\n",
      "x5          -188.3848   1159.196     -0.163      0.871   -2475.167    2098.397\n",
      "x6           593.8222   1317.482      0.451      0.653   -2005.216    3192.860\n",
      "==============================================================================\n",
      "Omnibus:                       10.627   Durbin-Watson:                   2.178\n",
      "Prob(Omnibus):                  0.005   Jarque-Bera (JB):               11.457\n",
      "Skew:                          -0.585   Prob(JB):                      0.00325\n",
      "Kurtosis:                       2.784   Cond. No.                         3.16\n",
      "==============================================================================\n",
      "\n",
      "Notes:\n",
      "[1] Standard Errors assume that the covariance matrix of the errors is correctly specified.\n",
      "Moran's I for residuals: 0.0875, p-value: 0.0473\n",
      "OLS AIC: 4262.9387\n"
     ]
    }
   ],
   "source": [
    "# Run OLS and MGWR for PCA\n",
    "ols_pca = run_ols_regression(data_gdf, 'PCA', predictors, w, scaler, standardize, standardize_y, scaler_y_dict.get('PCA'))\n",
    "print(f\"\\nOLS Summary for PCA:\\n{ols_pca['summary']}\")\n",
    "print(f\"Moran's I for residuals: {ols_pca['moran_i']:.4f}, p-value: {ols_pca['moran_p']:.4f}\")\n",
    "print(f\"OLS AIC: {ols_pca['model'].aic:.4f}\")"
   ]
  },
  {
   "cell_type": "code",
   "execution_count": 59,
   "metadata": {},
   "outputs": [
    {
     "data": {
      "application/vnd.jupyter.widget-view+json": {
       "model_id": "6e37d991797e4da99292feab1e095e1c",
       "version_major": 2,
       "version_minor": 0
      },
      "text/plain": [
       "Backfitting:   0%|          | 0/200 [00:00<?, ?it/s]"
      ]
     },
     "metadata": {},
     "output_type": "display_data"
    },
    {
     "data": {
      "application/vnd.jupyter.widget-view+json": {
       "model_id": "cdc989b59f1841aaae590faf44936891",
       "version_major": 2,
       "version_minor": 0
      },
      "text/plain": [
       "Inference:   0%|          | 0/1 [00:00<?, ?it/s]"
      ]
     },
     "metadata": {},
     "output_type": "display_data"
    },
    {
     "name": "stdout",
     "output_type": "stream",
     "text": [
      "\n",
      "MGWR Optimal Bandwidths for PCA: [193. 193. 171. 189. 193. 193. 190.]\n",
      "MGWR Summary for PCA:\n",
      "Global R2: 0.4805\n",
      "MGWR AIC: 4266.5714\n"
     ]
    }
   ],
   "source": [
    "mgwr_pca = run_mgwr_regression(data_gdf, 'PCA', predictors, coords, w, len(data_gdf), scaler, standardize, standardize_y, scaler_y_dict.get('PCA'))\n",
    "print(f\"\\nMGWR Optimal Bandwidths for PCA: {mgwr_pca['bandwidths']}\")\n",
    "print(f\"MGWR Summary for PCA:\")\n",
    "print(f\"Global R2: {mgwr_pca['model'].R2:.4f}\")\n",
    "print(f\"MGWR AIC: {mgwr_pca['model'].aic:.4f}\")"
   ]
  },
  {
   "cell_type": "code",
   "execution_count": 60,
   "metadata": {},
   "outputs": [
    {
     "name": "stdout",
     "output_type": "stream",
     "text": [
      "Local R2 Proxy: 0.4808\n"
     ]
    }
   ],
   "source": [
    "\n",
    "store_mgwr_results(data_gdf, 'PCA', mgwr_pca, predictor_names, standardize_y, scaler_y_dict.get('PCA'))\n",
    "print(f\"Local R2 Proxy: {data_gdf['PCA_localR2_proxy'].mean():.4f}\")\n"
   ]
  },
  {
   "cell_type": "code",
   "execution_count": 61,
   "metadata": {},
   "outputs": [
    {
     "data": {
      "image/png": "[encoded data removed]",
      "text/plain": [
       "<Figure size 800x600 with 1 Axes>"
      ]
     },
     "metadata": {},
     "output_type": "display_data"
    }
   ],
   "source": [
    "# PCA residuals\n",
    "mgwr_residuals_pca = data_gdf['PCA'] - mgwr_pca['model'].predy.flatten()\n",
    "plt.figure(figsize=(8, 6))\n",
    "plt.scatter(mgwr_pca['model'].predy.flatten(), mgwr_residuals_pca, c='blue', alpha=0.5)\n",
    "plt.axhline(0, color='red', linestyle='--')\n",
    "plt.xlabel('Fitted Values')\n",
    "plt.ylabel('MGWR Residuals')\n",
    "plt.title('MGWR Residuals vs. Fitted Values for PCA')\n",
    "plt.show()"
   ]
  },
  {
   "cell_type": "markdown",
   "metadata": {},
   "source": [
    "Assessment: \n",
    "- Linearity: Random distribution.\n",
    "- Homoscedasticity: Mild heteroscedasticity (spread increases slightly).\n",
    "- Outliers: A few large residuals at high fitted values may indicate over-prediction for large parks."
   ]
  },
  {
   "cell_type": "markdown",
   "metadata": {},
   "source": [
    "#### 2.3.3 PCE"
   ]
  },
  {
   "cell_type": "code",
   "execution_count": 62,
   "metadata": {},
   "outputs": [
    {
     "name": "stdout",
     "output_type": "stream",
     "text": [
      "\n",
      "OLS Summary for PCE:\n",
      "                            OLS Regression Results                            \n",
      "==============================================================================\n",
      "Dep. Variable:                      y   R-squared:                       0.583\n",
      "Model:                            OLS   Adj. R-squared:                  0.570\n",
      "Method:                 Least Squares   F-statistic:                     43.61\n",
      "Date:                Sun, 03 Aug 2025   Prob (F-statistic):           4.54e-33\n",
      "Time:                        11:34:39   Log-Likelihood:                -601.50\n",
      "No. Observations:                 194   AIC:                             1217.\n",
      "Df Residuals:                     187   BIC:                             1240.\n",
      "Df Model:                           6                                         \n",
      "Covariance Type:            nonrobust                                         \n",
      "==============================================================================\n",
      "                 coef    std err          t      P>|t|      [0.025      0.975]\n",
      "------------------------------------------------------------------------------\n",
      "const         10.3179      0.393     26.255      0.000       9.543      11.093\n",
      "x1            -6.4427      0.506    -12.734      0.000      -7.441      -5.445\n",
      "x2             1.1993      0.666      1.801      0.073      -0.114       2.513\n",
      "x3             2.2205      0.660      3.367      0.001       0.919       3.522\n",
      "x4             0.3826      0.428      0.894      0.372      -0.461       1.226\n",
      "x5             0.2230      0.452      0.494      0.622      -0.668       1.114\n",
      "x6             1.0040      0.513      1.956      0.052      -0.009       2.017\n",
      "==============================================================================\n",
      "Omnibus:                       38.409   Durbin-Watson:                   2.138\n",
      "Prob(Omnibus):                  0.000   Jarque-Bera (JB):               70.277\n",
      "Skew:                           0.984   Prob(JB):                     5.49e-16\n",
      "Kurtosis:                       5.196   Cond. No.                         3.16\n",
      "==============================================================================\n",
      "\n",
      "Notes:\n",
      "[1] Standard Errors assume that the covariance matrix of the errors is correctly specified.\n",
      "Moran's I for residuals: -0.0397, p-value: 0.4594\n",
      "OLS AIC: 1217.0062\n"
     ]
    }
   ],
   "source": [
    "# Run OLS and MGWR for PCE\n",
    "ols_pce = run_ols_regression(data_gdf, 'PCE', predictors, w, scaler, standardize, standardize_y, scaler_y_dict.get('PCE'))\n",
    "print(f\"\\nOLS Summary for PCE:\\n{ols_pce['summary']}\")\n",
    "print(f\"Moran's I for residuals: {ols_pce['moran_i']:.4f}, p-value: {ols_pce['moran_p']:.4f}\")\n",
    "print(f\"OLS AIC: {ols_pce['model'].aic:.4f}\")"
   ]
  },
  {
   "cell_type": "code",
   "execution_count": 63,
   "metadata": {},
   "outputs": [
    {
     "data": {
      "application/vnd.jupyter.widget-view+json": {
       "model_id": "538bb08740c047dabf620d1ab86c0276",
       "version_major": 2,
       "version_minor": 0
      },
      "text/plain": [
       "Backfitting:   0%|          | 0/200 [00:00<?, ?it/s]"
      ]
     },
     "metadata": {},
     "output_type": "display_data"
    },
    {
     "data": {
      "application/vnd.jupyter.widget-view+json": {
       "model_id": "5968b732b0654336ae50efa21e5b599c",
       "version_major": 2,
       "version_minor": 0
      },
      "text/plain": [
       "Inference:   0%|          | 0/1 [00:00<?, ?it/s]"
      ]
     },
     "metadata": {},
     "output_type": "display_data"
    },
    {
     "name": "stdout",
     "output_type": "stream",
     "text": [
      "\n",
      "MGWR Optimal Bandwidths for PCE: [193.  56. 192. 193. 192. 193. 193.]\n",
      "MGWR Summary for PCE:\n",
      "Global R2: 0.6392\n",
      "MGWR AIC: 1211.6526\n"
     ]
    }
   ],
   "source": [
    "mgwr_pce = run_mgwr_regression(data_gdf, 'PCE', predictors, coords, w, len(data_gdf), scaler, standardize, standardize_y, scaler_y_dict.get('PCE'))\n",
    "print(f\"\\nMGWR Optimal Bandwidths for PCE: {mgwr_pce['bandwidths']}\")\n",
    "print(f\"MGWR Summary for PCE:\")\n",
    "print(f\"Global R2: {mgwr_pce['model'].R2:.4f}\")\n",
    "print(f\"MGWR AIC: {mgwr_pce['model'].aic:.4f}\")"
   ]
  },
  {
   "cell_type": "code",
   "execution_count": 64,
   "metadata": {},
   "outputs": [
    {
     "name": "stdout",
     "output_type": "stream",
     "text": [
      "Local R2 Proxy: 0.6393\n"
     ]
    }
   ],
   "source": [
    "store_mgwr_results(data_gdf, 'PCE', mgwr_pce, predictor_names, standardize_y, scaler_y_dict.get('PCE'))\n",
    "print(f\"Local R2 Proxy: {data_gdf['PCE_localR2_proxy'].mean():.4f}\")"
   ]
  },
  {
   "cell_type": "code",
   "execution_count": 65,
   "metadata": {},
   "outputs": [
    {
     "data": {
      "image/png": "[encoded data removed]",
      "text/plain": [
       "<Figure size 800x600 with 1 Axes>"
      ]
     },
     "metadata": {},
     "output_type": "display_data"
    }
   ],
   "source": [
    "# PCE residuals\n",
    "mgwr_residuals_pce = data_gdf['PCE'] - mgwr_pce['model'].predy.flatten()\n",
    "plt.figure(figsize=(8, 6))\n",
    "plt.scatter(mgwr_pce['model'].predy.flatten(), mgwr_residuals_pce, c='blue', alpha=0.5)\n",
    "plt.axhline(0, color='red', linestyle='--')\n",
    "plt.xlabel('Fitted Values')\n",
    "plt.ylabel('MGWR Residuals')\n",
    "plt.title('MGWR Residuals vs. Fitted Values for PCE')\n",
    "plt.show()\n",
    "# Logic: Ensure model assumptions hold for PCA and PCE."
   ]
  },
  {
   "cell_type": "markdown",
   "metadata": {},
   "source": [
    "Assessment: \n",
    "- Linearity: No pattern, indicating good fit.\n",
    "- Homoscedasticity: Potential heteroscedasticity (increasing spread).\n",
    "- Outliers: Several positive residuals at high fitted values, possibly skewing efficiency."
   ]
  },
  {
   "cell_type": "markdown",
   "metadata": {},
   "source": [
    "### 2.4 Internal Impact"
   ]
  },
  {
   "cell_type": "markdown",
   "metadata": {},
   "source": [
    "Repeat analysis for lst_reduction to measure internal impact factors, using existing predictors and settings."
   ]
  },
  {
   "cell_type": "code",
   "execution_count": 66,
   "metadata": {},
   "outputs": [
    {
     "name": "stdout",
     "output_type": "stream",
     "text": [
      "OLS Summary for lst_reduction:\n",
      "                            OLS Regression Results                            \n",
      "==============================================================================\n",
      "Dep. Variable:                      y   R-squared:                       0.407\n",
      "Model:                            OLS   Adj. R-squared:                  0.388\n",
      "Method:                 Least Squares   F-statistic:                     21.39\n",
      "Date:                Sun, 03 Aug 2025   Prob (F-statistic):           4.68e-19\n",
      "Time:                        11:35:00   Log-Likelihood:                -182.74\n",
      "No. Observations:                 194   AIC:                             379.5\n",
      "Df Residuals:                     187   BIC:                             402.3\n",
      "Df Model:                           6                                         \n",
      "Covariance Type:            nonrobust                                         \n",
      "==============================================================================\n",
      "                 coef    std err          t      P>|t|      [0.025      0.975]\n",
      "------------------------------------------------------------------------------\n",
      "const          0.4636      0.045     10.215      0.000       0.374       0.553\n",
      "x1             0.4370      0.058      7.478      0.000       0.322       0.552\n",
      "x2             0.4048      0.077      5.264      0.000       0.253       0.556\n",
      "x3             0.2012      0.076      2.641      0.009       0.051       0.351\n",
      "x4            -0.0949      0.049     -1.921      0.056      -0.192       0.003\n",
      "x5            -0.0784      0.052     -1.504      0.134      -0.181       0.024\n",
      "x6            -0.1422      0.059     -2.399      0.017      -0.259      -0.025\n",
      "==============================================================================\n",
      "Omnibus:                       81.466   Durbin-Watson:                   1.899\n",
      "Prob(Omnibus):                  0.000   Jarque-Bera (JB):              631.569\n",
      "Skew:                           1.365   Prob(JB):                    7.19e-138\n",
      "Kurtosis:                      11.407   Cond. No.                         3.16\n",
      "==============================================================================\n",
      "\n",
      "Notes:\n",
      "[1] Standard Errors assume that the covariance matrix of the errors is correctly specified.\n",
      "Moran's I for residuals: 0.0918, p-value: 0.0378\n",
      "OLS AIC: 379.4730\n"
     ]
    }
   ],
   "source": [
    "# Run OLS and MGWR for lst_reduction without interactions\n",
    "ols_lst = run_ols_regression(data_gdf, 'lst_reduction', predictors, w, scaler, standardize, standardize_y, scaler_y_dict.get('lst_reduction'))\n",
    "print(\"OLS Summary for lst_reduction:\")\n",
    "print(ols_lst['summary'])\n",
    "print(f\"Moran's I for residuals: {ols_lst['moran_i']:.4f}, p-value: {ols_lst['moran_p']:.4f}\")\n",
    "print(f\"OLS AIC: {ols_lst['model'].aic:.4f}\")"
   ]
  },
  {
   "cell_type": "code",
   "execution_count": 67,
   "metadata": {},
   "outputs": [
    {
     "data": {
      "application/vnd.jupyter.widget-view+json": {
       "model_id": "583b05c6b0774746b5409059cdb08b02",
       "version_major": 2,
       "version_minor": 0
      },
      "text/plain": [
       "Backfitting:   0%|          | 0/200 [00:00<?, ?it/s]"
      ]
     },
     "metadata": {},
     "output_type": "display_data"
    },
    {
     "data": {
      "application/vnd.jupyter.widget-view+json": {
       "model_id": "183626df3ee54da5b87732c7a613a6fa",
       "version_major": 2,
       "version_minor": 0
      },
      "text/plain": [
       "Inference:   0%|          | 0/1 [00:00<?, ?it/s]"
      ]
     },
     "metadata": {},
     "output_type": "display_data"
    },
    {
     "name": "stdout",
     "output_type": "stream",
     "text": [
      "\n",
      "MGWR Optimal Bandwidths for lst_reduction: [126.  43. 193. 168. 193.  71. 193.]\n",
      "MGWR Summary for lst_reduction:\n",
      "Global R2: 0.6750\n",
      "MGWR AIC: 305.9054\n"
     ]
    }
   ],
   "source": [
    "mgwr_lst = run_mgwr_regression(data_gdf, 'lst_reduction', predictors, coords, w, len(data_gdf), scaler, standardize, standardize_y, scaler_y_dict.get('lst_reduction'))\n",
    "print(f\"\\nMGWR Optimal Bandwidths for lst_reduction: {mgwr_lst['bandwidths']}\")\n",
    "print(f\"MGWR Summary for lst_reduction:\")\n",
    "print(f\"Global R2: {mgwr_lst['model'].R2:.4f}\")\n",
    "print(f\"MGWR AIC: {mgwr_lst['model'].aic:.4f}\")"
   ]
  },
  {
   "cell_type": "code",
   "execution_count": 68,
   "metadata": {},
   "outputs": [
    {
     "name": "stdout",
     "output_type": "stream",
     "text": [
      "Local R2 Proxy: 0.6756\n"
     ]
    }
   ],
   "source": [
    "# Store MGWR results for lst_reduction\n",
    "store_mgwr_results(data_gdf, 'lst_reduction', mgwr_lst, predictor_names, standardize_y, scaler_y_dict.get('lst_reduction'))\n",
    "print(f\"Local R2 Proxy: {data_gdf['lst_reduction_localR2_proxy'].mean():.4f}\")"
   ]
  },
  {
   "cell_type": "code",
   "execution_count": 69,
   "metadata": {},
   "outputs": [
    {
     "data": {
      "image/png": "[encoded data removed]",
      "text/plain": [
       "<Figure size 800x600 with 1 Axes>"
      ]
     },
     "metadata": {},
     "output_type": "display_data"
    }
   ],
   "source": [
    "# MGWR residuals vs. fitted values for lst_reduction\n",
    "mgwr_residuals_lst = data_gdf['lst_reduction'] - mgwr_lst['model'].predy.flatten()\n",
    "plt.figure(figsize=(8, 6))\n",
    "plt.scatter(mgwr_lst['model'].predy.flatten(), mgwr_residuals_lst, c='blue', alpha=0.5)\n",
    "plt.axhline(0, color='red', linestyle='--')\n",
    "plt.xlabel('Fitted Values')\n",
    "plt.ylabel('MGWR Residuals')\n",
    "plt.title('MGWR Residuals vs. Fitted Values for lst_reduction')\n",
    "plt.show()"
   ]
  },
  {
   "cell_type": "markdown",
   "metadata": {},
   "source": [
    "Assessment: \n",
    "- Linearity: No pattern, indicating good fit.\n",
    "- Homoscedasticity: Even spread, minimal variance change.\n",
    "- Independence: Random scatter, no clustering.\n",
    "- Outliers: Minor (one at ~2)."
   ]
  },
  {
   "cell_type": "markdown",
   "metadata": {},
   "source": [
    "## 3. Data Export\n",
    "Export results with coefficients and significance for QGIS visualization."
   ]
  },
  {
   "cell_type": "code",
   "execution_count": 70,
   "metadata": {},
   "outputs": [
    {
     "name": "stderr",
     "output_type": "stream",
     "text": [
      "INFO:pyogrio._io:Created 194 records\n"
     ]
    },
    {
     "name": "stdout",
     "output_type": "stream",
     "text": [
      "Exported data to 'Riyadh_parks_with_all_variables.geojson' for QGIS visualization.\n"
     ]
    }
   ],
   "source": [
    "# Drop centroid column to avoid multiple geometry columns\n",
    "data_gdf = data_gdf.drop(columns=['centroid'])\n",
    "\n",
    "# Export for visualization\n",
    "data_gdf.to_file('Data/Riyadh_parks_with_all_variables_raw.geojson', driver='GeoJSON')\n",
    "print(\"Exported data to 'Riyadh_parks_with_all_variables.geojson' for QGIS visualization.\")\n"
   ]
  },
  {
   "cell_type": "markdown",
   "metadata": {},
   "source": [
    "## 4. Cross Validation\n"
   ]
  },
  {
   "cell_type": "markdown",
   "metadata": {},
   "source": [
    "Cross-validation (5-fold) was added to validate model generalizability."
   ]
  },
  {
   "cell_type": "code",
   "execution_count": 71,
   "metadata": {},
   "outputs": [],
   "source": [
    "## For Cross validation\n",
    "\n",
    "def cross_validate_model(data_gdf, metric, predictors, coords, w, scaler, standardize, standardize_y, scaler_y=None, model_type='ols', n_folds=5):\n",
    "    kf = KFold(n_splits=n_folds, shuffle=False)  # Non-shuffled for spatial-ish order\n",
    "    mse_scores = []\n",
    "    r2_scores = []\n",
    "    \n",
    "    for train_idx, test_idx in kf.split(data_gdf):\n",
    "        train_gdf = data_gdf.iloc[train_idx]\n",
    "        test_gdf = data_gdf.iloc[test_idx]\n",
    "        \n",
    "        # Extract train/test coords and weights (refit weights on train)\n",
    "        train_coords = np.array(list(zip(train_gdf.centroid.x, train_gdf.centroid.y)))\n",
    "        test_coords = np.array(list(zip(test_gdf.centroid.x, test_gdf.centroid.y)))\n",
    "        train_w = KNN.from_dataframe(train_gdf, k=4)\n",
    "        train_w.transform = 'r'\n",
    "        \n",
    "        # Prepare data\n",
    "        X_train = scaler.transform(train_gdf[predictors]) if standardize else train_gdf[predictors].values\n",
    "        X_test = scaler.transform(test_gdf[predictors]) if standardize else test_gdf[predictors].values\n",
    "        y_train = train_gdf[metric].values.reshape(-1, 1)\n",
    "        y_test = test_gdf[metric].values\n",
    "        \n",
    "        if standardize_y and scaler_y is not None:\n",
    "            y_train = scaler_y.fit_transform(y_train)  # Fit scaler_y on train data only\n",
    "            y_test = scaler_y.transform(y_test.reshape(-1, 1)).flatten()\n",
    "        \n",
    "        if model_type == 'ols':\n",
    "            X_train_ols = sm.add_constant(X_train)\n",
    "            model = sm.OLS(y_train.flatten(), X_train_ols).fit()\n",
    "            X_test_ols = sm.add_constant(X_test)\n",
    "            y_pred = model.predict(X_test_ols)\n",
    "        elif model_type == 'mgwr':\n",
    "            # Fit MGWR on train (as is)\n",
    "            selector = Sel_BW(train_coords, y_train, X_train, multi=True, kernel='bisquare', fixed=False)\n",
    "            bw = selector.search(criterion='AICc')\n",
    "            if bw is None or any(b > len(train_gdf) - 1 for b in bw):\n",
    "                bw = np.full(len(predictors) + 1, max(2, len(train_gdf) // 2), dtype=int)\n",
    "            mgwr_model = MGWR(train_coords, y_train, X_train, selector, fixed=False, kernel='bisquare')\n",
    "            mgwr_results = mgwr_model.fit()\n",
    "            \n",
    "            # For prediction: Approximate with average bw and weighted OLS per test point\n",
    "            avg_bw = np.mean(bw) if isinstance(bw, np.ndarray) else bw  # Simplify multi-bw\n",
    "            y_pred = np.zeros(len(test_gdf))\n",
    "            for i, test_coord in enumerate(test_coords):\n",
    "                distances = cdist([test_coord], train_coords)[0]\n",
    "                weights = (1 - (distances / avg_bw) ** 2) ** 2\n",
    "                weights[distances > avg_bw] = 0\n",
    "                if np.sum(weights) == 0:  # Avoid zero-weight errors\n",
    "                    weights = np.ones_like(weights) / len(weights)  # Fallback uniform\n",
    "                \n",
    "                # Fit weighted OLS at test point using train data\n",
    "                X_train_with_const = np.hstack([np.ones((len(train_gdf), 1)), X_train])\n",
    "                W = np.diag(weights)\n",
    "                beta = np.linalg.pinv(X_train_with_const.T @ W @ X_train_with_const) @ (X_train_with_const.T @ W @ y_train)\n",
    "                \n",
    "                # Predict\n",
    "                X_test_i = np.hstack([1, X_test[i]])  # Add constant for this test obs\n",
    "                y_pred[i] = (X_test_i @ beta).item()\n",
    "\n",
    "        # If standardize_y, inverse y_pred here before metrics\n",
    "        if standardize_y and scaler_y is not None:\n",
    "            y_pred = scaler_y.inverse_transform(y_pred.reshape(-1, 1)).flatten()\n",
    "        mse_scores.append(mean_squared_error(y_test, y_pred))\n",
    "        r2_scores.append(r2_score(y_test, y_pred))       \n",
    "        mse_scores.append(mean_squared_error(y_test, y_pred))\n",
    "        r2_scores.append(r2_score(y_test, y_pred))\n",
    "    \n",
    "    return {\n",
    "        'mean_mse': np.mean(mse_scores),\n",
    "        'mean_r2': np.mean(r2_scores),\n",
    "        'mse_std': np.std(mse_scores),\n",
    "        'r2_std': np.std(r2_scores)\n",
    "    }"
   ]
  },
  {
   "cell_type": "code",
   "execution_count": 72,
   "metadata": {},
   "outputs": [
    {
     "data": {
      "application/vnd.jupyter.widget-view+json": {
       "model_id": "0ff0f6d9ded14a66aeec6ff1eb235e3b",
       "version_major": 2,
       "version_minor": 0
      },
      "text/plain": [
       "Backfitting:   0%|          | 0/200 [00:00<?, ?it/s]"
      ]
     },
     "metadata": {},
     "output_type": "display_data"
    },
    {
     "data": {
      "application/vnd.jupyter.widget-view+json": {
       "model_id": "0059188d301245328cb11a191dee158f",
       "version_major": 2,
       "version_minor": 0
      },
      "text/plain": [
       "Inference:   0%|          | 0/1 [00:00<?, ?it/s]"
      ]
     },
     "metadata": {},
     "output_type": "display_data"
    },
    {
     "data": {
      "application/vnd.jupyter.widget-view+json": {
       "model_id": "1c8fcbd11f054d30860427013d5b4dba",
       "version_major": 2,
       "version_minor": 0
      },
      "text/plain": [
       "Backfitting:   0%|          | 0/200 [00:00<?, ?it/s]"
      ]
     },
     "metadata": {},
     "output_type": "display_data"
    },
    {
     "data": {
      "application/vnd.jupyter.widget-view+json": {
       "model_id": "5c15f699ab664f29b16ab637ea1149c3",
       "version_major": 2,
       "version_minor": 0
      },
      "text/plain": [
       "Inference:   0%|          | 0/1 [00:00<?, ?it/s]"
      ]
     },
     "metadata": {},
     "output_type": "display_data"
    },
    {
     "data": {
      "application/vnd.jupyter.widget-view+json": {
       "model_id": "57df11c4f1794688bb916e29ce589024",
       "version_major": 2,
       "version_minor": 0
      },
      "text/plain": [
       "Backfitting:   0%|          | 0/200 [00:00<?, ?it/s]"
      ]
     },
     "metadata": {},
     "output_type": "display_data"
    },
    {
     "data": {
      "application/vnd.jupyter.widget-view+json": {
       "model_id": "9829e763bf084ca2b46f89388dc6f4c3",
       "version_major": 2,
       "version_minor": 0
      },
      "text/plain": [
       "Inference:   0%|          | 0/1 [00:00<?, ?it/s]"
      ]
     },
     "metadata": {},
     "output_type": "display_data"
    },
    {
     "data": {
      "application/vnd.jupyter.widget-view+json": {
       "model_id": "1c6b86c49f5c4988852adc60579bab70",
       "version_major": 2,
       "version_minor": 0
      },
      "text/plain": [
       "Backfitting:   0%|          | 0/200 [00:00<?, ?it/s]"
      ]
     },
     "metadata": {},
     "output_type": "display_data"
    },
    {
     "data": {
      "application/vnd.jupyter.widget-view+json": {
       "model_id": "5a169ea9e7e642b5ac5ce3fb5af7bb2e",
       "version_major": 2,
       "version_minor": 0
      },
      "text/plain": [
       "Inference:   0%|          | 0/1 [00:00<?, ?it/s]"
      ]
     },
     "metadata": {},
     "output_type": "display_data"
    },
    {
     "data": {
      "application/vnd.jupyter.widget-view+json": {
       "model_id": "d75fdda803704bb39aee7bc2cbe7d678",
       "version_major": 2,
       "version_minor": 0
      },
      "text/plain": [
       "Backfitting:   0%|          | 0/200 [00:00<?, ?it/s]"
      ]
     },
     "metadata": {},
     "output_type": "display_data"
    },
    {
     "data": {
      "application/vnd.jupyter.widget-view+json": {
       "model_id": "2769a7130c824e79bcf56c954d5e4832",
       "version_major": 2,
       "version_minor": 0
      },
      "text/plain": [
       "Inference:   0%|          | 0/1 [00:00<?, ?it/s]"
      ]
     },
     "metadata": {},
     "output_type": "display_data"
    },
    {
     "data": {
      "application/vnd.jupyter.widget-view+json": {
       "model_id": "eef7aeb16c774369b85264025877d935",
       "version_major": 2,
       "version_minor": 0
      },
      "text/plain": [
       "Backfitting:   0%|          | 0/200 [00:00<?, ?it/s]"
      ]
     },
     "metadata": {},
     "output_type": "display_data"
    },
    {
     "data": {
      "application/vnd.jupyter.widget-view+json": {
       "model_id": "6a430a529b6143dbb656186c9ebc23dd",
       "version_major": 2,
       "version_minor": 0
      },
      "text/plain": [
       "Inference:   0%|          | 0/1 [00:00<?, ?it/s]"
      ]
     },
     "metadata": {},
     "output_type": "display_data"
    },
    {
     "data": {
      "application/vnd.jupyter.widget-view+json": {
       "model_id": "a7fb7ec1d84c4bc7861458a6821973aa",
       "version_major": 2,
       "version_minor": 0
      },
      "text/plain": [
       "Backfitting:   0%|          | 0/200 [00:00<?, ?it/s]"
      ]
     },
     "metadata": {},
     "output_type": "display_data"
    },
    {
     "data": {
      "application/vnd.jupyter.widget-view+json": {
       "model_id": "3a1978cc0d904a2aa2bb88edc289900b",
       "version_major": 2,
       "version_minor": 0
      },
      "text/plain": [
       "Inference:   0%|          | 0/1 [00:00<?, ?it/s]"
      ]
     },
     "metadata": {},
     "output_type": "display_data"
    },
    {
     "data": {
      "application/vnd.jupyter.widget-view+json": {
       "model_id": "c646bdc3489146f78f66f82a2c25a3c7",
       "version_major": 2,
       "version_minor": 0
      },
      "text/plain": [
       "Backfitting:   0%|          | 0/200 [00:00<?, ?it/s]"
      ]
     },
     "metadata": {},
     "output_type": "display_data"
    },
    {
     "data": {
      "application/vnd.jupyter.widget-view+json": {
       "model_id": "7042d21b6b8a4d76b82744b51ec9ef30",
       "version_major": 2,
       "version_minor": 0
      },
      "text/plain": [
       "Inference:   0%|          | 0/1 [00:00<?, ?it/s]"
      ]
     },
     "metadata": {},
     "output_type": "display_data"
    },
    {
     "data": {
      "application/vnd.jupyter.widget-view+json": {
       "model_id": "1c8498291ab9458b811c09c0cbb1d6e2",
       "version_major": 2,
       "version_minor": 0
      },
      "text/plain": [
       "Backfitting:   0%|          | 0/200 [00:00<?, ?it/s]"
      ]
     },
     "metadata": {},
     "output_type": "display_data"
    },
    {
     "data": {
      "application/vnd.jupyter.widget-view+json": {
       "model_id": "36ec7b02bb8b4465b542d77c54f804c1",
       "version_major": 2,
       "version_minor": 0
      },
      "text/plain": [
       "Inference:   0%|          | 0/1 [00:00<?, ?it/s]"
      ]
     },
     "metadata": {},
     "output_type": "display_data"
    },
    {
     "data": {
      "application/vnd.jupyter.widget-view+json": {
       "model_id": "d32add921ad041ec879e57cd964d92a4",
       "version_major": 2,
       "version_minor": 0
      },
      "text/plain": [
       "Backfitting:   0%|          | 0/200 [00:00<?, ?it/s]"
      ]
     },
     "metadata": {},
     "output_type": "display_data"
    },
    {
     "data": {
      "application/vnd.jupyter.widget-view+json": {
       "model_id": "35acf89a58754d8492fb0b394b26f862",
       "version_major": 2,
       "version_minor": 0
      },
      "text/plain": [
       "Inference:   0%|          | 0/1 [00:00<?, ?it/s]"
      ]
     },
     "metadata": {},
     "output_type": "display_data"
    },
    {
     "data": {
      "application/vnd.jupyter.widget-view+json": {
       "model_id": "36bbc32e19f2483abe1533cd5ed509c6",
       "version_major": 2,
       "version_minor": 0
      },
      "text/plain": [
       "Backfitting:   0%|          | 0/200 [00:00<?, ?it/s]"
      ]
     },
     "metadata": {},
     "output_type": "display_data"
    },
    {
     "data": {
      "application/vnd.jupyter.widget-view+json": {
       "model_id": "79485469383846198ad4935200fdabbf",
       "version_major": 2,
       "version_minor": 0
      },
      "text/plain": [
       "Inference:   0%|          | 0/1 [00:00<?, ?it/s]"
      ]
     },
     "metadata": {},
     "output_type": "display_data"
    },
    {
     "data": {
      "application/vnd.jupyter.widget-view+json": {
       "model_id": "8a7980442cb64c69886990489c15dcdb",
       "version_major": 2,
       "version_minor": 0
      },
      "text/plain": [
       "Backfitting:   0%|          | 0/200 [00:00<?, ?it/s]"
      ]
     },
     "metadata": {},
     "output_type": "display_data"
    },
    {
     "data": {
      "application/vnd.jupyter.widget-view+json": {
       "model_id": "b5eac4b18156447488e3b9fa70c4384f",
       "version_major": 2,
       "version_minor": 0
      },
      "text/plain": [
       "Inference:   0%|          | 0/1 [00:00<?, ?it/s]"
      ]
     },
     "metadata": {},
     "output_type": "display_data"
    },
    {
     "data": {
      "application/vnd.jupyter.widget-view+json": {
       "model_id": "b2f674d7b56349b0abeecf3cd0c4ae48",
       "version_major": 2,
       "version_minor": 0
      },
      "text/plain": [
       "Backfitting:   0%|          | 0/200 [00:00<?, ?it/s]"
      ]
     },
     "metadata": {},
     "output_type": "display_data"
    },
    {
     "data": {
      "application/vnd.jupyter.widget-view+json": {
       "model_id": "3f501cf9b4394d36bae0b9f0979f774f",
       "version_major": 2,
       "version_minor": 0
      },
      "text/plain": [
       "Inference:   0%|          | 0/1 [00:00<?, ?it/s]"
      ]
     },
     "metadata": {},
     "output_type": "display_data"
    },
    {
     "data": {
      "application/vnd.jupyter.widget-view+json": {
       "model_id": "2b37706fa3e8448f8e822e92baf7b9a6",
       "version_major": 2,
       "version_minor": 0
      },
      "text/plain": [
       "Backfitting:   0%|          | 0/200 [00:00<?, ?it/s]"
      ]
     },
     "metadata": {},
     "output_type": "display_data"
    },
    {
     "data": {
      "application/vnd.jupyter.widget-view+json": {
       "model_id": "598b5e91339743178258c4f893a2b265",
       "version_major": 2,
       "version_minor": 0
      },
      "text/plain": [
       "Inference:   0%|          | 0/1 [00:00<?, ?it/s]"
      ]
     },
     "metadata": {},
     "output_type": "display_data"
    },
    {
     "data": {
      "application/vnd.jupyter.widget-view+json": {
       "model_id": "67c467667e2d4604976728318c8c63bb",
       "version_major": 2,
       "version_minor": 0
      },
      "text/plain": [
       "Backfitting:   0%|          | 0/200 [00:00<?, ?it/s]"
      ]
     },
     "metadata": {},
     "output_type": "display_data"
    },
    {
     "data": {
      "application/vnd.jupyter.widget-view+json": {
       "model_id": "0af5a40b404846198372613ba7f25d6d",
       "version_major": 2,
       "version_minor": 0
      },
      "text/plain": [
       "Inference:   0%|          | 0/1 [00:00<?, ?it/s]"
      ]
     },
     "metadata": {},
     "output_type": "display_data"
    },
    {
     "data": {
      "application/vnd.jupyter.widget-view+json": {
       "model_id": "f797b7965b264d06930a7dfc37718311",
       "version_major": 2,
       "version_minor": 0
      },
      "text/plain": [
       "Backfitting:   0%|          | 0/200 [00:00<?, ?it/s]"
      ]
     },
     "metadata": {},
     "output_type": "display_data"
    },
    {
     "data": {
      "application/vnd.jupyter.widget-view+json": {
       "model_id": "52af12fceb1b490da966ef6fd6c44497",
       "version_major": 2,
       "version_minor": 0
      },
      "text/plain": [
       "Inference:   0%|          | 0/1 [00:00<?, ?it/s]"
      ]
     },
     "metadata": {},
     "output_type": "display_data"
    },
    {
     "data": {
      "application/vnd.jupyter.widget-view+json": {
       "model_id": "02fbcafc61904f0399fd13ae0f991d4e",
       "version_major": 2,
       "version_minor": 0
      },
      "text/plain": [
       "Backfitting:   0%|          | 0/200 [00:00<?, ?it/s]"
      ]
     },
     "metadata": {},
     "output_type": "display_data"
    },
    {
     "data": {
      "application/vnd.jupyter.widget-view+json": {
       "model_id": "559d1470cb91421ca881ddfaaab9c85f",
       "version_major": 2,
       "version_minor": 0
      },
      "text/plain": [
       "Inference:   0%|          | 0/1 [00:00<?, ?it/s]"
      ]
     },
     "metadata": {},
     "output_type": "display_data"
    },
    {
     "data": {
      "application/vnd.jupyter.widget-view+json": {
       "model_id": "58241799ffbe43208314d0a27717fde3",
       "version_major": 2,
       "version_minor": 0
      },
      "text/plain": [
       "Backfitting:   0%|          | 0/200 [00:00<?, ?it/s]"
      ]
     },
     "metadata": {},
     "output_type": "display_data"
    },
    {
     "data": {
      "application/vnd.jupyter.widget-view+json": {
       "model_id": "9a7d8d470db04edfa19a56430a918552",
       "version_major": 2,
       "version_minor": 0
      },
      "text/plain": [
       "Inference:   0%|          | 0/1 [00:00<?, ?it/s]"
      ]
     },
     "metadata": {},
     "output_type": "display_data"
    },
    {
     "data": {
      "application/vnd.jupyter.widget-view+json": {
       "model_id": "2f04eb70b4714294bb19177ea9ba44d1",
       "version_major": 2,
       "version_minor": 0
      },
      "text/plain": [
       "Backfitting:   0%|          | 0/200 [00:00<?, ?it/s]"
      ]
     },
     "metadata": {},
     "output_type": "display_data"
    },
    {
     "data": {
      "application/vnd.jupyter.widget-view+json": {
       "model_id": "7f6ee4a8f2df4dd187cbfdf875f5b742",
       "version_major": 2,
       "version_minor": 0
      },
      "text/plain": [
       "Inference:   0%|          | 0/1 [00:00<?, ?it/s]"
      ]
     },
     "metadata": {},
     "output_type": "display_data"
    },
    {
     "data": {
      "application/vnd.jupyter.widget-view+json": {
       "model_id": "f4526a6132864bd1ab0b612236994593",
       "version_major": 2,
       "version_minor": 0
      },
      "text/plain": [
       "Backfitting:   0%|          | 0/200 [00:00<?, ?it/s]"
      ]
     },
     "metadata": {},
     "output_type": "display_data"
    },
    {
     "data": {
      "application/vnd.jupyter.widget-view+json": {
       "model_id": "3312f3e0b5d74e6cb5eb0c9a30c49413",
       "version_major": 2,
       "version_minor": 0
      },
      "text/plain": [
       "Inference:   0%|          | 0/1 [00:00<?, ?it/s]"
      ]
     },
     "metadata": {},
     "output_type": "display_data"
    },
    {
     "name": "stdout",
     "output_type": "stream",
     "text": [
      "\n",
      "### Cross-Validation Results\n",
      "       Metric   OLS CV Mean R²                 OLS CV Mean MSE  MGWR CV Mean R²                MGWR CV Mean MSE\n",
      "          PCI 0.0524 (±0.3524)                0.8349 (±0.5163) 0.0524 (±0.3524)                0.8349 (±0.5163)\n",
      "          PCA 0.1594 (±0.2375) 224435886.9406 (±43842253.0680) 0.1594 (±0.2375) 224435886.9406 (±43842253.0680)\n",
      "          PCE 0.4520 (±0.0439)              37.1195 (±22.7943) 0.4520 (±0.0439)              37.1195 (±22.7943)\n",
      "lst_reduction 0.0737 (±0.3283)                0.5180 (±0.3685) 0.0737 (±0.3283)                0.5180 (±0.3685)\n"
     ]
    }
   ],
   "source": [
    "# Initialize results list\n",
    "cv_results = []\n",
    "\n",
    "# Run cross-validation for each cooling metric\n",
    "for metric in cooling_metrics:\n",
    "    # OLS cross-validation\n",
    "    cv_ols = cross_validate_model(\n",
    "        data_gdf, metric, predictors, coords, w, scaler, \n",
    "        standardize, standardize_y, scaler_y_dict.get(metric), \n",
    "        model_type='ols', n_folds=5\n",
    "    )\n",
    "    # MGWR cross-validation\n",
    "    cv_mgwr = cross_validate_model(\n",
    "        data_gdf, metric, predictors, coords, w, scaler, \n",
    "        standardize, standardize_y, scaler_y_dict.get(metric), \n",
    "        model_type='mgwr', n_folds=5\n",
    "    )\n",
    "    \n",
    "    cv_results.append({\n",
    "        'Metric': metric,\n",
    "        'OLS CV Mean R²': f\"{cv_ols['mean_r2']:.4f} (±{cv_ols['r2_std']:.4f})\",\n",
    "        'OLS CV Mean MSE': f\"{cv_ols['mean_mse']:.4f} (±{cv_ols['mse_std']:.4f})\",\n",
    "        'MGWR CV Mean R²': f\"{cv_mgwr['mean_r2']:.4f} (±{cv_mgwr['r2_std']:.4f})\",\n",
    "        'MGWR CV Mean MSE': f\"{cv_mgwr['mean_mse']:.4f} (±{cv_mgwr['mse_std']:.4f})\"\n",
    "    })\n",
    "\n",
    "# Display CV results in a table\n",
    "cv_results_df = pd.DataFrame(cv_results)\n",
    "print(\"\\n### Cross-Validation Results\")\n",
    "print(cv_results_df.to_string(index=False))"
   ]
  },
  {
   "cell_type": "markdown",
   "metadata": {},
   "source": [
    "## 6. Exploration\n"
   ]
  },
  {
   "cell_type": "markdown",
   "metadata": {},
   "source": [
    "Extract Parameters:"
   ]
  },
  {
   "cell_type": "code",
   "execution_count": 73,
   "metadata": {},
   "outputs": [
    {
     "name": "stdout",
     "output_type": "stream",
     "text": [
      "MGWR Moran's I for PCI residuals: -0.0006 (p-value: 0.9224)\n",
      "MGWR Moran's I for PCA residuals: 0.0834 (p-value: 0.0578)\n",
      "MGWR Moran's I for PCE residuals: -0.0425 (p-value: 0.4237)\n",
      "MGWR Moran's I for lst_reduction residuals: 0.0010 (p-value: 0.8943)\n"
     ]
    }
   ],
   "source": [
    "# Calculate and store Moran's I for MGWR residuals of all metrics\n",
    "metrics = ['PCI', 'PCA', 'PCE', 'lst_reduction']\n",
    "mgwr_models = [mgwr_pci, mgwr_pca, mgwr_pce, mgwr_lst]\n",
    "mgwr_moran_i_dict = {}  # Initialize dictionary for Moran's I values\n",
    "mgwr_moran_p_dict = {}  # Initialize dictionary for p-values\n",
    "\n",
    "for metric, model in zip(metrics, mgwr_models):\n",
    "    # Extract MGWR residuals\n",
    "    mgwr_residuals = model['model'].resid_response\n",
    "    # Compute Moran's I using the spatial weights matrix w\n",
    "    moran = Moran(mgwr_residuals, w)\n",
    "    mgwr_moran_i_dict[metric] = moran.I  # Store Moran's I\n",
    "    mgwr_moran_p_dict[metric] = moran.p_norm  # Store p-value\n",
    "    print(f\"MGWR Moran's I for {metric} residuals: {moran.I:.4f} (p-value: {moran.p_norm:.4f})\")\n",
    "#  Compute and store Moran's I to validate MGWR's reduction of spatial autocorrelation for dynamic table use."
   ]
  },
  {
   "cell_type": "code",
   "execution_count": 74,
   "metadata": {},
   "outputs": [
    {
     "name": "stdout",
     "output_type": "stream",
     "text": [
      "\\nTable 3: Model Parameters Summary\n",
      "           Metric  OLS R²  MGWR R²   OLS AIC  MGWR AIC OLS Morans I (p)  \\\n",
      "0            PCI   0.330    0.552   474.007   425.001    0.084 (0.056)   \n",
      "1            PCA   0.463    0.480  4262.939  4266.571    0.087 (0.047)   \n",
      "2            PCE   0.583    0.639  1217.006  1211.653    -0.04 (0.459)   \n",
      "3  lst_reduction   0.407    0.675   379.473   305.905    0.092 (0.038)   \n",
      "\n",
      "  MGWR Morans I (p)       OLS RSS      MGWR RSS  \n",
      "0    -0.001 (0.922)  1.216500e+02  8.144700e+01  \n",
      "1     0.083 (0.058)  3.690921e+10  3.572924e+10  \n",
      "2    -0.043 (0.424)  5.602925e+03  4.849987e+03  \n",
      "3     0.001 (0.894)  7.472900e+01  4.094800e+01  \n"
     ]
    }
   ],
   "source": [
    "# Generate Table 3: Model Parameters Summary\n",
    "metrics = ['PCI', 'PCA', 'PCE', 'lst_reduction']\n",
    "ols_models = [ols_pci, ols_pca, ols_pce, ols_lst]  # OLS objects\n",
    "mgwr_models = [mgwr_pci, mgwr_pca, mgwr_pce, mgwr_lst]  # MGWR objects\n",
    "\n",
    "# Ensure Moran’s I dictionaries are populated (run the above cell first)\n",
    "if not mgwr_moran_i_dict or not mgwr_moran_p_dict:\n",
    "    raise ValueError(\"Moran's I dictionaries are not populated. Run the Moran’s I calculation cell first.\")\n",
    "\n",
    "# Extract parameters with rounding\n",
    "data = {\n",
    "    'Metric': metrics,\n",
    "    'OLS R²': [round(m['model'].rsquared, 3) for m in ols_models],\n",
    "    'MGWR R²': [round(m['model'].R2, 3) for m in mgwr_models],\n",
    "    'OLS AIC': [round(m['model'].aic, 3) for m in ols_models],\n",
    "    'MGWR AIC': [round(m['model'].aic, 3) for m in mgwr_models],\n",
    "    'OLS Morans I (p)': [f\"{round(m['moran_i'], 3)} ({round(m['moran_p'], 3)})\" for m in ols_models],\n",
    "    'MGWR Morans I (p)': [f\"{round(mgwr_moran_i_dict[metric], 3)} ({round(mgwr_moran_p_dict[metric], 3)})\" for metric in metrics],\n",
    "    'OLS RSS': [round(m['rss'], 3) for m in ols_models],  # Add OLS RSS\n",
    "    'MGWR RSS':  [round(m['rss'], 3) for m in mgwr_models],  # Add MGWR RSS\n",
    "}\n",
    "\n",
    "# Convert to DataFrame and print\n",
    "table_df = pd.DataFrame(data)\n",
    "print(\"\\\\nTable 3: Model Parameters Summary\\n\", table_df)\n",
    "table_df.to_csv('Table3_Model_Parameters_raw.csv', index=False)\n",
    "# Logic: Rounds all numerical outputs to 3 decimal places (except % to 1) for readability; uses dynamic MGWR Moran's I."
   ]
  },
  {
   "cell_type": "markdown",
   "metadata": {},
   "source": []
  },
  {
   "cell_type": "markdown",
   "metadata": {},
   "source": [
    "## "
   ]
  }
 ],
 "metadata": {
  "kernelspec": {
   "display_name": "env",
   "language": "python",
   "name": "python3"
  },
  "language_info": {
   "codemirror_mode": {
    "name": "ipython",
    "version": 3
   },
   "file_extension": ".py",
   "mimetype": "text/x-python",
   "name": "python",
   "nbconvert_exporter": "python",
   "pygments_lexer": "ipython3",
   "version": "3.13.0"
  }
 },
 "nbformat": 4,
 "nbformat_minor": 2
}
