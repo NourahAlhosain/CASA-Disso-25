{
 "cells": [
  {
   "cell_type": "markdown",
   "metadata": {},
   "source": [
    "Before running this code, you need to set up the Earth Engine Python API.\n",
    "Follow these steps (based on official Google documentation):\n",
    "1. Install the Earth Engine API if not already installed (e.g., in a terminal: pip install earthengine-api --upgrade).\n",
    "2. Create a Google Cloud Project: Go to https://console.cloud.google.com/projectcreate and create a new project. Note your Project ID (e.g., 'my-earth-engine-project').\n",
    "3. Enable the Earth Engine API: In your Google Cloud Console, search for \"Earth Engine API\" and enable it for your project.\n",
    "4. Authenticate: Run ee.Authenticate() below if prompted; this will open a browser for Google sign-in and generate a token.\n",
    "5. Initialize: Replace 'your-project-id' below with your actual Google Cloud Project ID.\n",
    "For more details, see: https://developers.google.com/earth-engine/guides/python_install"
   ]
  },
  {
   "cell_type": "markdown",
   "metadata": {},
   "source": [
    "# Initialization"
   ]
  },
  {
   "cell_type": "code",
   "execution_count": 1,
   "metadata": {},
   "outputs": [],
   "source": [
    "# Import necessary libraries (assuming they are installed and Earth Engine is authenticated)\n",
    "# Note: This code requires the 'ee' (Google Earth Engine) and 'geemap' libraries.\n",
    "# Earth Engine authentication is needed: ee.Authenticate() and ee.Initialize() should be run beforehand.\n",
    "\n",
    "#import relevant libraries\n",
    "import ee\n",
    "import geemap\n"
   ]
  },
  {
   "cell_type": "code",
   "execution_count": 2,
   "metadata": {},
   "outputs": [
    {
     "data": {
      "text/html": [
       "\n",
       "            <style>\n",
       "                .geemap-dark {\n",
       "                    --jp-widgets-color: white;\n",
       "                    --jp-widgets-label-color: white;\n",
       "                    --jp-ui-font-color1: white;\n",
       "                    --jp-layout-color2: #454545;\n",
       "                    background-color: #383838;\n",
       "                }\n",
       "\n",
       "                .geemap-dark .jupyter-button {\n",
       "                    --jp-layout-color3: #383838;\n",
       "                }\n",
       "\n",
       "                .geemap-colab {\n",
       "                    background-color: var(--colab-primary-surface-color, white);\n",
       "                }\n",
       "\n",
       "                .geemap-colab .jupyter-button {\n",
       "                    --jp-layout-color3: var(--colab-primary-surface-color, white);\n",
       "                }\n",
       "            </style>\n",
       "            "
      ],
      "text/plain": [
       "<IPython.core.display.HTML object>"
      ]
     },
     "metadata": {},
     "output_type": "display_data"
    }
   ],
   "source": [
    "#Authenticate and initilaize GEE \n",
    "try:\n",
    "    ee.Initialize(project='uss-dissertation')\n",
    "except Exception:\n",
    "    print(\"GEE initialization failed. Run ee.Authenticate() and try again.\")\n",
    "    ee.Authenticate()\n",
    "    ee.Initialize(project='uss-dissertation')"
   ]
  },
  {
   "cell_type": "markdown",
   "metadata": {},
   "source": [
    "# Calculations"
   ]
  },
  {
   "cell_type": "code",
   "execution_count": 3,
   "metadata": {},
   "outputs": [
    {
     "data": {
      "text/html": [
       "\n",
       "            <style>\n",
       "                .geemap-dark {\n",
       "                    --jp-widgets-color: white;\n",
       "                    --jp-widgets-label-color: white;\n",
       "                    --jp-ui-font-color1: white;\n",
       "                    --jp-layout-color2: #454545;\n",
       "                    background-color: #383838;\n",
       "                }\n",
       "\n",
       "                .geemap-dark .jupyter-button {\n",
       "                    --jp-layout-color3: #383838;\n",
       "                }\n",
       "\n",
       "                .geemap-colab {\n",
       "                    background-color: var(--colab-primary-surface-color, white);\n",
       "                }\n",
       "\n",
       "                .geemap-colab .jupyter-button {\n",
       "                    --jp-layout-color3: var(--colab-primary-surface-color, white);\n",
       "                }\n",
       "            </style>\n",
       "            "
      ],
      "text/plain": [
       "<IPython.core.display.HTML object>"
      ]
     },
     "metadata": {},
     "output_type": "display_data"
    },
    {
     "name": "stdout",
     "output_type": "stream",
     "text": [
      "City boundary loaded successfully!\n",
      "Number of Landsat images for 2024: 32\n",
      "Image 1: LANDSAT_8 - Path: 165 - Row: 43 - Date: 2024-06-01 - ID: LANDSAT/LC08/C02/T1_L2/LC08_165043_20240601\n",
      "Image 2: LANDSAT_8 - Path: 165 - Row: 43 - Date: 2024-06-17 - ID: LANDSAT/LC08/C02/T1_L2/LC08_165043_20240617\n",
      "Image 3: LANDSAT_8 - Path: 165 - Row: 43 - Date: 2024-07-03 - ID: LANDSAT/LC08/C02/T1_L2/LC08_165043_20240703\n",
      "Image 4: LANDSAT_8 - Path: 165 - Row: 43 - Date: 2024-07-19 - ID: LANDSAT/LC08/C02/T1_L2/LC08_165043_20240719\n",
      "Image 5: LANDSAT_8 - Path: 165 - Row: 43 - Date: 2024-08-04 - ID: LANDSAT/LC08/C02/T1_L2/LC08_165043_20240804\n",
      "Image 6: LANDSAT_8 - Path: 165 - Row: 43 - Date: 2024-08-20 - ID: LANDSAT/LC08/C02/T1_L2/LC08_165043_20240820\n",
      "Image 7: LANDSAT_8 - Path: 166 - Row: 42 - Date: 2024-06-08 - ID: LANDSAT/LC08/C02/T1_L2/LC08_166042_20240608\n",
      "Image 8: LANDSAT_8 - Path: 166 - Row: 42 - Date: 2024-06-24 - ID: LANDSAT/LC08/C02/T1_L2/LC08_166042_20240624\n",
      "Image 9: LANDSAT_8 - Path: 166 - Row: 42 - Date: 2024-07-10 - ID: LANDSAT/LC08/C02/T1_L2/LC08_166042_20240710\n",
      "Image 10: LANDSAT_8 - Path: 166 - Row: 42 - Date: 2024-07-26 - ID: LANDSAT/LC08/C02/T1_L2/LC08_166042_20240726\n",
      "Image 11: LANDSAT_8 - Path: 166 - Row: 42 - Date: 2024-08-11 - ID: LANDSAT/LC08/C02/T1_L2/LC08_166042_20240811\n",
      "Image 12: LANDSAT_8 - Path: 166 - Row: 42 - Date: 2024-08-27 - ID: LANDSAT/LC08/C02/T1_L2/LC08_166042_20240827\n",
      "Image 13: LANDSAT_8 - Path: 166 - Row: 43 - Date: 2024-06-08 - ID: LANDSAT/LC08/C02/T1_L2/LC08_166043_20240608\n",
      "Image 14: LANDSAT_8 - Path: 166 - Row: 43 - Date: 2024-06-24 - ID: LANDSAT/LC08/C02/T1_L2/LC08_166043_20240624\n",
      "Image 15: LANDSAT_8 - Path: 166 - Row: 43 - Date: 2024-07-10 - ID: LANDSAT/LC08/C02/T1_L2/LC08_166043_20240710\n",
      "Image 16: LANDSAT_8 - Path: 166 - Row: 43 - Date: 2024-07-26 - ID: LANDSAT/LC08/C02/T1_L2/LC08_166043_20240726\n",
      "Image 17: LANDSAT_8 - Path: 166 - Row: 43 - Date: 2024-08-11 - ID: LANDSAT/LC08/C02/T1_L2/LC08_166043_20240811\n",
      "Image 18: LANDSAT_8 - Path: 166 - Row: 43 - Date: 2024-08-27 - ID: LANDSAT/LC08/C02/T1_L2/LC08_166043_20240827\n",
      "Image 19: LANDSAT_9 - Path: 165 - Row: 43 - Date: 2024-06-09 - ID: LANDSAT/LC09/C02/T1_L2/LC09_165043_20240609\n",
      "Image 20: LANDSAT_9 - Path: 165 - Row: 43 - Date: 2024-06-25 - ID: LANDSAT/LC09/C02/T1_L2/LC09_165043_20240625\n",
      "Image 21: LANDSAT_9 - Path: 165 - Row: 43 - Date: 2024-07-27 - ID: LANDSAT/LC09/C02/T1_L2/LC09_165043_20240727\n",
      "Image 22: LANDSAT_9 - Path: 165 - Row: 43 - Date: 2024-08-12 - ID: LANDSAT/LC09/C02/T1_L2/LC09_165043_20240812\n",
      "Image 23: LANDSAT_9 - Path: 165 - Row: 43 - Date: 2024-08-28 - ID: LANDSAT/LC09/C02/T1_L2/LC09_165043_20240828\n",
      "Image 24: LANDSAT_9 - Path: 166 - Row: 42 - Date: 2024-06-16 - ID: LANDSAT/LC09/C02/T1_L2/LC09_166042_20240616\n",
      "Image 25: LANDSAT_9 - Path: 166 - Row: 42 - Date: 2024-07-02 - ID: LANDSAT/LC09/C02/T1_L2/LC09_166042_20240702\n",
      "Image 26: LANDSAT_9 - Path: 166 - Row: 42 - Date: 2024-07-18 - ID: LANDSAT/LC09/C02/T1_L2/LC09_166042_20240718\n",
      "Image 27: LANDSAT_9 - Path: 166 - Row: 42 - Date: 2024-08-03 - ID: LANDSAT/LC09/C02/T1_L2/LC09_166042_20240803\n",
      "Image 28: LANDSAT_9 - Path: 166 - Row: 42 - Date: 2024-08-19 - ID: LANDSAT/LC09/C02/T1_L2/LC09_166042_20240819\n",
      "Image 29: LANDSAT_9 - Path: 166 - Row: 43 - Date: 2024-06-16 - ID: LANDSAT/LC09/C02/T1_L2/LC09_166043_20240616\n",
      "Image 30: LANDSAT_9 - Path: 166 - Row: 43 - Date: 2024-07-02 - ID: LANDSAT/LC09/C02/T1_L2/LC09_166043_20240702\n",
      "Image 31: LANDSAT_9 - Path: 166 - Row: 43 - Date: 2024-07-18 - ID: LANDSAT/LC09/C02/T1_L2/LC09_166043_20240718\n",
      "Image 32: LANDSAT_9 - Path: 166 - Row: 43 - Date: 2024-08-19 - ID: LANDSAT/LC09/C02/T1_L2/LC09_166043_20240819\n",
      "{'type': 'Projection', 'crs': 'EPSG:4326', 'transform': [1, 0, 0, 0, 1, 0]}\n",
      "LST for 2024 calculated successfully!\n",
      "Exporting LST_2024 to Google Drive\n",
      "Calculated LST Range: Min 28.90°C, Max 65.44°C\n"
     ]
    },
    {
     "data": {
      "application/vnd.jupyter.widget-view+json": {
       "model_id": "0d5e715418a5498ebc21137d9f0110ee",
       "version_major": 2,
       "version_minor": 0
      },
      "text/plain": [
       "Map(center=[24.78, 46.75], controls=(WidgetControl(options=['position', 'transparent_bg'], widget=SearchDataGU…"
      ]
     },
     "execution_count": 3,
     "metadata": {},
     "output_type": "execute_result"
    }
   ],
   "source": [
    "\n",
    "# Load city boundary from a Google Earth Engine asset\n",
    "def load_city_boundary(asset_id):\n",
    "    try:\n",
    "        city_boundary = ee.FeatureCollection(asset_id)\n",
    "        print(\"City boundary loaded successfully!\")\n",
    "        return city_boundary\n",
    "    except Exception as e:\n",
    "        print(f\"Failed to load city boundary: {str(e)}\")\n",
    "        return None\n",
    "\n",
    "# Calculate LST for given years using Landsat data\n",
    "def calculate_lst(city_boundary, years):\n",
    "\n",
    "    lst_layers = {}\n",
    "    for year in years:\n",
    "       # Processes summer months (June-Aug) to capture peak heat periods.\n",
    "        start_date = f'{year}-06-01'\n",
    "        end_date = f'{year}-08-31'\n",
    "        \n",
    "        # Landsat 8/9 Level-2 for LST\n",
    "        # Note: Using Level-2 data which includes atmospherically corrected surface temperature in the ST_B10 band.\n",
    "        landsat = (ee.ImageCollection('LANDSAT/LC08/C02/T1_L2')\n",
    "                   .filterBounds(city_boundary.geometry())\n",
    "                   .filterDate(start_date, end_date)\n",
    "                   .filter(ee.Filter.lt('CLOUD_COVER', 5)))\n",
    "        #Merges Landsat 8 and 9 for better coverage\n",
    "        landsat = landsat.merge(\n",
    "            ee.ImageCollection('LANDSAT/LC09/C02/T1_L2')\n",
    "            .filterBounds(city_boundary.geometry())\n",
    "            .filterDate(start_date, end_date)\n",
    "            .filter(ee.Filter.lt('CLOUD_COVER', 5)) #Filters for low cloud cover (<5%) to ensure data quality.\n",
    "        )\n",
    "        # This logs details for each image, including spacecraft, path/row, date, and ID, for verification and reproducibility.\n",
    "        landsat_size = landsat.size().getInfo()\n",
    "        print(f\"Number of Landsat images for {year}: {landsat_size}\")\n",
    "        if landsat_size > 0:\n",
    "            image_list = landsat.toList(landsat.size())\n",
    "            for i in range(landsat_size):\n",
    "                image = ee.Image(image_list.get(i))\n",
    "                spacecraft = image.get('SPACECRAFT_ID').getInfo()\n",
    "                path = image.get('WRS_PATH').getInfo()\n",
    "                row = image.get('WRS_ROW').getInfo()\n",
    "                date_acquired = image.get('DATE_ACQUIRED').getInfo()\n",
    "                image_id = image.get('system:id').getInfo()\n",
    "                print(f\"Image {i+1}: {spacecraft} - Path: {path} - Row: {row} - Date: {date_acquired} - ID: {image_id}\")\n",
    "        \n",
    "        # Compute mean composite of LST over the filtered images for the period.\n",
    "        landsat = landsat.mean()\n",
    "        \n",
    "        # Derive LST from the ST_B10 band\n",
    "        # Note: The following chain processes the surface temperature band:\n",
    "        # - select('ST_B10'): Chooses the thermal band containing surface temperature data (in digital numbers).\n",
    "        # - multiply(ee.Image.constant(0.00341802)): Applies the scale factor to convert to Kelvin (per USGS Collection 2 guidelines).\n",
    "        # - add(ee.Image.constant(149.0)): Adds the offset to complete the Kelvin conversion.\n",
    "        # - subtract(ee.Image.constant(273.15)): Converts Kelvin to Celsius for standard temperature units.\n",
    "        # - clip(city_boundary.geometry()): Restricts the image to the city boundary to focus the analysis.\n",
    "        # - unmask(0): Replaces any masked (no-data) pixels with 0 to ensure a complete raster for visualization.\n",
    "        lst = landsat.select('ST_B10').multiply(ee.Image.constant(0.00341802)).add(ee.Image.constant(149.0)).subtract(ee.Image.constant(273.15)).clip(city_boundary.geometry()).unmask(0)\n",
    "        lst_layers[year] = lst\n",
    "        print(f\"LST for {year} calculated successfully!\")\n",
    "    return lst_layers\n",
    "\n",
    "# Add multi-year LST layers to the map\n",
    "def add_multi_year_layers(map_obj, city_boundary, lst_layers):\n",
    "    # Note: Palette chosen for temperature gradient: cool (blues) to hot (reds).\n",
    "    lst_palette = ['darkblue', 'blue', 'cyan', 'green', 'yellow', 'orange', 'red', 'darkred']\n",
    "    lst_images = [lst_layers[year] for year in lst_layers if lst_layers[year] is not None]\n",
    "    if lst_images:\n",
    "        lst_collection = ee.ImageCollection(lst_images)\n",
    "        # Computes overall min/max across all years for consistent visualization scaling.\n",
    "        lst_stats = lst_collection.reduce(ee.Reducer.minMax()).reduceRegion(\n",
    "            reducer=ee.Reducer.minMax(),\n",
    "            geometry=city_boundary.geometry(),\n",
    "            scale=30,\n",
    "            maxPixels=1e9\n",
    "        ).getInfo()\n",
    "        lst_min = lst_stats.get('ST_B10_min_min', 20)\n",
    "        lst_max = lst_stats.get('ST_B10_max_max', 60)\n",
    "        print(f\"Calculated LST Range: Min {lst_min:.2f}°C, Max {lst_max:.2f}°C\")\n",
    "        lst_vis = {\"min\": lst_min, \"max\": lst_max, \"palette\": lst_palette}\n",
    "    else:\n",
    "        lst_vis = {\"min\": 20, \"max\": 60, \"palette\": lst_palette}\n",
    "        print(\"No valid LST data; using fallback range: 20–60°C\")\n",
    "    \n",
    "    # Add layers for each year\n",
    "    # Note: Each year's LST is added as a separate layer for toggling and comparison. (useful for inital exploration when i had multiple years)\n",
    "    for year in years:\n",
    "        if lst_layers.get(year) is not None:\n",
    "            map_obj.addLayer(lst_layers[year], lst_vis, f'LST_{year}')\n",
    "    \n",
    "    return map_obj\n",
    "\n",
    "# Load and map\n",
    "# Asset ID specific to Riyadh boundary; adjust if needed for other cities.\n",
    "asset_id = 'projects/uss-dissertation/assets/riyadh_boundary' #link to asset: https://code.earthengine.google.com/?asset=projects/uss-dissertation/assets/riyadh_boundary\n",
    "city_boundary = load_city_boundary(asset_id)\n",
    "# Using CartoDB.Positron basemap for a clean, light background.\n",
    "map_obj = geemap.Map(basemap='CartoDB.Positron')\n",
    "boundary_style = {\"color\": \"black\", \"fillColor\": \"00000000\", \"width\": 2}\n",
    "map_obj.addLayer(city_boundary, boundary_style, \"Riyadh City Boundary\")\n",
    "# Centers on Riyadh coordinates with zoom level 12 for city-wide view.\n",
    "map_obj.setCenter(46.75, 24.78, 12)\n",
    "\n",
    "# Calculate and add layers\n",
    "years = [ 2024] # initially i tested multiple years for comparison, but for the final version only 2024 is kept.\n",
    "lst_layers = calculate_lst(city_boundary, years)\n",
    "\n",
    "# Export LST layers as GeoTIFFs to Google Drive for local download\n",
    "for year in years:\n",
    "        ee.batch.Export.image.toDrive(\n",
    "            image=lst_layers[year],\n",
    "            description=f'Riyadh_LST_{year}',\n",
    "            folder='Riyadh_Layers',\n",
    "            fileNamePrefix=f'Riyadh_LST_EPSG20438_{year}',\n",
    "            region=city_boundary.geometry(),\n",
    "            scale=30,  # Landsat resolution\n",
    "            crs='EPSG:20438', # UTM Zone 38N for metric accuracy as per https://epsg.io/20438\n",
    "            maxPixels=1e9\n",
    "        ).start()\n",
    "        print(f\"Exporting LST_{year} to Google Drive\")\n",
    "\n",
    "map_obj = add_multi_year_layers(map_obj, city_boundary, lst_layers)\n",
    "map_obj"
   ]
  }
 ],
 "metadata": {
  "kernelspec": {
   "display_name": "env",
   "language": "python",
   "name": "python3"
  },
  "language_info": {
   "codemirror_mode": {
    "name": "ipython",
    "version": 3
   },
   "file_extension": ".py",
   "mimetype": "text/x-python",
   "name": "python",
   "nbconvert_exporter": "python",
   "pygments_lexer": "ipython3",
   "version": "3.13.0"
  }
 },
 "nbformat": 4,
 "nbformat_minor": 2
}
