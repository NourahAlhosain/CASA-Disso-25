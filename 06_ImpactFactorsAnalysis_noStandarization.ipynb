{
 "cells": [
  {
   "cell_type": "markdown",
   "metadata": {},
   "source": [
    "# 1. Data Preparation"
   ]
  },
  {
   "cell_type": "code",
   "execution_count": 1,
   "metadata": {},
   "outputs": [],
   "source": [
    "import numpy as np\n",
    "import pandas as pd\n",
    "import geopandas as gpd\n",
    "import statsmodels.api as sm\n",
    "from mgwr.gwr import GWR\n",
    "from mgwr.sel_bw import Sel_BW\n",
    "from libpysal.weights import KNN\n",
    "from esda.moran import Moran\n",
    "import logging\n",
    "import matplotlib.pyplot as plt\n",
    "from shapely import is_valid, make_valid\n",
    "from sklearn.preprocessing import StandardScaler\n",
    "import seaborn as sns\n",
    "from statsmodels.stats.outliers_influence import variance_inflation_factor\n",
    "from statsmodels.stats.diagnostic import het_breuschpagan\n",
    "from mgwr.gwr import MGWR\n",
    "from scipy.spatial.distance import cdist\n",
    "from sklearn.model_selection import KFold\n",
    "from sklearn.metrics import mean_squared_error, r2_score\n",
    "import numpy.linalg"
   ]
  },
  {
   "cell_type": "code",
   "execution_count": 2,
   "metadata": {},
   "outputs": [
    {
     "name": "stdout",
     "output_type": "stream",
     "text": [
      "Loaded parks_gdf with columns: Index(['osm_id', 'OBJECTID', 'FEATURE_ANAME', 'MUNICIPALITY', 'DISTRICT',\n",
      "       'WALKING_TRACK', 'GREEN_AREAS', 'LAYERID', 'LAYERANAME', 'Validation',\n",
      "       'Park_id', 'area_m2', 'perimeter_m', 'LSI', 'ndvi_mean',\n",
      "       'ndvi_pixel_count', 'pisi_mean', 'pisi_pixel_count', 'building_density',\n",
      "       'building_proximity', 'lst_buffer_30m', 'lst_buffer_60m',\n",
      "       'lst_buffer_90m', 'lst_buffer_120m', 'lst_buffer_150m',\n",
      "       'lst_buffer_180m', 'lst_buffer_210m', 'lst_buffer_240m',\n",
      "       'lst_buffer_270m', 'lst_buffer_300m', 'lst_park', 'park_pixel_count',\n",
      "       'lst_surrounding_mean', 'lst_reduction', 'lst_data', 'cubic_coeffs',\n",
      "       'r_squared', 'PCD', 'PCI', 'PCA', 'PCE', 'PCD_source', 'geometry'],\n",
      "      dtype='object')\n"
     ]
    }
   ],
   "source": [
    "# Load parks data\n",
    "parks_lst_gdf = gpd.read_file('Data/Riyadh_parks_with_LST.geojson')\n",
    "print(\"Loaded parks_gdf with columns:\", parks_lst_gdf.columns)"
   ]
  },
  {
   "cell_type": "markdown",
   "metadata": {},
   "source": [
    "## 1.1 Checking Parks Selection Criteria\n",
    "- Remove parks within 300m to avoid overlapping cooling effects (aligned with max buffer radius)."
   ]
  },
  {
   "cell_type": "code",
   "execution_count": 3,
   "metadata": {},
   "outputs": [],
   "source": [
    "# Create a new DataFrame to avoid modifying the original\n",
    "filtered_parks_gdf = parks_lst_gdf.copy()"
   ]
  },
  {
   "cell_type": "code",
   "execution_count": 4,
   "metadata": {},
   "outputs": [
    {
     "name": "stdout",
     "output_type": "stream",
     "text": [
      "Number of parks removed: 25\n",
      "Original number of parks: 219\n",
      "New number of parks: 194\n",
      "Removed Park IDs: [21.0, 26.0, 38.0, 41.0, 50.0, 63.0, 64.0, 65.0, 69.0, 75.0, 77.0, 79.0, 80.0, 83.0, 84.0, 87.0, 88.0, 89.0, 114.0, 137.0, 140.0, 154.0, 169.0, 170.0, 182.0]\n"
     ]
    }
   ],
   "source": [
    "# Extract centroids for distance calculation\n",
    "centroids = filtered_parks_gdf.copy()\n",
    "centroids['geometry'] = centroids.geometry.centroid\n",
    "\n",
    "# Initialize a set to track parks to remove (both from each close pair)\n",
    "parks_to_remove = set()\n",
    "\n",
    "# Calculate pairwise distances and identify close pairs (<300m)\n",
    "for i, park1 in centroids.iterrows():\n",
    "    for j, park2 in centroids.iterrows():\n",
    "        if i < j:  # Avoid duplicate pairs and self-comparison\n",
    "            dist = park1.geometry.distance(park2.geometry)\n",
    "            if dist < 300:  # 300m threshold based on max buffer radius\n",
    "                parks_to_remove.add(park1['Park_id'])\n",
    "                parks_to_remove.add(park2['Park_id'])\n",
    "\n",
    "# Remove both parks from each close pair\n",
    "filtered_parks_gdf = filtered_parks_gdf[~filtered_parks_gdf['Park_id'].isin(parks_to_remove)]\n",
    "\n",
    "# Summary of changes\n",
    "num_removed = len(parks_lst_gdf) - len(filtered_parks_gdf)\n",
    "print(f\"Number of parks removed: {num_removed}\")\n",
    "print(f\"Original number of parks: {len(parks_lst_gdf)}\")\n",
    "print(f\"New number of parks: {len(filtered_parks_gdf)}\")\n",
    "print(f\"Removed Park IDs: {sorted(list(parks_to_remove))}\")\n"
   ]
  },
  {
   "cell_type": "code",
   "execution_count": 5,
   "metadata": {},
   "outputs": [
    {
     "name": "stdout",
     "output_type": "stream",
     "text": [
      "Rows after filtering : 194\n"
     ]
    }
   ],
   "source": [
    "data_gdf = filtered_parks_gdf.copy()\n",
    "print(f\"Rows after filtering : {len(data_gdf)}\")\n",
    "# Create working copy of filtered data for analysis."
   ]
  },
  {
   "cell_type": "code",
   "execution_count": 6,
   "metadata": {},
   "outputs": [
    {
     "name": "stdout",
     "output_type": "stream",
     "text": [
      "Warning: 1 invalid geometries detected, repairing.\n",
      "Invalid Park IDs: [155.0]\n"
     ]
    }
   ],
   "source": [
    "# Ensure valid geometries\n",
    "invalid_count = (~data_gdf.geometry.is_valid).sum()\n",
    "if invalid_count > 0:\n",
    "    print(f\"Warning: {invalid_count} invalid geometries detected, repairing.\")\n",
    "    invalid_ids = data_gdf[~data_gdf.geometry.is_valid]['Park_id'].tolist()\n",
    "    print(f\"Invalid Park IDs: {invalid_ids}\")\n",
    "    data_gdf['geometry'] = data_gdf['geometry'].apply(lambda geom: make_valid(geom) if not is_valid(geom) else geom)"
   ]
  },
  {
   "cell_type": "code",
   "execution_count": 7,
   "metadata": {},
   "outputs": [],
   "source": [
    "# Transform area to reduce skewness, common for size variables in geospatial studies.\n",
    "data_gdf['log_area_m2'] = np.log(data_gdf['area_m2'] + 1) #Adding 1 before prevents errors with zero or negative values"
   ]
  },
  {
   "cell_type": "code",
   "execution_count": 8,
   "metadata": {},
   "outputs": [
    {
     "data": {
      "text/plain": [
       "np.float64(4.993409937183961)"
      ]
     },
     "execution_count": 8,
     "metadata": {},
     "output_type": "execute_result"
    }
   ],
   "source": [
    "data_gdf['area_m2'].skew()"
   ]
  },
  {
   "cell_type": "code",
   "execution_count": 9,
   "metadata": {},
   "outputs": [
    {
     "data": {
      "text/plain": [
       "np.float64(1.21196717045811)"
      ]
     },
     "execution_count": 9,
     "metadata": {},
     "output_type": "execute_result"
    }
   ],
   "source": [
    "data_gdf['log_area_m2'].skew()"
   ]
  },
  {
   "cell_type": "markdown",
   "metadata": {},
   "source": [
    "## 1.2 Standardization Check"
   ]
  },
  {
   "cell_type": "markdown",
   "metadata": {},
   "source": [
    "**Standardization Strategy**: Predictors standardized due to mixed scales (e.g., log_area_m2 vs. NDVI). Dependent variables (PCI, PCA, PCE) kept in raw units (°C, m²) for interpretability in synthesis (Obj 3). Exploratory run with standardized Y post-PCI analysis to compare effect sizes across metrics (Obj 2)."
   ]
  },
  {
   "cell_type": "code",
   "execution_count": 10,
   "metadata": {},
   "outputs": [
    {
     "name": "stdout",
     "output_type": "stream",
     "text": [
      "Predictor Scales:\\n        log_area_m2   ndvi_mean   pisi_mean         LSI  building_density  \\\n",
      "count   194.000000  194.000000  194.000000  194.000000        194.000000   \n",
      "mean      8.737517    0.149629   -0.173575    1.218093         32.540256   \n",
      "std       1.091700    0.035262    0.069084    0.180563          7.907630   \n",
      "min       6.895126    0.056360   -0.376677    1.060000          1.359572   \n",
      "25%       7.982114    0.126020   -0.220448    1.130000         28.403743   \n",
      "50%       8.534237    0.147426   -0.177248    1.170000         33.158802   \n",
      "75%       9.209997    0.172987   -0.127368    1.230000         37.660383   \n",
      "max      12.461221    0.235770    0.045596    2.900000         52.980830   \n",
      "\n",
      "       building_proximity  \n",
      "count          194.000000  \n",
      "mean            17.870162  \n",
      "std             11.958802  \n",
      "min              1.620812  \n",
      "25%             11.352582  \n",
      "50%             15.768115  \n",
      "75%             20.725466  \n",
      "max             96.376621  \n",
      "\\nCooling Metrics Scales:\\n               PCI            PCA         PCE  lst_reduction\n",
      "count  194.000000     194.000000  194.000000     194.000000\n",
      "mean     0.512610   48527.212756   10.317871       0.463619\n",
      "std      0.970277   18877.056199    8.345576       0.808022\n",
      "min     -1.956827    8941.278478    0.384186      -1.199007\n",
      "25%     -0.074203   38632.387294    4.145662      -0.017010\n",
      "50%      0.414083   49207.351945    7.909512       0.382367\n",
      "75%      0.982109   58584.010731   14.038089       0.784528\n",
      "max      6.950153  133933.704782   41.708454       6.679984\n"
     ]
    }
   ],
   "source": [
    "# Define predictors and cooling metrics\n",
    "predictors = ['log_area_m2', 'ndvi_mean', 'pisi_mean', 'LSI', 'building_density', 'building_proximity']\n",
    "cooling_metrics = ['PCI', 'PCA', 'PCE', 'lst_reduction']\n",
    "\n",
    "# Check scales for predictors and dependent variables\n",
    "print(\"Predictor Scales:\\\\n\", data_gdf[predictors].describe())\n",
    "print(\"\\\\nCooling Metrics Scales:\\\\n\", data_gdf[cooling_metrics].describe())\n",
    "\n",
    "# Toggle for standardization\n",
    "standardize = False  # Standardize predictors due to mixed scales\n",
    "standardize_y = False  #  Change to True for explatory run\n",
    "\n",
    "# Initialize scaler (fit deferred to another cell)\n",
    "scaler = StandardScaler() if standardize else None\n",
    "scaler_y_dict = {}\n",
    "if standardize_y:\n",
    "    for metric in cooling_metrics:\n",
    "        scaler_y_dict[metric] = StandardScaler()\n",
    "\n",
    "# Extract coordinates from working data\n",
    "data_gdf['centroid'] = data_gdf.geometry.centroid\n",
    "coords = np.array(list(zip(data_gdf.centroid.x, data_gdf.centroid.y)))\n",
    "\n",
    "# Create spatial weights using KNN (k=4)\n",
    "w = KNN.from_dataframe(data_gdf, k=4)\n",
    "w.transform = 'r'"
   ]
  },
  {
   "cell_type": "markdown",
   "metadata": {},
   "source": [
    "## 2. Analysis"
   ]
  },
  {
   "cell_type": "markdown",
   "metadata": {},
   "source": [
    "### 2.1 Define Reusable Functions"
   ]
  },
  {
   "cell_type": "code",
   "execution_count": 11,
   "metadata": {},
   "outputs": [],
   "source": [
    "# Set up logging for debugging\n",
    "logging.basicConfig(level=logging.INFO)\n",
    "logger = logging.getLogger(__name__)"
   ]
  },
  {
   "cell_type": "code",
   "execution_count": 12,
   "metadata": {},
   "outputs": [],
   "source": [
    "def run_ols_regression(data_gdf, metric, predictors, w, scaler, standardize, standardize_y, scaler_y=None):\n",
    "    if standardize:\n",
    "        if scaler is None or not hasattr(scaler, 'scale_'):  # Check if scaler is fitted\n",
    "            scaler = StandardScaler().fit(data_gdf[predictors])  # Fit if not fitted\n",
    "        X = scaler.transform(data_gdf[predictors])\n",
    "    else:\n",
    "        X = data_gdf[predictors].values\n",
    "    y_raw = data_gdf[metric].values  # Keep raw y for potential later use\n",
    "    y = y_raw.copy()  # Work on a copy\n",
    "    if standardize_y and scaler_y is not None:\n",
    "        if not hasattr(scaler_y, 'scale_'):  # Auto-fit if not fitted\n",
    "            scaler_y.fit(y.reshape(-1, 1))\n",
    "        y = scaler_y.transform(y.reshape(-1, 1)).flatten()\n",
    "    X_ols = sm.add_constant(X)  # Add constant term\n",
    "    model = sm.OLS(y, X_ols).fit()  # Fit OLS model\n",
    "    moran = Moran(model.resid, w)  # Compute Moran's I for residuals\n",
    "    return {\n",
    "        'model': model,  # Store fitted model\n",
    "        'summary': model.summary(),  # Store summary statistics\n",
    "        'moran_i': moran.I,  # Store Moran's I\n",
    "        'moran_p': moran.p_norm,  # Store p-value\n",
    "        'rss': model.ssr # For Validation\n",
    "    }"
   ]
  },
  {
   "cell_type": "code",
   "execution_count": 13,
   "metadata": {},
   "outputs": [],
   "source": [
    "def run_mgwr_regression(data_gdf, metric, predictors, coords, w, n_samples, scaler, standardize, standardize_y, scaler_y=None):\n",
    "    if standardize:\n",
    "        if scaler is None or not hasattr(scaler, 'scale_'):  # Check if scaler is fitted\n",
    "            scaler = StandardScaler().fit(data_gdf[predictors])  # Fit if not fitted\n",
    "        X = scaler.transform(data_gdf[predictors])\n",
    "    else:\n",
    "        X = data_gdf[predictors].values\n",
    "    y_raw = data_gdf[metric].values.reshape(-1, 1)  # Keep raw y for potential later use\n",
    "    y = y_raw.copy()  # Work on a copy\n",
    "    if standardize_y and scaler_y is not None:\n",
    "        if not hasattr(scaler_y, 'scale_'):  # Auto-fit if not fitted\n",
    "            scaler_y.fit(y)\n",
    "        y = scaler_y.transform(y)\n",
    "    \n",
    "    selector = Sel_BW(coords, y, X, multi=True, kernel='bisquare', fixed=False)  # Initialize bandwidth selector\n",
    "    bw = selector.search(criterion='AICc')  # Your chosen criterion\n",
    "    if bw is None or any(b > n_samples - 1 for b in bw):  # Check for invalid bandwidths\n",
    "        logger.warning(f\"Invalid bandwidths for {metric}. Falling back to half sample size.\")\n",
    "        bw = np.full(len(predictors) + 1, max(2, n_samples // 2), dtype=int)  # Use fallback bandwidth\n",
    "    mgwr_model = MGWR(coords, y, X, selector, fixed=False, kernel='bisquare')  # Initialize MGWR model\n",
    "    mgwr_results_metric = mgwr_model.fit()  # Fit MGWR model\n",
    "    rss_manual = np.sum(mgwr_results_metric.resid_response ** 2)  # Manual RSS since it's not yet supported by mgwr\n",
    "    return {\n",
    "        'model': mgwr_results_metric, \n",
    "        'bandwidths': bw,\n",
    "        'rss': rss_manual\n",
    "        }"
   ]
  },
  {
   "cell_type": "code",
   "execution_count": 14,
   "metadata": {},
   "outputs": [],
   "source": [
    "def store_mgwr_results(data_gdf, metric, mgwr_results, predictor_names, standardize_y, scaler_y=None):\n",
    "    mgwr_results_metric = mgwr_results['model']\n",
    "    for i, pred in enumerate(predictor_names): # Iterate over predictors\n",
    "        data_gdf[f'{metric}_coef_{pred}'] = mgwr_results_metric.params[:, i]\n",
    "        data_gdf[f'{metric}_tval_{pred}'] = mgwr_results_metric.filter_tvals()[:, i]\n",
    "        data_gdf[f'{metric}_sig_{pred}'] = np.abs(data_gdf[f'{metric}_tval_{pred}']) > 1.96\n",
    "    y_pred = mgwr_results_metric.predy.flatten()\n",
    "    if standardize_y and scaler_y is not None:\n",
    "        y_pred = scaler_y.inverse_transform(y_pred.reshape(-1, 1)).flatten()\n",
    "    y_true = data_gdf[metric].values\n",
    "    local_r2_proxy = np.corrcoef(y_true, y_pred)[0, 1] ** 2 # Compute local R² proxy\n",
    "    data_gdf[f'{metric}_localR2_proxy'] = local_r2_proxy"
   ]
  },
  {
   "cell_type": "markdown",
   "metadata": {},
   "source": [
    "### 2.2 Model Diagnostics\n",
    "Check multicollinearity via VIF (threshold >5 suggests issues) to ensure reliable coefficients. \n",
    "\n",
    "Note: High correlation (-0.79) between `pisi_mean` and `ndvi_mean` observed; `pisi_mean` retained for its imperviousness effect, with local significance monitored."
   ]
  },
  {
   "cell_type": "code",
   "execution_count": 15,
   "metadata": {},
   "outputs": [
    {
     "name": "stdout",
     "output_type": "stream",
     "text": [
      "VIF Results:\n",
      "               feature       VIF\n",
      "0         log_area_m2  1.657537\n",
      "1           ndvi_mean  2.869838\n",
      "2           pisi_mean  2.816772\n",
      "3                 LSI  1.184877\n",
      "4    building_density  1.320755\n",
      "5  building_proximity  1.706075\n"
     ]
    },
    {
     "data": {
      "image/png": "[encoded data removed]",
      "text/plain": [
       "<Figure size 800x600 with 2 Axes>"
      ]
     },
     "metadata": {},
     "output_type": "display_data"
    }
   ],
   "source": [
    "# Compute VIF for predictors\n",
    "X_vif = sm.add_constant(data_gdf[predictors])\n",
    "vif_data = pd.DataFrame()\n",
    "vif_data['feature'] = predictors\n",
    "vif_data['VIF'] = [variance_inflation_factor(X_vif.values, i+1) for i in range(len(predictors))]\n",
    "print(\"VIF Results:\\n\", vif_data)\n",
    "\n",
    "# Correlation heatmap\n",
    "plt.figure(figsize=(8, 6))\n",
    "sns.heatmap(data_gdf[predictors].corr(), annot=True, cmap='coolwarm', fmt='.2f')\n",
    "plt.title('Predictor Correlation Heatmap')\n",
    "plt.show()\n",
    "# Logic: High VIF (>5) or correlations (>0.7) may bias coefficients; informs interaction terms."
   ]
  },
  {
   "cell_type": "code",
   "execution_count": 16,
   "metadata": {},
   "outputs": [],
   "source": [
    "# Use original predictors\n",
    "predictors = ['log_area_m2', 'ndvi_mean', 'pisi_mean', 'LSI', 'building_density', 'building_proximity']\n",
    "\n",
    "# Refit scaler with updated predictors\n",
    "if standardize:\n",
    "    scaler.fit(data_gdf[predictors])\n",
    "    X = scaler.transform(data_gdf[predictors])\n",
    "else:\n",
    "    X = data_gdf[predictors].values\n",
    "\n",
    "# Update predictor names including constant\n",
    "predictor_names = ['const'] + predictors\n",
    "\n",
    "# Redefine spatial weights for consistency\n",
    "w = KNN.from_dataframe(data_gdf, k=4)\n",
    "w.transform = 'r'"
   ]
  },
  {
   "cell_type": "markdown",
   "metadata": {},
   "source": [
    "### 2.3 Model Runs\n"
   ]
  },
  {
   "cell_type": "markdown",
   "metadata": {},
   "source": [
    "Perform OLS and MGWR to quantify relationships with predictors, including interactions. Uses Bi-square kernel, AICc for bandwidth optimization, per [Huand et al., 2025](https://www.nature.com/articles/s41598-025-07904-8)"
   ]
  },
  {
   "cell_type": "markdown",
   "metadata": {},
   "source": [
    "#### 2.3.1 PCI"
   ]
  },
  {
   "cell_type": "code",
   "execution_count": 17,
   "metadata": {},
   "outputs": [
    {
     "name": "stdout",
     "output_type": "stream",
     "text": [
      "\n",
      "OLS Summary for PCI:\n",
      "                            OLS Regression Results                            \n",
      "==============================================================================\n",
      "Dep. Variable:                      y   R-squared:                       0.330\n",
      "Model:                            OLS   Adj. R-squared:                  0.309\n",
      "Method:                 Least Squares   F-statistic:                     15.38\n",
      "Date:                Sun, 03 Aug 2025   Prob (F-statistic):           2.63e-14\n",
      "Time:                        17:25:44   Log-Likelihood:                -230.00\n",
      "No. Observations:                 194   AIC:                             474.0\n",
      "Df Residuals:                     187   BIC:                             496.9\n",
      "Df Model:                           6                                         \n",
      "Covariance Type:            nonrobust                                         \n",
      "==============================================================================\n",
      "                 coef    std err          t      P>|t|      [0.025      0.975]\n",
      "------------------------------------------------------------------------------\n",
      "const         -3.1167      0.653     -4.770      0.000      -4.406      -1.828\n",
      "x1             0.4147      0.068      6.057      0.000       0.280       0.550\n",
      "x2            13.7894      2.789      4.944      0.000       8.287      19.292\n",
      "x3             3.6245      1.410      2.570      0.011       0.842       6.407\n",
      "x4            -0.4805      0.350     -1.373      0.171      -1.171       0.210\n",
      "x5            -0.0157      0.008     -1.866      0.064      -0.032       0.001\n",
      "x6            -0.0185      0.006     -2.918      0.004      -0.031      -0.006\n",
      "==============================================================================\n",
      "Omnibus:                       28.336   Durbin-Watson:                   1.910\n",
      "Prob(Omnibus):                  0.000   Jarque-Bera (JB):               69.451\n",
      "Skew:                           0.625   Prob(JB):                     8.29e-16\n",
      "Kurtosis:                       5.652   Cond. No.                     2.02e+03\n",
      "==============================================================================\n",
      "\n",
      "Notes:\n",
      "[1] Standard Errors assume that the covariance matrix of the errors is correctly specified.\n",
      "[2] The condition number is large, 2.02e+03. This might indicate that there are\n",
      "strong multicollinearity or other numerical problems.\n",
      "Moran's I for residuals: 0.0841, p-value: 0.0560\n",
      "OLS AIC: 474.0068\n"
     ]
    }
   ],
   "source": [
    "# Run OLS regression for PCI\n",
    "ols_pci = run_ols_regression(data_gdf, 'PCI', predictors, w, scaler, standardize, standardize_y, scaler_y_dict.get('PCI'))\n",
    "print(f\"\\nOLS Summary for PCI:\\n{ols_pci['summary']}\")\n",
    "print(f\"Moran's I for residuals: {ols_pci['moran_i']:.4f}, p-value: {ols_pci['moran_p']:.4f}\")\n",
    "print(f\"OLS AIC: {ols_pci['model'].aic:.4f}\")\n",
    "# Logic: OLS as baseline; Moran's I tests spatial autocorrelation."
   ]
  },
  {
   "cell_type": "code",
   "execution_count": 18,
   "metadata": {},
   "outputs": [
    {
     "data": {
      "application/vnd.jupyter.widget-view+json": {
       "model_id": "3bcf61b0458c430ebc9ce4b5b4ab8d1b",
       "version_major": 2,
       "version_minor": 0
      },
      "text/plain": [
       "Backfitting:   0%|          | 0/200 [00:00<?, ?it/s]"
      ]
     },
     "metadata": {},
     "output_type": "display_data"
    },
    {
     "data": {
      "application/vnd.jupyter.widget-view+json": {
       "model_id": "48f71f76587f414991e0c67facc61724",
       "version_major": 2,
       "version_minor": 0
      },
      "text/plain": [
       "Inference:   0%|          | 0/1 [00:00<?, ?it/s]"
      ]
     },
     "metadata": {},
     "output_type": "display_data"
    },
    {
     "name": "stdout",
     "output_type": "stream",
     "text": [
      "MGWR Optimal Bandwidths for PCI: [193. 193.  50. 193. 193. 193. 186.]\n",
      "MGWR Summary for PCI:\n",
      "Global R2: 0.4160\n",
      "MGWR AIC: 468.9957\n"
     ]
    }
   ],
   "source": [
    "# Run MGWR regression for PCI\n",
    "mgwr_pci = run_mgwr_regression(data_gdf, 'PCI', predictors, coords, w, len(data_gdf), scaler, standardize, standardize_y, scaler_y_dict.get('PCI'))\n",
    "print(f\"MGWR Optimal Bandwidths for PCI: {mgwr_pci['bandwidths']}\")\n",
    "print(f\"MGWR Summary for PCI:\")\n",
    "print(f\"Global R2: {mgwr_pci['model'].R2:.4f}\")\n",
    "print(f\"MGWR AIC: {mgwr_pci['model'].aic:.4f}\")"
   ]
  },
  {
   "cell_type": "code",
   "execution_count": 19,
   "metadata": {},
   "outputs": [
    {
     "name": "stdout",
     "output_type": "stream",
     "text": [
      "Local R2 Proxy: 0.4179\n"
     ]
    }
   ],
   "source": [
    "# Store MGWR results for PCI\n",
    "store_mgwr_results(data_gdf, 'PCI', mgwr_pci, predictor_names, standardize_y, scaler_y_dict.get('PCI'))\n",
    "print(f\"Local R2 Proxy: {data_gdf['PCI_localR2_proxy'].mean():.4f}\")\n",
    "# Logic: Store coefficients and significance; local R² proxy evaluates fit."
   ]
  },
  {
   "cell_type": "code",
   "execution_count": 20,
   "metadata": {},
   "outputs": [
    {
     "data": {
      "image/png": "[encoded data removed]",
      "text/plain": [
       "<Figure size 800x600 with 1 Axes>"
      ]
     },
     "metadata": {},
     "output_type": "display_data"
    }
   ],
   "source": [
    "# MGWR residuals vs. fitted values\n",
    "mgwr_residuals = data_gdf['PCI'] - mgwr_pci['model'].predy.flatten()\n",
    "plt.figure(figsize=(8, 6))\n",
    "plt.scatter(mgwr_pci['model'].predy.flatten(), mgwr_residuals, c='blue', alpha=0.5)\n",
    "plt.axhline(0, color='red', linestyle='--')\n",
    "plt.xlabel('Fitted Values')\n",
    "plt.ylabel('MGWR Residuals')\n",
    "plt.title('MGWR Residuals vs. Fitted Values for PCI')\n",
    "plt.show()\n",
    "\n"
   ]
  },
  {
   "cell_type": "markdown",
   "metadata": {},
   "source": [
    "Assessment: \n",
    "- Linearity: No curved pattern.\n",
    "- Homoscedasticity: Constant variance.\n",
    "- Independence: Random scatter, no clustering.\n",
    "- Outliers: Minimal, unlikely to bias results."
   ]
  },
  {
   "cell_type": "markdown",
   "metadata": {},
   "source": [
    "#### 2.3.2 PCA"
   ]
  },
  {
   "cell_type": "code",
   "execution_count": 21,
   "metadata": {},
   "outputs": [
    {
     "name": "stdout",
     "output_type": "stream",
     "text": [
      "\n",
      "OLS Summary for PCA:\n",
      "                            OLS Regression Results                            \n",
      "==============================================================================\n",
      "Dep. Variable:                      y   R-squared:                       0.463\n",
      "Model:                            OLS   Adj. R-squared:                  0.446\n",
      "Method:                 Least Squares   F-statistic:                     26.91\n",
      "Date:                Sun, 03 Aug 2025   Prob (F-statistic):           5.30e-23\n",
      "Time:                        17:28:44   Log-Likelihood:                -2124.5\n",
      "No. Observations:                 194   AIC:                             4263.\n",
      "Df Residuals:                     187   BIC:                             4286.\n",
      "Df Model:                           6                                         \n",
      "Covariance Type:            nonrobust                                         \n",
      "==============================================================================\n",
      "                 coef    std err          t      P>|t|      [0.025      0.975]\n",
      "------------------------------------------------------------------------------\n",
      "const      -5.972e+04   1.14e+04     -5.247      0.000   -8.22e+04   -3.73e+04\n",
      "x1          1.031e+04   1192.604      8.643      0.000    7955.107    1.27e+04\n",
      "x2          8.228e+04   4.86e+04      1.694      0.092   -1.36e+04    1.78e+05\n",
      "x3          7.813e+04   2.46e+04      3.180      0.002    2.97e+04    1.27e+05\n",
      "x4          1.586e+04   6096.425      2.602      0.010    3836.725    2.79e+04\n",
      "x5           -23.8848    146.971     -0.163      0.871    -313.820     266.050\n",
      "x6            49.7841    110.453      0.451      0.653    -168.111     267.679\n",
      "==============================================================================\n",
      "Omnibus:                       10.627   Durbin-Watson:                   2.178\n",
      "Prob(Omnibus):                  0.005   Jarque-Bera (JB):               11.457\n",
      "Skew:                          -0.585   Prob(JB):                      0.00325\n",
      "Kurtosis:                       2.784   Cond. No.                     2.02e+03\n",
      "==============================================================================\n",
      "\n",
      "Notes:\n",
      "[1] Standard Errors assume that the covariance matrix of the errors is correctly specified.\n",
      "[2] The condition number is large, 2.02e+03. This might indicate that there are\n",
      "strong multicollinearity or other numerical problems.\n",
      "Moran's I for residuals: 0.0875, p-value: 0.0473\n",
      "OLS AIC: 4262.9387\n"
     ]
    }
   ],
   "source": [
    "# Run OLS and MGWR for PCA\n",
    "ols_pca = run_ols_regression(data_gdf, 'PCA', predictors, w, scaler, standardize, standardize_y, scaler_y_dict.get('PCA'))\n",
    "print(f\"\\nOLS Summary for PCA:\\n{ols_pca['summary']}\")\n",
    "print(f\"Moran's I for residuals: {ols_pca['moran_i']:.4f}, p-value: {ols_pca['moran_p']:.4f}\")\n",
    "print(f\"OLS AIC: {ols_pca['model'].aic:.4f}\")"
   ]
  },
  {
   "cell_type": "code",
   "execution_count": 22,
   "metadata": {},
   "outputs": [
    {
     "data": {
      "application/vnd.jupyter.widget-view+json": {
       "model_id": "762134273b0b498598a17f95849b882f",
       "version_major": 2,
       "version_minor": 0
      },
      "text/plain": [
       "Backfitting:   0%|          | 0/200 [00:00<?, ?it/s]"
      ]
     },
     "metadata": {},
     "output_type": "display_data"
    },
    {
     "data": {
      "application/vnd.jupyter.widget-view+json": {
       "model_id": "133e3a66bbcc413d93c1397362c984a9",
       "version_major": 2,
       "version_minor": 0
      },
      "text/plain": [
       "Inference:   0%|          | 0/1 [00:00<?, ?it/s]"
      ]
     },
     "metadata": {},
     "output_type": "display_data"
    },
    {
     "name": "stdout",
     "output_type": "stream",
     "text": [
      "\n",
      "MGWR Optimal Bandwidths for PCA: [193. 193. 193. 193. 193. 193. 129.]\n",
      "MGWR Summary for PCA:\n",
      "Global R2: 0.4817\n",
      "MGWR AIC: 4265.3447\n"
     ]
    }
   ],
   "source": [
    "mgwr_pca = run_mgwr_regression(data_gdf, 'PCA', predictors, coords, w, len(data_gdf), scaler, standardize, standardize_y, scaler_y_dict.get('PCA'))\n",
    "print(f\"\\nMGWR Optimal Bandwidths for PCA: {mgwr_pca['bandwidths']}\")\n",
    "print(f\"MGWR Summary for PCA:\")\n",
    "print(f\"Global R2: {mgwr_pca['model'].R2:.4f}\")\n",
    "print(f\"MGWR AIC: {mgwr_pca['model'].aic:.4f}\")"
   ]
  },
  {
   "cell_type": "code",
   "execution_count": 23,
   "metadata": {},
   "outputs": [
    {
     "name": "stdout",
     "output_type": "stream",
     "text": [
      "Local R2 Proxy: 0.4818\n"
     ]
    }
   ],
   "source": [
    "\n",
    "store_mgwr_results(data_gdf, 'PCA', mgwr_pca, predictor_names, standardize_y, scaler_y_dict.get('PCA'))\n",
    "print(f\"Local R2 Proxy: {data_gdf['PCA_localR2_proxy'].mean():.4f}\")\n"
   ]
  },
  {
   "cell_type": "code",
   "execution_count": 24,
   "metadata": {},
   "outputs": [
    {
     "data": {
      "image/png": "[encoded data removed]",
      "text/plain": [
       "<Figure size 800x600 with 1 Axes>"
      ]
     },
     "metadata": {},
     "output_type": "display_data"
    }
   ],
   "source": [
    "# PCA residuals\n",
    "mgwr_residuals_pca = data_gdf['PCA'] - mgwr_pca['model'].predy.flatten()\n",
    "plt.figure(figsize=(8, 6))\n",
    "plt.scatter(mgwr_pca['model'].predy.flatten(), mgwr_residuals_pca, c='blue', alpha=0.5)\n",
    "plt.axhline(0, color='red', linestyle='--')\n",
    "plt.xlabel('Fitted Values')\n",
    "plt.ylabel('MGWR Residuals')\n",
    "plt.title('MGWR Residuals vs. Fitted Values for PCA')\n",
    "plt.show()"
   ]
  },
  {
   "cell_type": "markdown",
   "metadata": {},
   "source": [
    "Assessment: \n",
    "- Linearity: Random distribution.\n",
    "- Homoscedasticity: Mild heteroscedasticity (spread increases slightly).\n",
    "- Outliers: A few large residuals at high fitted values may indicate over-prediction for large parks."
   ]
  },
  {
   "cell_type": "markdown",
   "metadata": {},
   "source": [
    "#### 2.3.3 PCE"
   ]
  },
  {
   "cell_type": "code",
   "execution_count": 25,
   "metadata": {},
   "outputs": [
    {
     "name": "stdout",
     "output_type": "stream",
     "text": [
      "\n",
      "OLS Summary for PCE:\n",
      "                            OLS Regression Results                            \n",
      "==============================================================================\n",
      "Dep. Variable:                      y   R-squared:                       0.583\n",
      "Model:                            OLS   Adj. R-squared:                  0.570\n",
      "Method:                 Least Squares   F-statistic:                     43.61\n",
      "Date:                Sun, 03 Aug 2025   Prob (F-statistic):           4.54e-33\n",
      "Time:                        17:30:18   Log-Likelihood:                -601.50\n",
      "No. Observations:                 194   AIC:                             1217.\n",
      "Df Residuals:                     187   BIC:                             1240.\n",
      "Df Model:                           6                                         \n",
      "Covariance Type:            nonrobust                                         \n",
      "==============================================================================\n",
      "                 coef    std err          t      P>|t|      [0.025      0.975]\n",
      "------------------------------------------------------------------------------\n",
      "const         57.4959      4.435     12.966      0.000      48.748      66.244\n",
      "x1            -5.9168      0.465    -12.734      0.000      -6.833      -5.000\n",
      "x2            34.0987     18.929      1.801      0.073      -3.243      71.440\n",
      "x3            32.2256      9.572      3.367      0.001      13.342      51.109\n",
      "x4             2.1242      2.375      0.894      0.372      -2.562       6.810\n",
      "x5             0.0283      0.057      0.494      0.622      -0.085       0.141\n",
      "x6             0.0842      0.043      1.956      0.052      -0.001       0.169\n",
      "==============================================================================\n",
      "Omnibus:                       38.409   Durbin-Watson:                   2.138\n",
      "Prob(Omnibus):                  0.000   Jarque-Bera (JB):               70.277\n",
      "Skew:                           0.984   Prob(JB):                     5.49e-16\n",
      "Kurtosis:                       5.196   Cond. No.                     2.02e+03\n",
      "==============================================================================\n",
      "\n",
      "Notes:\n",
      "[1] Standard Errors assume that the covariance matrix of the errors is correctly specified.\n",
      "[2] The condition number is large, 2.02e+03. This might indicate that there are\n",
      "strong multicollinearity or other numerical problems.\n",
      "Moran's I for residuals: -0.0397, p-value: 0.4594\n",
      "OLS AIC: 1217.0062\n"
     ]
    }
   ],
   "source": [
    "# Run OLS and MGWR for PCE\n",
    "ols_pce = run_ols_regression(data_gdf, 'PCE', predictors, w, scaler, standardize, standardize_y, scaler_y_dict.get('PCE'))\n",
    "print(f\"\\nOLS Summary for PCE:\\n{ols_pce['summary']}\")\n",
    "print(f\"Moran's I for residuals: {ols_pce['moran_i']:.4f}, p-value: {ols_pce['moran_p']:.4f}\")\n",
    "print(f\"OLS AIC: {ols_pce['model'].aic:.4f}\")"
   ]
  },
  {
   "cell_type": "code",
   "execution_count": 26,
   "metadata": {},
   "outputs": [
    {
     "data": {
      "application/vnd.jupyter.widget-view+json": {
       "model_id": "ca01960987484d54883a7ec94409d715",
       "version_major": 2,
       "version_minor": 0
      },
      "text/plain": [
       "Backfitting:   0%|          | 0/200 [00:00<?, ?it/s]"
      ]
     },
     "metadata": {},
     "output_type": "display_data"
    },
    {
     "data": {
      "application/vnd.jupyter.widget-view+json": {
       "model_id": "a10641458f33411a9c4cf5277e74b307",
       "version_major": 2,
       "version_minor": 0
      },
      "text/plain": [
       "Inference:   0%|          | 0/1 [00:00<?, ?it/s]"
      ]
     },
     "metadata": {},
     "output_type": "display_data"
    },
    {
     "name": "stdout",
     "output_type": "stream",
     "text": [
      "\n",
      "MGWR Optimal Bandwidths for PCE: [193. 193. 193. 193. 193. 193. 193.]\n",
      "MGWR Summary for PCE:\n",
      "Global R2: 0.5859\n",
      "MGWR AIC: 1221.2717\n"
     ]
    }
   ],
   "source": [
    "mgwr_pce = run_mgwr_regression(data_gdf, 'PCE', predictors, coords, w, len(data_gdf), scaler, standardize, standardize_y, scaler_y_dict.get('PCE'))\n",
    "print(f\"\\nMGWR Optimal Bandwidths for PCE: {mgwr_pce['bandwidths']}\")\n",
    "print(f\"MGWR Summary for PCE:\")\n",
    "print(f\"Global R2: {mgwr_pce['model'].R2:.4f}\")\n",
    "print(f\"MGWR AIC: {mgwr_pce['model'].aic:.4f}\")"
   ]
  },
  {
   "cell_type": "code",
   "execution_count": 27,
   "metadata": {},
   "outputs": [
    {
     "name": "stdout",
     "output_type": "stream",
     "text": [
      "Local R2 Proxy: 0.5862\n"
     ]
    }
   ],
   "source": [
    "store_mgwr_results(data_gdf, 'PCE', mgwr_pce, predictor_names, standardize_y, scaler_y_dict.get('PCE'))\n",
    "print(f\"Local R2 Proxy: {data_gdf['PCE_localR2_proxy'].mean():.4f}\")"
   ]
  },
  {
   "cell_type": "code",
   "execution_count": 28,
   "metadata": {},
   "outputs": [
    {
     "data": {
      "image/png": "[encoded data removed]",
      "text/plain": [
       "<Figure size 800x600 with 1 Axes>"
      ]
     },
     "metadata": {},
     "output_type": "display_data"
    }
   ],
   "source": [
    "# PCE residuals\n",
    "mgwr_residuals_pce = data_gdf['PCE'] - mgwr_pce['model'].predy.flatten()\n",
    "plt.figure(figsize=(8, 6))\n",
    "plt.scatter(mgwr_pce['model'].predy.flatten(), mgwr_residuals_pce, c='blue', alpha=0.5)\n",
    "plt.axhline(0, color='red', linestyle='--')\n",
    "plt.xlabel('Fitted Values')\n",
    "plt.ylabel('MGWR Residuals')\n",
    "plt.title('MGWR Residuals vs. Fitted Values for PCE')\n",
    "plt.show()\n",
    "# Logic: Ensure model assumptions hold for PCA and PCE."
   ]
  },
  {
   "cell_type": "markdown",
   "metadata": {},
   "source": [
    "Assessment: \n",
    "- Linearity: No pattern, indicating good fit.\n",
    "- Homoscedasticity: Potential heteroscedasticity (increasing spread).\n",
    "- Outliers: Several positive residuals at high fitted values, possibly skewing efficiency."
   ]
  },
  {
   "cell_type": "markdown",
   "metadata": {},
   "source": [
    "### 2.4 Internal Impact"
   ]
  },
  {
   "cell_type": "markdown",
   "metadata": {},
   "source": [
    "Repeat analysis for lst_reduction to measure internal impact factors, using existing predictors and settings."
   ]
  },
  {
   "cell_type": "code",
   "execution_count": 29,
   "metadata": {},
   "outputs": [
    {
     "name": "stdout",
     "output_type": "stream",
     "text": [
      "OLS Summary for lst_reduction:\n",
      "                            OLS Regression Results                            \n",
      "==============================================================================\n",
      "Dep. Variable:                      y   R-squared:                       0.407\n",
      "Model:                            OLS   Adj. R-squared:                  0.388\n",
      "Method:                 Least Squares   F-statistic:                     21.39\n",
      "Date:                Sun, 03 Aug 2025   Prob (F-statistic):           4.68e-19\n",
      "Time:                        17:31:26   Log-Likelihood:                -182.74\n",
      "No. Observations:                 194   AIC:                             379.5\n",
      "Df Residuals:                     187   BIC:                             402.3\n",
      "Df Model:                           6                                         \n",
      "Covariance Type:            nonrobust                                         \n",
      "==============================================================================\n",
      "                 coef    std err          t      P>|t|      [0.025      0.975]\n",
      "------------------------------------------------------------------------------\n",
      "const         -3.0793      0.512     -6.013      0.000      -4.090      -2.069\n",
      "x1             0.4013      0.054      7.478      0.000       0.295       0.507\n",
      "x2            11.5081      2.186      5.264      0.000       7.196      15.821\n",
      "x3             2.9193      1.105      2.641      0.009       0.738       5.100\n",
      "x4            -0.5271      0.274     -1.921      0.056      -1.068       0.014\n",
      "x5            -0.0099      0.007     -1.504      0.134      -0.023       0.003\n",
      "x6            -0.0119      0.005     -2.399      0.017      -0.022      -0.002\n",
      "==============================================================================\n",
      "Omnibus:                       81.466   Durbin-Watson:                   1.899\n",
      "Prob(Omnibus):                  0.000   Jarque-Bera (JB):              631.569\n",
      "Skew:                           1.365   Prob(JB):                    7.19e-138\n",
      "Kurtosis:                      11.407   Cond. No.                     2.02e+03\n",
      "==============================================================================\n",
      "\n",
      "Notes:\n",
      "[1] Standard Errors assume that the covariance matrix of the errors is correctly specified.\n",
      "[2] The condition number is large, 2.02e+03. This might indicate that there are\n",
      "strong multicollinearity or other numerical problems.\n",
      "Moran's I for residuals: 0.0918, p-value: 0.0378\n",
      "OLS AIC: 379.4730\n"
     ]
    }
   ],
   "source": [
    "# Run OLS and MGWR for lst_reduction without interactions\n",
    "ols_lst = run_ols_regression(data_gdf, 'lst_reduction', predictors, w, scaler, standardize, standardize_y, scaler_y_dict.get('lst_reduction'))\n",
    "print(\"OLS Summary for lst_reduction:\")\n",
    "print(ols_lst['summary'])\n",
    "print(f\"Moran's I for residuals: {ols_lst['moran_i']:.4f}, p-value: {ols_lst['moran_p']:.4f}\")\n",
    "print(f\"OLS AIC: {ols_lst['model'].aic:.4f}\")"
   ]
  },
  {
   "cell_type": "code",
   "execution_count": 30,
   "metadata": {},
   "outputs": [
    {
     "data": {
      "application/vnd.jupyter.widget-view+json": {
       "model_id": "d1ae09f25ce54e64b3bd436cb04f1fcf",
       "version_major": 2,
       "version_minor": 0
      },
      "text/plain": [
       "Backfitting:   0%|          | 0/200 [00:00<?, ?it/s]"
      ]
     },
     "metadata": {},
     "output_type": "display_data"
    }
   ],
   "source": [
    "mgwr_lst = run_mgwr_regression(data_gdf, 'lst_reduction', predictors, coords, w, len(data_gdf), scaler, standardize, standardize_y, scaler_y_dict.get('lst_reduction'))\n",
    "print(f\"\\nMGWR Optimal Bandwidths for lst_reduction: {mgwr_lst['bandwidths']}\")\n",
    "print(f\"MGWR Summary for lst_reduction:\")\n",
    "print(f\"Global R2: {mgwr_lst['model'].R2:.4f}\")\n",
    "print(f\"MGWR AIC: {mgwr_lst['model'].aic:.4f}\")"
   ]
  },
  {
   "cell_type": "code",
   "execution_count": null,
   "metadata": {},
   "outputs": [],
   "source": [
    "# Store MGWR results for lst_reduction\n",
    "store_mgwr_results(data_gdf, 'lst_reduction', mgwr_lst, predictor_names, standardize_y, scaler_y_dict.get('lst_reduction'))\n",
    "print(f\"Local R2 Proxy: {data_gdf['lst_reduction_localR2_proxy'].mean():.4f}\")"
   ]
  },
  {
   "cell_type": "code",
   "execution_count": null,
   "metadata": {},
   "outputs": [],
   "source": [
    "# MGWR residuals vs. fitted values for lst_reduction\n",
    "mgwr_residuals_lst = data_gdf['lst_reduction'] - mgwr_lst['model'].predy.flatten()\n",
    "plt.figure(figsize=(8, 6))\n",
    "plt.scatter(mgwr_lst['model'].predy.flatten(), mgwr_residuals_lst, c='blue', alpha=0.5)\n",
    "plt.axhline(0, color='red', linestyle='--')\n",
    "plt.xlabel('Fitted Values')\n",
    "plt.ylabel('MGWR Residuals')\n",
    "plt.title('MGWR Residuals vs. Fitted Values for lst_reduction')\n",
    "plt.show()"
   ]
  },
  {
   "cell_type": "markdown",
   "metadata": {},
   "source": [
    "Assessment: \n",
    "- Linearity: No pattern, indicating good fit.\n",
    "- Homoscedasticity: Even spread, minimal variance change.\n",
    "- Independence: Random scatter, no clustering.\n",
    "- Outliers: Minor (one at ~2)."
   ]
  },
  {
   "cell_type": "markdown",
   "metadata": {},
   "source": [
    "## 3. Data Export\n",
    "Export results with coefficients and significance for QGIS visualization."
   ]
  },
  {
   "cell_type": "code",
   "execution_count": null,
   "metadata": {},
   "outputs": [],
   "source": [
    "# Drop centroid column to avoid multiple geometry columns\n",
    "data_gdf = data_gdf.drop(columns=['centroid'])\n",
    "\n",
    "# Export for visualization\n",
    "data_gdf.to_file('Data/Riyadh_parks_with_all_variables_raw_nostandarization.geojson', driver='GeoJSON')\n",
    "print(\"Exported data to 'Riyadh_parks_with_all_variables.geojson' for QGIS visualization.\")\n"
   ]
  },
  {
   "cell_type": "markdown",
   "metadata": {},
   "source": [
    "## 4. Cross Validation\n"
   ]
  },
  {
   "cell_type": "markdown",
   "metadata": {},
   "source": [
    "Cross-validation (5-fold) was added to validate model generalizability."
   ]
  },
  {
   "cell_type": "code",
   "execution_count": 71,
   "metadata": {},
   "outputs": [],
   "source": [
    "## For Cross validation\n",
    "\n",
    "def cross_validate_model(data_gdf, metric, predictors, coords, w, scaler, standardize, standardize_y, scaler_y=None, model_type='ols', n_folds=5):\n",
    "    kf = KFold(n_splits=n_folds, shuffle=False)  # Non-shuffled for spatial-ish order\n",
    "    mse_scores = []\n",
    "    r2_scores = []\n",
    "    \n",
    "    for train_idx, test_idx in kf.split(data_gdf):\n",
    "        train_gdf = data_gdf.iloc[train_idx]\n",
    "        test_gdf = data_gdf.iloc[test_idx]\n",
    "        \n",
    "        # Extract train/test coords and weights (refit weights on train)\n",
    "        train_coords = np.array(list(zip(train_gdf.centroid.x, train_gdf.centroid.y)))\n",
    "        test_coords = np.array(list(zip(test_gdf.centroid.x, test_gdf.centroid.y)))\n",
    "        train_w = KNN.from_dataframe(train_gdf, k=4)\n",
    "        train_w.transform = 'r'\n",
    "        \n",
    "        # Prepare data\n",
    "        X_train = scaler.transform(train_gdf[predictors]) if standardize else train_gdf[predictors].values\n",
    "        X_test = scaler.transform(test_gdf[predictors]) if standardize else test_gdf[predictors].values\n",
    "        y_train = train_gdf[metric].values.reshape(-1, 1)\n",
    "        y_test = test_gdf[metric].values\n",
    "        \n",
    "        if standardize_y and scaler_y is not None:\n",
    "            y_train = scaler_y.fit_transform(y_train)  # Fit scaler_y on train data only\n",
    "            y_test = scaler_y.transform(y_test.reshape(-1, 1)).flatten()\n",
    "        \n",
    "        if model_type == 'ols':\n",
    "            X_train_ols = sm.add_constant(X_train)\n",
    "            model = sm.OLS(y_train.flatten(), X_train_ols).fit()\n",
    "            X_test_ols = sm.add_constant(X_test)\n",
    "            y_pred = model.predict(X_test_ols)\n",
    "        elif model_type == 'mgwr':\n",
    "            # Fit MGWR on train (as is)\n",
    "            selector = Sel_BW(train_coords, y_train, X_train, multi=True, kernel='bisquare', fixed=False)\n",
    "            bw = selector.search(criterion='AICc')\n",
    "            if bw is None or any(b > len(train_gdf) - 1 for b in bw):\n",
    "                bw = np.full(len(predictors) + 1, max(2, len(train_gdf) // 2), dtype=int)\n",
    "            mgwr_model = MGWR(train_coords, y_train, X_train, selector, fixed=False, kernel='bisquare')\n",
    "            mgwr_results = mgwr_model.fit()\n",
    "            \n",
    "            # For prediction: Approximate with average bw and weighted OLS per test point\n",
    "            avg_bw = np.mean(bw) if isinstance(bw, np.ndarray) else bw  # Simplify multi-bw\n",
    "            y_pred = np.zeros(len(test_gdf))\n",
    "            for i, test_coord in enumerate(test_coords):\n",
    "                distances = cdist([test_coord], train_coords)[0]\n",
    "                weights = (1 - (distances / avg_bw) ** 2) ** 2\n",
    "                weights[distances > avg_bw] = 0\n",
    "                if np.sum(weights) == 0:  # Avoid zero-weight errors\n",
    "                    weights = np.ones_like(weights) / len(weights)  # Fallback uniform\n",
    "                \n",
    "                # Fit weighted OLS at test point using train data\n",
    "                X_train_with_const = np.hstack([np.ones((len(train_gdf), 1)), X_train])\n",
    "                W = np.diag(weights)\n",
    "                beta = np.linalg.pinv(X_train_with_const.T @ W @ X_train_with_const) @ (X_train_with_const.T @ W @ y_train)\n",
    "                \n",
    "                # Predict\n",
    "                X_test_i = np.hstack([1, X_test[i]])  # Add constant for this test obs\n",
    "                y_pred[i] = (X_test_i @ beta).item()\n",
    "\n",
    "        # If standardize_y, inverse y_pred here before metrics\n",
    "        if standardize_y and scaler_y is not None:\n",
    "            y_pred = scaler_y.inverse_transform(y_pred.reshape(-1, 1)).flatten()\n",
    "        mse_scores.append(mean_squared_error(y_test, y_pred))\n",
    "        r2_scores.append(r2_score(y_test, y_pred))       \n",
    "        mse_scores.append(mean_squared_error(y_test, y_pred))\n",
    "        r2_scores.append(r2_score(y_test, y_pred))\n",
    "    \n",
    "    return {\n",
    "        'mean_mse': np.mean(mse_scores),\n",
    "        'mean_r2': np.mean(r2_scores),\n",
    "        'mse_std': np.std(mse_scores),\n",
    "        'r2_std': np.std(r2_scores)\n",
    "    }"
   ]
  },
  {
   "cell_type": "code",
   "execution_count": null,
   "metadata": {},
   "outputs": [],
   "source": [
    "# Initialize results list\n",
    "cv_results = []\n",
    "\n",
    "# Run cross-validation for each cooling metric\n",
    "for metric in cooling_metrics:\n",
    "    # OLS cross-validation\n",
    "    cv_ols = cross_validate_model(\n",
    "        data_gdf, metric, predictors, coords, w, scaler, \n",
    "        standardize, standardize_y, scaler_y_dict.get(metric), \n",
    "        model_type='ols', n_folds=5\n",
    "    )\n",
    "    # MGWR cross-validation\n",
    "    cv_mgwr = cross_validate_model(\n",
    "        data_gdf, metric, predictors, coords, w, scaler, \n",
    "        standardize, standardize_y, scaler_y_dict.get(metric), \n",
    "        model_type='mgwr', n_folds=5\n",
    "    )\n",
    "    \n",
    "    cv_results.append({\n",
    "        'Metric': metric,\n",
    "        'OLS CV Mean R²': f\"{cv_ols['mean_r2']:.4f} (±{cv_ols['r2_std']:.4f})\",\n",
    "        'OLS CV Mean MSE': f\"{cv_ols['mean_mse']:.4f} (±{cv_ols['mse_std']:.4f})\",\n",
    "        'MGWR CV Mean R²': f\"{cv_mgwr['mean_r2']:.4f} (±{cv_mgwr['r2_std']:.4f})\",\n",
    "        'MGWR CV Mean MSE': f\"{cv_mgwr['mean_mse']:.4f} (±{cv_mgwr['mse_std']:.4f})\"\n",
    "    })\n",
    "\n",
    "# Display CV results in a table\n",
    "cv_results_df = pd.DataFrame(cv_results)\n",
    "print(\"\\n### Cross-Validation Results\")\n",
    "print(cv_results_df.to_string(index=False))"
   ]
  },
  {
   "cell_type": "markdown",
   "metadata": {},
   "source": [
    "## 6. Exploration\n"
   ]
  },
  {
   "cell_type": "markdown",
   "metadata": {},
   "source": [
    "Extract Parameters:"
   ]
  },
  {
   "cell_type": "code",
   "execution_count": null,
   "metadata": {},
   "outputs": [],
   "source": [
    "# Calculate and store Moran's I for MGWR residuals of all metrics\n",
    "metrics = ['PCI', 'PCA', 'PCE', 'lst_reduction']\n",
    "mgwr_models = [mgwr_pci, mgwr_pca, mgwr_pce, mgwr_lst]\n",
    "mgwr_moran_i_dict = {}  # Initialize dictionary for Moran's I values\n",
    "mgwr_moran_p_dict = {}  # Initialize dictionary for p-values\n",
    "\n",
    "for metric, model in zip(metrics, mgwr_models):\n",
    "    # Extract MGWR residuals\n",
    "    mgwr_residuals = model['model'].resid_response\n",
    "    # Compute Moran's I using the spatial weights matrix w\n",
    "    moran = Moran(mgwr_residuals, w)\n",
    "    mgwr_moran_i_dict[metric] = moran.I  # Store Moran's I\n",
    "    mgwr_moran_p_dict[metric] = moran.p_norm  # Store p-value\n",
    "    print(f\"MGWR Moran's I for {metric} residuals: {moran.I:.4f} (p-value: {moran.p_norm:.4f})\")\n",
    "#  Compute and store Moran's I to validate MGWR's reduction of spatial autocorrelation for dynamic table use."
   ]
  },
  {
   "cell_type": "code",
   "execution_count": null,
   "metadata": {},
   "outputs": [],
   "source": [
    "# Generate Table 3: Model Parameters Summary\n",
    "metrics = ['PCI', 'PCA', 'PCE', 'lst_reduction']\n",
    "ols_models = [ols_pci, ols_pca, ols_pce, ols_lst]  # OLS objects\n",
    "mgwr_models = [mgwr_pci, mgwr_pca, mgwr_pce, mgwr_lst]  # MGWR objects\n",
    "\n",
    "# Ensure Moran’s I dictionaries are populated (run the above cell first)\n",
    "if not mgwr_moran_i_dict or not mgwr_moran_p_dict:\n",
    "    raise ValueError(\"Moran's I dictionaries are not populated. Run the Moran’s I calculation cell first.\")\n",
    "\n",
    "# Extract parameters with rounding\n",
    "data = {\n",
    "    'Metric': metrics,\n",
    "    'OLS R²': [round(m['model'].rsquared, 3) for m in ols_models],\n",
    "    'MGWR R²': [round(m['model'].R2, 3) for m in mgwr_models],\n",
    "    'OLS AIC': [round(m['model'].aic, 3) for m in ols_models],\n",
    "    'MGWR AIC': [round(m['model'].aic, 3) for m in mgwr_models],\n",
    "    'OLS Morans I (p)': [f\"{round(m['moran_i'], 3)} ({round(m['moran_p'], 3)})\" for m in ols_models],\n",
    "    'MGWR Morans I (p)': [f\"{round(mgwr_moran_i_dict[metric], 3)} ({round(mgwr_moran_p_dict[metric], 3)})\" for metric in metrics],\n",
    "    'OLS RSS': [round(m['rss'], 3) for m in ols_models],  # Add OLS RSS\n",
    "    'MGWR RSS':  [round(m['rss'], 3) for m in mgwr_models],  # Add MGWR RSS\n",
    "}\n",
    "\n",
    "# Convert to DataFrame and print\n",
    "table_df = pd.DataFrame(data)\n",
    "print(\"\\\\nTable 3: Model Parameters Summary\\n\", table_df)\n",
    "table_df.to_csv('Table3_Model_Parameters_raw.csv', index=False)\n",
    "# Logic: Rounds all numerical outputs to 3 decimal places (except % to 1) for readability; uses dynamic MGWR Moran's I."
   ]
  },
  {
   "cell_type": "markdown",
   "metadata": {},
   "source": []
  },
  {
   "cell_type": "markdown",
   "metadata": {},
   "source": [
    "## "
   ]
  }
 ],
 "metadata": {
  "kernelspec": {
   "display_name": "env",
   "language": "python",
   "name": "python3"
  },
  "language_info": {
   "codemirror_mode": {
    "name": "ipython",
    "version": 3
   },
   "file_extension": ".py",
   "mimetype": "text/x-python",
   "name": "python",
   "nbconvert_exporter": "python",
   "pygments_lexer": "ipython3",
   "version": "3.13.0"
  }
 },
 "nbformat": 4,
 "nbformat_minor": 2
}
